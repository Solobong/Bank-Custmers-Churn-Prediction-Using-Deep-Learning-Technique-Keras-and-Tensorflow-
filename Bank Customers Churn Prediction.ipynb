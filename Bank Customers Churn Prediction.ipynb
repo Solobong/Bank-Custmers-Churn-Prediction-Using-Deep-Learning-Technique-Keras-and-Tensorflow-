{
 "cells": [
  {
   "cell_type": "code",
   "execution_count": 1,
   "id": "0b2f3900",
   "metadata": {},
   "outputs": [],
   "source": [
    "import tensorflow as tf\n",
    "import pandas as pd\n",
    "import matplotlib.pyplot as plt\n",
    "import seaborn as sn\n",
    "from tensorflow import keras\n",
    "%matplotlib inline\n",
    "import numpy as np"
   ]
  },
  {
   "cell_type": "code",
   "execution_count": 2,
   "id": "c4d9b763",
   "metadata": {},
   "outputs": [
    {
     "data": {
      "text/html": [
       "<div>\n",
       "<style scoped>\n",
       "    .dataframe tbody tr th:only-of-type {\n",
       "        vertical-align: middle;\n",
       "    }\n",
       "\n",
       "    .dataframe tbody tr th {\n",
       "        vertical-align: top;\n",
       "    }\n",
       "\n",
       "    .dataframe thead th {\n",
       "        text-align: right;\n",
       "    }\n",
       "</style>\n",
       "<table border=\"1\" class=\"dataframe\">\n",
       "  <thead>\n",
       "    <tr style=\"text-align: right;\">\n",
       "      <th></th>\n",
       "      <th>customerID</th>\n",
       "      <th>gender</th>\n",
       "      <th>SeniorCitizen</th>\n",
       "      <th>Partner</th>\n",
       "      <th>Dependents</th>\n",
       "      <th>tenure</th>\n",
       "      <th>PhoneService</th>\n",
       "      <th>MultipleLines</th>\n",
       "      <th>InternetService</th>\n",
       "      <th>OnlineSecurity</th>\n",
       "      <th>...</th>\n",
       "      <th>DeviceProtection</th>\n",
       "      <th>TechSupport</th>\n",
       "      <th>StreamingTV</th>\n",
       "      <th>StreamingMovies</th>\n",
       "      <th>Contract</th>\n",
       "      <th>PaperlessBilling</th>\n",
       "      <th>PaymentMethod</th>\n",
       "      <th>MonthlyCharges</th>\n",
       "      <th>TotalCharges</th>\n",
       "      <th>Churn</th>\n",
       "    </tr>\n",
       "  </thead>\n",
       "  <tbody>\n",
       "    <tr>\n",
       "      <th>0</th>\n",
       "      <td>7590-VHVEG</td>\n",
       "      <td>Female</td>\n",
       "      <td>0</td>\n",
       "      <td>Yes</td>\n",
       "      <td>No</td>\n",
       "      <td>1</td>\n",
       "      <td>No</td>\n",
       "      <td>No phone service</td>\n",
       "      <td>DSL</td>\n",
       "      <td>No</td>\n",
       "      <td>...</td>\n",
       "      <td>No</td>\n",
       "      <td>No</td>\n",
       "      <td>No</td>\n",
       "      <td>No</td>\n",
       "      <td>Month-to-month</td>\n",
       "      <td>Yes</td>\n",
       "      <td>Electronic check</td>\n",
       "      <td>29.85</td>\n",
       "      <td>29.85</td>\n",
       "      <td>No</td>\n",
       "    </tr>\n",
       "    <tr>\n",
       "      <th>1</th>\n",
       "      <td>5575-GNVDE</td>\n",
       "      <td>Male</td>\n",
       "      <td>0</td>\n",
       "      <td>No</td>\n",
       "      <td>No</td>\n",
       "      <td>34</td>\n",
       "      <td>Yes</td>\n",
       "      <td>No</td>\n",
       "      <td>DSL</td>\n",
       "      <td>Yes</td>\n",
       "      <td>...</td>\n",
       "      <td>Yes</td>\n",
       "      <td>No</td>\n",
       "      <td>No</td>\n",
       "      <td>No</td>\n",
       "      <td>One year</td>\n",
       "      <td>No</td>\n",
       "      <td>Mailed check</td>\n",
       "      <td>56.95</td>\n",
       "      <td>1889.5</td>\n",
       "      <td>No</td>\n",
       "    </tr>\n",
       "    <tr>\n",
       "      <th>2</th>\n",
       "      <td>3668-QPYBK</td>\n",
       "      <td>Male</td>\n",
       "      <td>0</td>\n",
       "      <td>No</td>\n",
       "      <td>No</td>\n",
       "      <td>2</td>\n",
       "      <td>Yes</td>\n",
       "      <td>No</td>\n",
       "      <td>DSL</td>\n",
       "      <td>Yes</td>\n",
       "      <td>...</td>\n",
       "      <td>No</td>\n",
       "      <td>No</td>\n",
       "      <td>No</td>\n",
       "      <td>No</td>\n",
       "      <td>Month-to-month</td>\n",
       "      <td>Yes</td>\n",
       "      <td>Mailed check</td>\n",
       "      <td>53.85</td>\n",
       "      <td>108.15</td>\n",
       "      <td>Yes</td>\n",
       "    </tr>\n",
       "    <tr>\n",
       "      <th>3</th>\n",
       "      <td>7795-CFOCW</td>\n",
       "      <td>Male</td>\n",
       "      <td>0</td>\n",
       "      <td>No</td>\n",
       "      <td>No</td>\n",
       "      <td>45</td>\n",
       "      <td>No</td>\n",
       "      <td>No phone service</td>\n",
       "      <td>DSL</td>\n",
       "      <td>Yes</td>\n",
       "      <td>...</td>\n",
       "      <td>Yes</td>\n",
       "      <td>Yes</td>\n",
       "      <td>No</td>\n",
       "      <td>No</td>\n",
       "      <td>One year</td>\n",
       "      <td>No</td>\n",
       "      <td>Bank transfer (automatic)</td>\n",
       "      <td>42.30</td>\n",
       "      <td>1840.75</td>\n",
       "      <td>No</td>\n",
       "    </tr>\n",
       "    <tr>\n",
       "      <th>4</th>\n",
       "      <td>9237-HQITU</td>\n",
       "      <td>Female</td>\n",
       "      <td>0</td>\n",
       "      <td>No</td>\n",
       "      <td>No</td>\n",
       "      <td>2</td>\n",
       "      <td>Yes</td>\n",
       "      <td>No</td>\n",
       "      <td>Fiber optic</td>\n",
       "      <td>No</td>\n",
       "      <td>...</td>\n",
       "      <td>No</td>\n",
       "      <td>No</td>\n",
       "      <td>No</td>\n",
       "      <td>No</td>\n",
       "      <td>Month-to-month</td>\n",
       "      <td>Yes</td>\n",
       "      <td>Electronic check</td>\n",
       "      <td>70.70</td>\n",
       "      <td>151.65</td>\n",
       "      <td>Yes</td>\n",
       "    </tr>\n",
       "  </tbody>\n",
       "</table>\n",
       "<p>5 rows × 21 columns</p>\n",
       "</div>"
      ],
      "text/plain": [
       "   customerID  gender  SeniorCitizen Partner Dependents  tenure PhoneService  \\\n",
       "0  7590-VHVEG  Female              0     Yes         No       1           No   \n",
       "1  5575-GNVDE    Male              0      No         No      34          Yes   \n",
       "2  3668-QPYBK    Male              0      No         No       2          Yes   \n",
       "3  7795-CFOCW    Male              0      No         No      45           No   \n",
       "4  9237-HQITU  Female              0      No         No       2          Yes   \n",
       "\n",
       "      MultipleLines InternetService OnlineSecurity  ... DeviceProtection  \\\n",
       "0  No phone service             DSL             No  ...               No   \n",
       "1                No             DSL            Yes  ...              Yes   \n",
       "2                No             DSL            Yes  ...               No   \n",
       "3  No phone service             DSL            Yes  ...              Yes   \n",
       "4                No     Fiber optic             No  ...               No   \n",
       "\n",
       "  TechSupport StreamingTV StreamingMovies        Contract PaperlessBilling  \\\n",
       "0          No          No              No  Month-to-month              Yes   \n",
       "1          No          No              No        One year               No   \n",
       "2          No          No              No  Month-to-month              Yes   \n",
       "3         Yes          No              No        One year               No   \n",
       "4          No          No              No  Month-to-month              Yes   \n",
       "\n",
       "               PaymentMethod MonthlyCharges  TotalCharges Churn  \n",
       "0           Electronic check          29.85         29.85    No  \n",
       "1               Mailed check          56.95        1889.5    No  \n",
       "2               Mailed check          53.85        108.15   Yes  \n",
       "3  Bank transfer (automatic)          42.30       1840.75    No  \n",
       "4           Electronic check          70.70        151.65   Yes  \n",
       "\n",
       "[5 rows x 21 columns]"
      ]
     },
     "execution_count": 2,
     "metadata": {},
     "output_type": "execute_result"
    }
   ],
   "source": [
    "df = pd.read_csv('Customer_churn.csv')\n",
    "df.head()"
   ]
  },
  {
   "cell_type": "code",
   "execution_count": 3,
   "id": "0c47ecb6",
   "metadata": {},
   "outputs": [
    {
     "data": {
      "text/plain": [
       "gender               object\n",
       "SeniorCitizen         int64\n",
       "Partner              object\n",
       "Dependents           object\n",
       "tenure                int64\n",
       "PhoneService         object\n",
       "MultipleLines        object\n",
       "InternetService      object\n",
       "OnlineSecurity       object\n",
       "OnlineBackup         object\n",
       "DeviceProtection     object\n",
       "TechSupport          object\n",
       "StreamingTV          object\n",
       "StreamingMovies      object\n",
       "Contract             object\n",
       "PaperlessBilling     object\n",
       "PaymentMethod        object\n",
       "MonthlyCharges      float64\n",
       "TotalCharges         object\n",
       "Churn                object\n",
       "dtype: object"
      ]
     },
     "execution_count": 3,
     "metadata": {},
     "output_type": "execute_result"
    }
   ],
   "source": [
    "df.drop('customerID', axis = 'columns', inplace = True)\n",
    "df.dtypes"
   ]
  },
  {
   "cell_type": "markdown",
   "id": "1906d103",
   "metadata": {},
   "source": [
    "### Performing Exploratory Data Analysis:\n",
    "* In building ML model, CustomerID is useless hence, it is dropped using drop and inplace = True\n",
    "* Take note of the dtypes, Objects and Floats\n",
    "* Totalcharges is Object, Monthlycharges is float which isnt supposed to be so\n",
    "* Totalcharges supposed to be a number column using pd.to_numeric\n",
    "* Tenure helps to know how many loyal customers there are"
   ]
  },
  {
   "cell_type": "code",
   "execution_count": 4,
   "id": "ff958c02",
   "metadata": {},
   "outputs": [
    {
     "data": {
      "text/plain": [
       "array(['29.85', '1889.5', '108.15', ..., '346.45', '306.6', '6844.5'],\n",
       "      dtype=object)"
      ]
     },
     "execution_count": 4,
     "metadata": {},
     "output_type": "execute_result"
    }
   ],
   "source": [
    "df.TotalCharges.values"
   ]
  },
  {
   "cell_type": "code",
   "execution_count": 5,
   "id": "0d47d065",
   "metadata": {},
   "outputs": [
    {
     "data": {
      "text/plain": [
       "array([ 29.85,  56.95,  53.85, ...,  29.6 ,  74.4 , 105.65])"
      ]
     },
     "execution_count": 5,
     "metadata": {},
     "output_type": "execute_result"
    }
   ],
   "source": [
    "df.MonthlyCharges.values"
   ]
  },
  {
   "cell_type": "markdown",
   "id": "f005c42e",
   "metadata": {},
   "source": [
    "* I can observe that the TotalCharges is in the form of a string hence, i convert it to numeric"
   ]
  },
  {
   "cell_type": "code",
   "execution_count": 6,
   "id": "07c4a8c7",
   "metadata": {},
   "outputs": [
    {
     "data": {
      "text/plain": [
       "0       False\n",
       "1       False\n",
       "2       False\n",
       "3       False\n",
       "4       False\n",
       "        ...  \n",
       "7038    False\n",
       "7039    False\n",
       "7040    False\n",
       "7041    False\n",
       "7042    False\n",
       "Name: TotalCharges, Length: 7043, dtype: bool"
      ]
     },
     "execution_count": 6,
     "metadata": {},
     "output_type": "execute_result"
    }
   ],
   "source": [
    "pd.to_numeric(df.TotalCharges, errors = 'coerce').isnull()  "
   ]
  },
  {
   "cell_type": "code",
   "execution_count": 7,
   "id": "169cde55",
   "metadata": {},
   "outputs": [
    {
     "data": {
      "text/html": [
       "<div>\n",
       "<style scoped>\n",
       "    .dataframe tbody tr th:only-of-type {\n",
       "        vertical-align: middle;\n",
       "    }\n",
       "\n",
       "    .dataframe tbody tr th {\n",
       "        vertical-align: top;\n",
       "    }\n",
       "\n",
       "    .dataframe thead th {\n",
       "        text-align: right;\n",
       "    }\n",
       "</style>\n",
       "<table border=\"1\" class=\"dataframe\">\n",
       "  <thead>\n",
       "    <tr style=\"text-align: right;\">\n",
       "      <th></th>\n",
       "      <th>gender</th>\n",
       "      <th>SeniorCitizen</th>\n",
       "      <th>Partner</th>\n",
       "      <th>Dependents</th>\n",
       "      <th>tenure</th>\n",
       "      <th>PhoneService</th>\n",
       "      <th>MultipleLines</th>\n",
       "      <th>InternetService</th>\n",
       "      <th>OnlineSecurity</th>\n",
       "      <th>OnlineBackup</th>\n",
       "      <th>DeviceProtection</th>\n",
       "      <th>TechSupport</th>\n",
       "      <th>StreamingTV</th>\n",
       "      <th>StreamingMovies</th>\n",
       "      <th>Contract</th>\n",
       "      <th>PaperlessBilling</th>\n",
       "      <th>PaymentMethod</th>\n",
       "      <th>MonthlyCharges</th>\n",
       "      <th>TotalCharges</th>\n",
       "      <th>Churn</th>\n",
       "    </tr>\n",
       "  </thead>\n",
       "  <tbody>\n",
       "    <tr>\n",
       "      <th>488</th>\n",
       "      <td>Female</td>\n",
       "      <td>0</td>\n",
       "      <td>Yes</td>\n",
       "      <td>Yes</td>\n",
       "      <td>0</td>\n",
       "      <td>No</td>\n",
       "      <td>No phone service</td>\n",
       "      <td>DSL</td>\n",
       "      <td>Yes</td>\n",
       "      <td>No</td>\n",
       "      <td>Yes</td>\n",
       "      <td>Yes</td>\n",
       "      <td>Yes</td>\n",
       "      <td>No</td>\n",
       "      <td>Two year</td>\n",
       "      <td>Yes</td>\n",
       "      <td>Bank transfer (automatic)</td>\n",
       "      <td>52.55</td>\n",
       "      <td></td>\n",
       "      <td>No</td>\n",
       "    </tr>\n",
       "    <tr>\n",
       "      <th>753</th>\n",
       "      <td>Male</td>\n",
       "      <td>0</td>\n",
       "      <td>No</td>\n",
       "      <td>Yes</td>\n",
       "      <td>0</td>\n",
       "      <td>Yes</td>\n",
       "      <td>No</td>\n",
       "      <td>No</td>\n",
       "      <td>No internet service</td>\n",
       "      <td>No internet service</td>\n",
       "      <td>No internet service</td>\n",
       "      <td>No internet service</td>\n",
       "      <td>No internet service</td>\n",
       "      <td>No internet service</td>\n",
       "      <td>Two year</td>\n",
       "      <td>No</td>\n",
       "      <td>Mailed check</td>\n",
       "      <td>20.25</td>\n",
       "      <td></td>\n",
       "      <td>No</td>\n",
       "    </tr>\n",
       "    <tr>\n",
       "      <th>936</th>\n",
       "      <td>Female</td>\n",
       "      <td>0</td>\n",
       "      <td>Yes</td>\n",
       "      <td>Yes</td>\n",
       "      <td>0</td>\n",
       "      <td>Yes</td>\n",
       "      <td>No</td>\n",
       "      <td>DSL</td>\n",
       "      <td>Yes</td>\n",
       "      <td>Yes</td>\n",
       "      <td>Yes</td>\n",
       "      <td>No</td>\n",
       "      <td>Yes</td>\n",
       "      <td>Yes</td>\n",
       "      <td>Two year</td>\n",
       "      <td>No</td>\n",
       "      <td>Mailed check</td>\n",
       "      <td>80.85</td>\n",
       "      <td></td>\n",
       "      <td>No</td>\n",
       "    </tr>\n",
       "    <tr>\n",
       "      <th>1082</th>\n",
       "      <td>Male</td>\n",
       "      <td>0</td>\n",
       "      <td>Yes</td>\n",
       "      <td>Yes</td>\n",
       "      <td>0</td>\n",
       "      <td>Yes</td>\n",
       "      <td>Yes</td>\n",
       "      <td>No</td>\n",
       "      <td>No internet service</td>\n",
       "      <td>No internet service</td>\n",
       "      <td>No internet service</td>\n",
       "      <td>No internet service</td>\n",
       "      <td>No internet service</td>\n",
       "      <td>No internet service</td>\n",
       "      <td>Two year</td>\n",
       "      <td>No</td>\n",
       "      <td>Mailed check</td>\n",
       "      <td>25.75</td>\n",
       "      <td></td>\n",
       "      <td>No</td>\n",
       "    </tr>\n",
       "    <tr>\n",
       "      <th>1340</th>\n",
       "      <td>Female</td>\n",
       "      <td>0</td>\n",
       "      <td>Yes</td>\n",
       "      <td>Yes</td>\n",
       "      <td>0</td>\n",
       "      <td>No</td>\n",
       "      <td>No phone service</td>\n",
       "      <td>DSL</td>\n",
       "      <td>Yes</td>\n",
       "      <td>Yes</td>\n",
       "      <td>Yes</td>\n",
       "      <td>Yes</td>\n",
       "      <td>Yes</td>\n",
       "      <td>No</td>\n",
       "      <td>Two year</td>\n",
       "      <td>No</td>\n",
       "      <td>Credit card (automatic)</td>\n",
       "      <td>56.05</td>\n",
       "      <td></td>\n",
       "      <td>No</td>\n",
       "    </tr>\n",
       "  </tbody>\n",
       "</table>\n",
       "</div>"
      ],
      "text/plain": [
       "      gender  SeniorCitizen Partner Dependents  tenure PhoneService  \\\n",
       "488   Female              0     Yes        Yes       0           No   \n",
       "753     Male              0      No        Yes       0          Yes   \n",
       "936   Female              0     Yes        Yes       0          Yes   \n",
       "1082    Male              0     Yes        Yes       0          Yes   \n",
       "1340  Female              0     Yes        Yes       0           No   \n",
       "\n",
       "         MultipleLines InternetService       OnlineSecurity  \\\n",
       "488   No phone service             DSL                  Yes   \n",
       "753                 No              No  No internet service   \n",
       "936                 No             DSL                  Yes   \n",
       "1082               Yes              No  No internet service   \n",
       "1340  No phone service             DSL                  Yes   \n",
       "\n",
       "             OnlineBackup     DeviceProtection          TechSupport  \\\n",
       "488                    No                  Yes                  Yes   \n",
       "753   No internet service  No internet service  No internet service   \n",
       "936                   Yes                  Yes                   No   \n",
       "1082  No internet service  No internet service  No internet service   \n",
       "1340                  Yes                  Yes                  Yes   \n",
       "\n",
       "              StreamingTV      StreamingMovies  Contract PaperlessBilling  \\\n",
       "488                   Yes                   No  Two year              Yes   \n",
       "753   No internet service  No internet service  Two year               No   \n",
       "936                   Yes                  Yes  Two year               No   \n",
       "1082  No internet service  No internet service  Two year               No   \n",
       "1340                  Yes                   No  Two year               No   \n",
       "\n",
       "                  PaymentMethod  MonthlyCharges TotalCharges Churn  \n",
       "488   Bank transfer (automatic)           52.55                 No  \n",
       "753                Mailed check           20.25                 No  \n",
       "936                Mailed check           80.85                 No  \n",
       "1082               Mailed check           25.75                 No  \n",
       "1340    Credit card (automatic)           56.05                 No  "
      ]
     },
     "execution_count": 7,
     "metadata": {},
     "output_type": "execute_result"
    }
   ],
   "source": [
    "df[pd.to_numeric(df.TotalCharges, errors = 'coerce').isnull()].head()"
   ]
  },
  {
   "cell_type": "markdown",
   "id": "e68b9d00",
   "metadata": {},
   "source": [
    "* I can observe that TotalCharges column is empty"
   ]
  },
  {
   "cell_type": "markdown",
   "id": "6b77842a",
   "metadata": {},
   "source": [
    "#### Now i find out how many rows are empty:"
   ]
  },
  {
   "cell_type": "code",
   "execution_count": 8,
   "id": "b98d13f2",
   "metadata": {},
   "outputs": [
    {
     "data": {
      "text/plain": [
       "(11, 20)"
      ]
     },
     "execution_count": 8,
     "metadata": {},
     "output_type": "execute_result"
    }
   ],
   "source": [
    "df[pd.to_numeric(df.TotalCharges, errors = 'coerce').isnull()].shape"
   ]
  },
  {
   "cell_type": "code",
   "execution_count": 9,
   "id": "d316a6cd",
   "metadata": {},
   "outputs": [
    {
     "data": {
      "text/plain": [
       "(7043, 20)"
      ]
     },
     "execution_count": 9,
     "metadata": {},
     "output_type": "execute_result"
    }
   ],
   "source": [
    "df.shape"
   ]
  },
  {
   "cell_type": "markdown",
   "id": "58a75846",
   "metadata": {},
   "source": [
    "* Since there are only 11 empty rows out of 7043 total rows. Therefore, i drop the empty columns"
   ]
  },
  {
   "cell_type": "code",
   "execution_count": 10,
   "id": "3e33e787",
   "metadata": {},
   "outputs": [
    {
     "data": {
      "text/plain": [
       "(7032, 20)"
      ]
     },
     "execution_count": 10,
     "metadata": {},
     "output_type": "execute_result"
    }
   ],
   "source": [
    "df1 = df[df.TotalCharges!=' ']\n",
    "df1.shape"
   ]
  },
  {
   "cell_type": "code",
   "execution_count": 11,
   "id": "e533d064",
   "metadata": {},
   "outputs": [
    {
     "data": {
      "text/plain": [
       "gender               object\n",
       "SeniorCitizen         int64\n",
       "Partner              object\n",
       "Dependents           object\n",
       "tenure                int64\n",
       "PhoneService         object\n",
       "MultipleLines        object\n",
       "InternetService      object\n",
       "OnlineSecurity       object\n",
       "OnlineBackup         object\n",
       "DeviceProtection     object\n",
       "TechSupport          object\n",
       "StreamingTV          object\n",
       "StreamingMovies      object\n",
       "Contract             object\n",
       "PaperlessBilling     object\n",
       "PaymentMethod        object\n",
       "MonthlyCharges      float64\n",
       "TotalCharges         object\n",
       "Churn                object\n",
       "dtype: object"
      ]
     },
     "execution_count": 11,
     "metadata": {},
     "output_type": "execute_result"
    }
   ],
   "source": [
    "df1.dtypes"
   ]
  },
  {
   "cell_type": "code",
   "execution_count": 12,
   "id": "ecdc6640",
   "metadata": {},
   "outputs": [
    {
     "data": {
      "text/plain": [
       "0         29.85\n",
       "1       1889.50\n",
       "2        108.15\n",
       "3       1840.75\n",
       "4        151.65\n",
       "         ...   \n",
       "7038    1990.50\n",
       "7039    7362.90\n",
       "7040     346.45\n",
       "7041     306.60\n",
       "7042    6844.50\n",
       "Name: TotalCharges, Length: 7032, dtype: float64"
      ]
     },
     "execution_count": 12,
     "metadata": {},
     "output_type": "execute_result"
    }
   ],
   "source": [
    "pd.to_numeric(df1.TotalCharges)"
   ]
  },
  {
   "cell_type": "code",
   "execution_count": 13,
   "id": "80184707",
   "metadata": {},
   "outputs": [
    {
     "name": "stderr",
     "output_type": "stream",
     "text": [
      "/var/folders/h5/f4df2x9d25gfb7n8p6xrjs340000gn/T/ipykernel_1444/1405692500.py:3: SettingWithCopyWarning: \n",
      "A value is trying to be set on a copy of a slice from a DataFrame.\n",
      "Try using .loc[row_indexer,col_indexer] = value instead\n",
      "\n",
      "See the caveats in the documentation: https://pandas.pydata.org/pandas-docs/stable/user_guide/indexing.html#returning-a-view-versus-a-copy\n",
      "  df1.TotalCharges = pd.to_numeric(df1.TotalCharges)\n"
     ]
    },
    {
     "data": {
      "text/plain": [
       "dtype('float64')"
      ]
     },
     "execution_count": 13,
     "metadata": {},
     "output_type": "execute_result"
    }
   ],
   "source": [
    "# Converting Totalcharges to numeric\n",
    "\n",
    "df1.TotalCharges = pd.to_numeric(df1.TotalCharges)\n",
    "df1.TotalCharges.dtypes"
   ]
  },
  {
   "cell_type": "markdown",
   "id": "ad904628",
   "metadata": {},
   "source": [
    "### Loyal Customers (Tenure):"
   ]
  },
  {
   "cell_type": "code",
   "execution_count": 14,
   "id": "f8a0c952",
   "metadata": {
    "scrolled": false
   },
   "outputs": [
    {
     "data": {
      "text/html": [
       "<div>\n",
       "<style scoped>\n",
       "    .dataframe tbody tr th:only-of-type {\n",
       "        vertical-align: middle;\n",
       "    }\n",
       "\n",
       "    .dataframe tbody tr th {\n",
       "        vertical-align: top;\n",
       "    }\n",
       "\n",
       "    .dataframe thead th {\n",
       "        text-align: right;\n",
       "    }\n",
       "</style>\n",
       "<table border=\"1\" class=\"dataframe\">\n",
       "  <thead>\n",
       "    <tr style=\"text-align: right;\">\n",
       "      <th></th>\n",
       "      <th>gender</th>\n",
       "      <th>SeniorCitizen</th>\n",
       "      <th>Partner</th>\n",
       "      <th>Dependents</th>\n",
       "      <th>tenure</th>\n",
       "      <th>PhoneService</th>\n",
       "      <th>MultipleLines</th>\n",
       "      <th>InternetService</th>\n",
       "      <th>OnlineSecurity</th>\n",
       "      <th>OnlineBackup</th>\n",
       "      <th>DeviceProtection</th>\n",
       "      <th>TechSupport</th>\n",
       "      <th>StreamingTV</th>\n",
       "      <th>StreamingMovies</th>\n",
       "      <th>Contract</th>\n",
       "      <th>PaperlessBilling</th>\n",
       "      <th>PaymentMethod</th>\n",
       "      <th>MonthlyCharges</th>\n",
       "      <th>TotalCharges</th>\n",
       "      <th>Churn</th>\n",
       "    </tr>\n",
       "  </thead>\n",
       "  <tbody>\n",
       "    <tr>\n",
       "      <th>0</th>\n",
       "      <td>Female</td>\n",
       "      <td>0</td>\n",
       "      <td>Yes</td>\n",
       "      <td>No</td>\n",
       "      <td>1</td>\n",
       "      <td>No</td>\n",
       "      <td>No phone service</td>\n",
       "      <td>DSL</td>\n",
       "      <td>No</td>\n",
       "      <td>Yes</td>\n",
       "      <td>No</td>\n",
       "      <td>No</td>\n",
       "      <td>No</td>\n",
       "      <td>No</td>\n",
       "      <td>Month-to-month</td>\n",
       "      <td>Yes</td>\n",
       "      <td>Electronic check</td>\n",
       "      <td>29.85</td>\n",
       "      <td>29.85</td>\n",
       "      <td>No</td>\n",
       "    </tr>\n",
       "    <tr>\n",
       "      <th>1</th>\n",
       "      <td>Male</td>\n",
       "      <td>0</td>\n",
       "      <td>No</td>\n",
       "      <td>No</td>\n",
       "      <td>34</td>\n",
       "      <td>Yes</td>\n",
       "      <td>No</td>\n",
       "      <td>DSL</td>\n",
       "      <td>Yes</td>\n",
       "      <td>No</td>\n",
       "      <td>Yes</td>\n",
       "      <td>No</td>\n",
       "      <td>No</td>\n",
       "      <td>No</td>\n",
       "      <td>One year</td>\n",
       "      <td>No</td>\n",
       "      <td>Mailed check</td>\n",
       "      <td>56.95</td>\n",
       "      <td>1889.50</td>\n",
       "      <td>No</td>\n",
       "    </tr>\n",
       "  </tbody>\n",
       "</table>\n",
       "</div>"
      ],
      "text/plain": [
       "   gender  SeniorCitizen Partner Dependents  tenure PhoneService  \\\n",
       "0  Female              0     Yes         No       1           No   \n",
       "1    Male              0      No         No      34          Yes   \n",
       "\n",
       "      MultipleLines InternetService OnlineSecurity OnlineBackup  \\\n",
       "0  No phone service             DSL             No          Yes   \n",
       "1                No             DSL            Yes           No   \n",
       "\n",
       "  DeviceProtection TechSupport StreamingTV StreamingMovies        Contract  \\\n",
       "0               No          No          No              No  Month-to-month   \n",
       "1              Yes          No          No              No        One year   \n",
       "\n",
       "  PaperlessBilling     PaymentMethod  MonthlyCharges  TotalCharges Churn  \n",
       "0              Yes  Electronic check           29.85         29.85    No  \n",
       "1               No      Mailed check           56.95       1889.50    No  "
      ]
     },
     "execution_count": 14,
     "metadata": {},
     "output_type": "execute_result"
    }
   ],
   "source": [
    "df1[df1.Churn=='No'].head(2)"
   ]
  },
  {
   "cell_type": "code",
   "execution_count": 15,
   "id": "e76e3950",
   "metadata": {},
   "outputs": [
    {
     "data": {
      "text/html": [
       "<div>\n",
       "<style scoped>\n",
       "    .dataframe tbody tr th:only-of-type {\n",
       "        vertical-align: middle;\n",
       "    }\n",
       "\n",
       "    .dataframe tbody tr th {\n",
       "        vertical-align: top;\n",
       "    }\n",
       "\n",
       "    .dataframe thead th {\n",
       "        text-align: right;\n",
       "    }\n",
       "</style>\n",
       "<table border=\"1\" class=\"dataframe\">\n",
       "  <thead>\n",
       "    <tr style=\"text-align: right;\">\n",
       "      <th></th>\n",
       "      <th>gender</th>\n",
       "      <th>SeniorCitizen</th>\n",
       "      <th>Partner</th>\n",
       "      <th>Dependents</th>\n",
       "      <th>tenure</th>\n",
       "      <th>PhoneService</th>\n",
       "      <th>MultipleLines</th>\n",
       "      <th>InternetService</th>\n",
       "      <th>OnlineSecurity</th>\n",
       "      <th>OnlineBackup</th>\n",
       "      <th>DeviceProtection</th>\n",
       "      <th>TechSupport</th>\n",
       "      <th>StreamingTV</th>\n",
       "      <th>StreamingMovies</th>\n",
       "      <th>Contract</th>\n",
       "      <th>PaperlessBilling</th>\n",
       "      <th>PaymentMethod</th>\n",
       "      <th>MonthlyCharges</th>\n",
       "      <th>TotalCharges</th>\n",
       "      <th>Churn</th>\n",
       "    </tr>\n",
       "  </thead>\n",
       "  <tbody>\n",
       "    <tr>\n",
       "      <th>2</th>\n",
       "      <td>Male</td>\n",
       "      <td>0</td>\n",
       "      <td>No</td>\n",
       "      <td>No</td>\n",
       "      <td>2</td>\n",
       "      <td>Yes</td>\n",
       "      <td>No</td>\n",
       "      <td>DSL</td>\n",
       "      <td>Yes</td>\n",
       "      <td>Yes</td>\n",
       "      <td>No</td>\n",
       "      <td>No</td>\n",
       "      <td>No</td>\n",
       "      <td>No</td>\n",
       "      <td>Month-to-month</td>\n",
       "      <td>Yes</td>\n",
       "      <td>Mailed check</td>\n",
       "      <td>53.85</td>\n",
       "      <td>108.15</td>\n",
       "      <td>Yes</td>\n",
       "    </tr>\n",
       "    <tr>\n",
       "      <th>4</th>\n",
       "      <td>Female</td>\n",
       "      <td>0</td>\n",
       "      <td>No</td>\n",
       "      <td>No</td>\n",
       "      <td>2</td>\n",
       "      <td>Yes</td>\n",
       "      <td>No</td>\n",
       "      <td>Fiber optic</td>\n",
       "      <td>No</td>\n",
       "      <td>No</td>\n",
       "      <td>No</td>\n",
       "      <td>No</td>\n",
       "      <td>No</td>\n",
       "      <td>No</td>\n",
       "      <td>Month-to-month</td>\n",
       "      <td>Yes</td>\n",
       "      <td>Electronic check</td>\n",
       "      <td>70.70</td>\n",
       "      <td>151.65</td>\n",
       "      <td>Yes</td>\n",
       "    </tr>\n",
       "  </tbody>\n",
       "</table>\n",
       "</div>"
      ],
      "text/plain": [
       "   gender  SeniorCitizen Partner Dependents  tenure PhoneService  \\\n",
       "2    Male              0      No         No       2          Yes   \n",
       "4  Female              0      No         No       2          Yes   \n",
       "\n",
       "  MultipleLines InternetService OnlineSecurity OnlineBackup DeviceProtection  \\\n",
       "2            No             DSL            Yes          Yes               No   \n",
       "4            No     Fiber optic             No           No               No   \n",
       "\n",
       "  TechSupport StreamingTV StreamingMovies        Contract PaperlessBilling  \\\n",
       "2          No          No              No  Month-to-month              Yes   \n",
       "4          No          No              No  Month-to-month              Yes   \n",
       "\n",
       "      PaymentMethod  MonthlyCharges  TotalCharges Churn  \n",
       "2      Mailed check           53.85        108.15   Yes  \n",
       "4  Electronic check           70.70        151.65   Yes  "
      ]
     },
     "execution_count": 15,
     "metadata": {},
     "output_type": "execute_result"
    }
   ],
   "source": [
    "df1[df1.Churn=='Yes'].head(2)"
   ]
  },
  {
   "cell_type": "code",
   "execution_count": 16,
   "id": "686f641d",
   "metadata": {},
   "outputs": [
    {
     "data": {
      "text/plain": [
       "<matplotlib.legend.Legend at 0x166f2ea50>"
      ]
     },
     "execution_count": 16,
     "metadata": {},
     "output_type": "execute_result"
    },
    {
     "data": {
      "image/png": "[encoded data removed]",
      "text/plain": [
       "<Figure size 640x480 with 1 Axes>"
      ]
     },
     "metadata": {},
     "output_type": "display_data"
    }
   ],
   "source": [
    "import seaborn as sn\n",
    "import matplotlib.pyplot as plt\n",
    "tenure_churn_yes = df1[df1.Churn=='Yes'].tenure\n",
    "tenure_churn_no = df1[df1.Churn=='No'].tenure\n",
    "\n",
    "plt.xlabel(\"Tenure Months\")\n",
    "plt.ylabel(\"Number of Customers\")\n",
    "plt.title(\"Customer Churn Prediction Visualization\")\n",
    "\n",
    "plt.hist([tenure_churn_yes, tenure_churn_no], color = ['red', 'green'], label = ['Churn=Yes', 'Churn=No'])\n",
    "plt.legend()"
   ]
  },
  {
   "cell_type": "markdown",
   "id": "77bc9fe2",
   "metadata": {},
   "source": [
    "* #### Observation result is that people with the company for a periods of 70 months, majority are not leaving, that is over 1k customers are not leaving and also, less than 200 customers as the same 70 months tenure left"
   ]
  },
  {
   "cell_type": "markdown",
   "id": "bd912643",
   "metadata": {},
   "source": [
    "#### I Plot a churn chart for monthly charges:"
   ]
  },
  {
   "cell_type": "code",
   "execution_count": 17,
   "id": "1fefa48a",
   "metadata": {},
   "outputs": [
    {
     "data": {
      "text/html": [
       "<div>\n",
       "<style scoped>\n",
       "    .dataframe tbody tr th:only-of-type {\n",
       "        vertical-align: middle;\n",
       "    }\n",
       "\n",
       "    .dataframe tbody tr th {\n",
       "        vertical-align: top;\n",
       "    }\n",
       "\n",
       "    .dataframe thead th {\n",
       "        text-align: right;\n",
       "    }\n",
       "</style>\n",
       "<table border=\"1\" class=\"dataframe\">\n",
       "  <thead>\n",
       "    <tr style=\"text-align: right;\">\n",
       "      <th></th>\n",
       "      <th>gender</th>\n",
       "      <th>SeniorCitizen</th>\n",
       "      <th>Partner</th>\n",
       "      <th>Dependents</th>\n",
       "      <th>tenure</th>\n",
       "      <th>PhoneService</th>\n",
       "      <th>MultipleLines</th>\n",
       "      <th>InternetService</th>\n",
       "      <th>OnlineSecurity</th>\n",
       "      <th>OnlineBackup</th>\n",
       "      <th>DeviceProtection</th>\n",
       "      <th>TechSupport</th>\n",
       "      <th>StreamingTV</th>\n",
       "      <th>StreamingMovies</th>\n",
       "      <th>Contract</th>\n",
       "      <th>PaperlessBilling</th>\n",
       "      <th>PaymentMethod</th>\n",
       "      <th>MonthlyCharges</th>\n",
       "      <th>TotalCharges</th>\n",
       "      <th>Churn</th>\n",
       "    </tr>\n",
       "  </thead>\n",
       "  <tbody>\n",
       "    <tr>\n",
       "      <th>5671</th>\n",
       "      <td>Female</td>\n",
       "      <td>0</td>\n",
       "      <td>Yes</td>\n",
       "      <td>No</td>\n",
       "      <td>61</td>\n",
       "      <td>Yes</td>\n",
       "      <td>Yes</td>\n",
       "      <td>No</td>\n",
       "      <td>No internet service</td>\n",
       "      <td>No internet service</td>\n",
       "      <td>No internet service</td>\n",
       "      <td>No internet service</td>\n",
       "      <td>No internet service</td>\n",
       "      <td>No internet service</td>\n",
       "      <td>Two year</td>\n",
       "      <td>No</td>\n",
       "      <td>Bank transfer (automatic)</td>\n",
       "      <td>25.30</td>\n",
       "      <td>1554.9</td>\n",
       "      <td>No</td>\n",
       "    </tr>\n",
       "    <tr>\n",
       "      <th>726</th>\n",
       "      <td>Female</td>\n",
       "      <td>0</td>\n",
       "      <td>No</td>\n",
       "      <td>No</td>\n",
       "      <td>22</td>\n",
       "      <td>Yes</td>\n",
       "      <td>Yes</td>\n",
       "      <td>No</td>\n",
       "      <td>No internet service</td>\n",
       "      <td>No internet service</td>\n",
       "      <td>No internet service</td>\n",
       "      <td>No internet service</td>\n",
       "      <td>No internet service</td>\n",
       "      <td>No internet service</td>\n",
       "      <td>Two year</td>\n",
       "      <td>No</td>\n",
       "      <td>Mailed check</td>\n",
       "      <td>26.25</td>\n",
       "      <td>605.9</td>\n",
       "      <td>No</td>\n",
       "    </tr>\n",
       "  </tbody>\n",
       "</table>\n",
       "</div>"
      ],
      "text/plain": [
       "      gender  SeniorCitizen Partner Dependents  tenure PhoneService  \\\n",
       "5671  Female              0     Yes         No      61          Yes   \n",
       "726   Female              0      No         No      22          Yes   \n",
       "\n",
       "     MultipleLines InternetService       OnlineSecurity         OnlineBackup  \\\n",
       "5671           Yes              No  No internet service  No internet service   \n",
       "726            Yes              No  No internet service  No internet service   \n",
       "\n",
       "         DeviceProtection          TechSupport          StreamingTV  \\\n",
       "5671  No internet service  No internet service  No internet service   \n",
       "726   No internet service  No internet service  No internet service   \n",
       "\n",
       "          StreamingMovies  Contract PaperlessBilling  \\\n",
       "5671  No internet service  Two year               No   \n",
       "726   No internet service  Two year               No   \n",
       "\n",
       "                  PaymentMethod  MonthlyCharges  TotalCharges Churn  \n",
       "5671  Bank transfer (automatic)           25.30        1554.9    No  \n",
       "726                Mailed check           26.25         605.9    No  "
      ]
     },
     "execution_count": 17,
     "metadata": {},
     "output_type": "execute_result"
    }
   ],
   "source": [
    "df1.sample(2)"
   ]
  },
  {
   "cell_type": "code",
   "execution_count": 18,
   "id": "ed0afd95",
   "metadata": {},
   "outputs": [
    {
     "data": {
      "text/plain": [
       "<matplotlib.legend.Legend at 0x166d4f750>"
      ]
     },
     "execution_count": 18,
     "metadata": {},
     "output_type": "execute_result"
    },
    {
     "data": {
      "image/png": "[encoded data removed]",
      "text/plain": [
       "<Figure size 640x480 with 1 Axes>"
      ]
     },
     "metadata": {},
     "output_type": "display_data"
    }
   ],
   "source": [
    "mc_churn_yes = df1[df1.Churn=='Yes'].MonthlyCharges\n",
    "mc_churn_no = df1[df1.Churn=='No'].MonthlyCharges\n",
    "\n",
    "plt.xlabel(\"Monthly Charges\")\n",
    "plt.ylabel(\"Number of Customers\")\n",
    "plt.title(\"Customer Churn Prediction Visualization\")\n",
    "\n",
    "plt.hist([mc_churn_yes, mc_churn_no], color = ['green', 'red'], rwidth = 0.95, label = ['Churn=Yes', 'Churn=No'])\n",
    "plt.legend()"
   ]
  },
  {
   "cell_type": "markdown",
   "id": "16a96fbb",
   "metadata": {},
   "source": [
    "### Observing the Unique values in each column:"
   ]
  },
  {
   "cell_type": "code",
   "execution_count": 19,
   "id": "28fc657a",
   "metadata": {},
   "outputs": [
    {
     "name": "stdout",
     "output_type": "stream",
     "text": [
      "['Female' 'Male']\n",
      "[0 1]\n",
      "['Yes' 'No']\n",
      "['No' 'Yes']\n",
      "[ 1 34  2 45  8 22 10 28 62 13 16 58 49 25 69 52 71 21 12 30 47 72 17 27\n",
      "  5 46 11 70 63 43 15 60 18 66  9  3 31 50 64 56  7 42 35 48 29 65 38 68\n",
      " 32 55 37 36 41  6  4 33 67 23 57 61 14 20 53 40 59 24 44 19 54 51 26 39]\n",
      "['No' 'Yes']\n",
      "['No phone service' 'No' 'Yes']\n",
      "['DSL' 'Fiber optic' 'No']\n",
      "['No' 'Yes' 'No internet service']\n",
      "['Yes' 'No' 'No internet service']\n",
      "['No' 'Yes' 'No internet service']\n",
      "['No' 'Yes' 'No internet service']\n",
      "['No' 'Yes' 'No internet service']\n",
      "['No' 'Yes' 'No internet service']\n",
      "['Month-to-month' 'One year' 'Two year']\n",
      "['Yes' 'No']\n",
      "['Electronic check' 'Mailed check' 'Bank transfer (automatic)'\n",
      " 'Credit card (automatic)']\n",
      "[29.85 56.95 53.85 ... 63.1  44.2  78.7 ]\n",
      "[  29.85 1889.5   108.15 ...  346.45  306.6  6844.5 ]\n",
      "['No' 'Yes']\n"
     ]
    }
   ],
   "source": [
    "for column in df1:\n",
    "    print(df1[column].unique())"
   ]
  },
  {
   "cell_type": "code",
   "execution_count": 20,
   "id": "bf6b29b9",
   "metadata": {},
   "outputs": [
    {
     "name": "stdout",
     "output_type": "stream",
     "text": [
      "gender : ['Female' 'Male']\n",
      "SeniorCitizen : [0 1]\n",
      "Partner : ['Yes' 'No']\n",
      "Dependents : ['No' 'Yes']\n",
      "tenure : [ 1 34  2 45  8 22 10 28 62 13 16 58 49 25 69 52 71 21 12 30 47 72 17 27\n",
      "  5 46 11 70 63 43 15 60 18 66  9  3 31 50 64 56  7 42 35 48 29 65 38 68\n",
      " 32 55 37 36 41  6  4 33 67 23 57 61 14 20 53 40 59 24 44 19 54 51 26 39]\n",
      "PhoneService : ['No' 'Yes']\n",
      "MultipleLines : ['No phone service' 'No' 'Yes']\n",
      "InternetService : ['DSL' 'Fiber optic' 'No']\n",
      "OnlineSecurity : ['No' 'Yes' 'No internet service']\n",
      "OnlineBackup : ['Yes' 'No' 'No internet service']\n",
      "DeviceProtection : ['No' 'Yes' 'No internet service']\n",
      "TechSupport : ['No' 'Yes' 'No internet service']\n",
      "StreamingTV : ['No' 'Yes' 'No internet service']\n",
      "StreamingMovies : ['No' 'Yes' 'No internet service']\n",
      "Contract : ['Month-to-month' 'One year' 'Two year']\n",
      "PaperlessBilling : ['Yes' 'No']\n",
      "PaymentMethod : ['Electronic check' 'Mailed check' 'Bank transfer (automatic)'\n",
      " 'Credit card (automatic)']\n",
      "MonthlyCharges : [29.85 56.95 53.85 ... 63.1  44.2  78.7 ]\n",
      "TotalCharges : [  29.85 1889.5   108.15 ...  346.45  306.6  6844.5 ]\n",
      "Churn : ['No' 'Yes']\n"
     ]
    }
   ],
   "source": [
    "for column in df1:\n",
    "    print(f'{column} : {df1[column].unique()}')"
   ]
  },
  {
   "cell_type": "code",
   "execution_count": 21,
   "id": "6d94af6c",
   "metadata": {},
   "outputs": [
    {
     "name": "stdout",
     "output_type": "stream",
     "text": [
      "gender : ['Female' 'Male']\n",
      "Partner : ['Yes' 'No']\n",
      "Dependents : ['No' 'Yes']\n",
      "PhoneService : ['No' 'Yes']\n",
      "MultipleLines : ['No phone service' 'No' 'Yes']\n",
      "InternetService : ['DSL' 'Fiber optic' 'No']\n",
      "OnlineSecurity : ['No' 'Yes' 'No internet service']\n",
      "OnlineBackup : ['Yes' 'No' 'No internet service']\n",
      "DeviceProtection : ['No' 'Yes' 'No internet service']\n",
      "TechSupport : ['No' 'Yes' 'No internet service']\n",
      "StreamingTV : ['No' 'Yes' 'No internet service']\n",
      "StreamingMovies : ['No' 'Yes' 'No internet service']\n",
      "Contract : ['Month-to-month' 'One year' 'Two year']\n",
      "PaperlessBilling : ['Yes' 'No']\n",
      "PaymentMethod : ['Electronic check' 'Mailed check' 'Bank transfer (automatic)'\n",
      " 'Credit card (automatic)']\n",
      "Churn : ['No' 'Yes']\n"
     ]
    }
   ],
   "source": [
    "for column in df1:\n",
    "    if df1[column].dtypes == 'object':\n",
    "        print(f'{column} : {df1[column].unique()}')"
   ]
  },
  {
   "cell_type": "code",
   "execution_count": 22,
   "id": "183ff599",
   "metadata": {},
   "outputs": [],
   "source": [
    "def print_unique_col_values(df1):\n",
    "    for column in df1:\n",
    "        if df1[column].dtypes == 'object':\n",
    "            print(f'{column} : {df1[column].unique()}')"
   ]
  },
  {
   "cell_type": "code",
   "execution_count": 23,
   "id": "ef311b76",
   "metadata": {},
   "outputs": [
    {
     "name": "stdout",
     "output_type": "stream",
     "text": [
      "gender : ['Female' 'Male']\n",
      "Partner : ['Yes' 'No']\n",
      "Dependents : ['No' 'Yes']\n",
      "PhoneService : ['No' 'Yes']\n",
      "MultipleLines : ['No phone service' 'No' 'Yes']\n",
      "InternetService : ['DSL' 'Fiber optic' 'No']\n",
      "OnlineSecurity : ['No' 'Yes' 'No internet service']\n",
      "OnlineBackup : ['Yes' 'No' 'No internet service']\n",
      "DeviceProtection : ['No' 'Yes' 'No internet service']\n",
      "TechSupport : ['No' 'Yes' 'No internet service']\n",
      "StreamingTV : ['No' 'Yes' 'No internet service']\n",
      "StreamingMovies : ['No' 'Yes' 'No internet service']\n",
      "Contract : ['Month-to-month' 'One year' 'Two year']\n",
      "PaperlessBilling : ['Yes' 'No']\n",
      "PaymentMethod : ['Electronic check' 'Mailed check' 'Bank transfer (automatic)'\n",
      " 'Credit card (automatic)']\n",
      "Churn : ['No' 'Yes']\n"
     ]
    }
   ],
   "source": [
    "print_unique_col_values(df1)"
   ]
  },
  {
   "cell_type": "markdown",
   "id": "d55cd552",
   "metadata": {},
   "source": [
    "#### * From my observation, let No internet service = NO\n",
    "#### * No Phone service = NO\n",
    "#### * Further, replace Yes and No = 1 and 0 respectively\n",
    "#### * Then Female and Male to 1 and 0 respectively"
   ]
  },
  {
   "cell_type": "code",
   "execution_count": 24,
   "id": "897e8f7a",
   "metadata": {},
   "outputs": [
    {
     "name": "stdout",
     "output_type": "stream",
     "text": [
      "gender : ['Female' 'Male']\n",
      "Partner : ['Yes' 'No']\n",
      "Dependents : ['No' 'Yes']\n",
      "PhoneService : ['No' 'Yes']\n",
      "MultipleLines : ['No' 'Yes']\n",
      "InternetService : ['DSL' 'Fiber optic' 'No']\n",
      "OnlineSecurity : ['No' 'Yes']\n",
      "OnlineBackup : ['Yes' 'No']\n",
      "DeviceProtection : ['No' 'Yes']\n",
      "TechSupport : ['No' 'Yes']\n",
      "StreamingTV : ['No' 'Yes']\n",
      "StreamingMovies : ['No' 'Yes']\n",
      "Contract : ['Month-to-month' 'One year' 'Two year']\n",
      "PaperlessBilling : ['Yes' 'No']\n",
      "PaymentMethod : ['Electronic check' 'Mailed check' 'Bank transfer (automatic)'\n",
      " 'Credit card (automatic)']\n",
      "Churn : ['No' 'Yes']\n"
     ]
    },
    {
     "name": "stderr",
     "output_type": "stream",
     "text": [
      "/var/folders/h5/f4df2x9d25gfb7n8p6xrjs340000gn/T/ipykernel_1444/798622689.py:1: SettingWithCopyWarning: \n",
      "A value is trying to be set on a copy of a slice from a DataFrame\n",
      "\n",
      "See the caveats in the documentation: https://pandas.pydata.org/pandas-docs/stable/user_guide/indexing.html#returning-a-view-versus-a-copy\n",
      "  df1.replace({'No internet service': 'No', 'No phone service': 'No'}, inplace=True)\n"
     ]
    }
   ],
   "source": [
    "df1.replace({'No internet service': 'No', 'No phone service': 'No'}, inplace=True)\n",
    "print_unique_col_values(df1)"
   ]
  },
  {
   "cell_type": "code",
   "execution_count": 25,
   "id": "a6b776f7",
   "metadata": {},
   "outputs": [
    {
     "name": "stderr",
     "output_type": "stream",
     "text": [
      "/var/folders/h5/f4df2x9d25gfb7n8p6xrjs340000gn/T/ipykernel_1444/810612179.py:4: SettingWithCopyWarning: \n",
      "A value is trying to be set on a copy of a slice from a DataFrame\n",
      "\n",
      "See the caveats in the documentation: https://pandas.pydata.org/pandas-docs/stable/user_guide/indexing.html#returning-a-view-versus-a-copy\n",
      "  df1[col].replace({'Yes' : 1, 'No' : 0}, inplace = True)\n"
     ]
    }
   ],
   "source": [
    "yes_no_cols = ['Partner', 'Dependents', 'PhoneService', 'MultipleLines', 'OnlineSecurity', 'OnlineBackup', 'DeviceProtection', 'TechSupport', 'StreamingTV', 'StreamingMovies', 'PaperlessBilling', 'Churn']\n",
    "\n",
    "for col in yes_no_cols:\n",
    "    df1[col].replace({'Yes' : 1, 'No' : 0}, inplace = True)"
   ]
  },
  {
   "cell_type": "code",
   "execution_count": 26,
   "id": "83c2d4a5",
   "metadata": {},
   "outputs": [
    {
     "name": "stdout",
     "output_type": "stream",
     "text": [
      "gender : ['Female' 'Male']\n",
      "SeniorCitizen : [0 1]\n",
      "Partner : [1 0]\n",
      "Dependents : [0 1]\n",
      "tenure : [ 1 34  2 45  8 22 10 28 62 13 16 58 49 25 69 52 71 21 12 30 47 72 17 27\n",
      "  5 46 11 70 63 43 15 60 18 66  9  3 31 50 64 56  7 42 35 48 29 65 38 68\n",
      " 32 55 37 36 41  6  4 33 67 23 57 61 14 20 53 40 59 24 44 19 54 51 26 39]\n",
      "PhoneService : [0 1]\n",
      "MultipleLines : [0 1]\n",
      "InternetService : ['DSL' 'Fiber optic' 'No']\n",
      "OnlineSecurity : [0 1]\n",
      "OnlineBackup : [1 0]\n",
      "DeviceProtection : [0 1]\n",
      "TechSupport : [0 1]\n",
      "StreamingTV : [0 1]\n",
      "StreamingMovies : [0 1]\n",
      "Contract : ['Month-to-month' 'One year' 'Two year']\n",
      "PaperlessBilling : [1 0]\n",
      "PaymentMethod : ['Electronic check' 'Mailed check' 'Bank transfer (automatic)'\n",
      " 'Credit card (automatic)']\n",
      "MonthlyCharges : [29.85 56.95 53.85 ... 63.1  44.2  78.7 ]\n",
      "TotalCharges : [  29.85 1889.5   108.15 ...  346.45  306.6  6844.5 ]\n",
      "Churn : [0 1]\n"
     ]
    }
   ],
   "source": [
    "for column in df1:\n",
    "    print(f'{column} : {df1[column].unique()}')"
   ]
  },
  {
   "cell_type": "code",
   "execution_count": 27,
   "id": "6639bbbe",
   "metadata": {},
   "outputs": [
    {
     "name": "stderr",
     "output_type": "stream",
     "text": [
      "/var/folders/h5/f4df2x9d25gfb7n8p6xrjs340000gn/T/ipykernel_1444/4098343554.py:1: SettingWithCopyWarning: \n",
      "A value is trying to be set on a copy of a slice from a DataFrame\n",
      "\n",
      "See the caveats in the documentation: https://pandas.pydata.org/pandas-docs/stable/user_guide/indexing.html#returning-a-view-versus-a-copy\n",
      "  df1['gender'].replace({'Female' : 1, 'Male' : 0}, inplace = True)\n"
     ]
    },
    {
     "data": {
      "text/plain": [
       "array([1, 0])"
      ]
     },
     "execution_count": 27,
     "metadata": {},
     "output_type": "execute_result"
    }
   ],
   "source": [
    "df1['gender'].replace({'Female' : 1, 'Male' : 0}, inplace = True)\n",
    "df1['gender'].unique()"
   ]
  },
  {
   "cell_type": "markdown",
   "id": "42cfe896",
   "metadata": {},
   "source": [
    "#### Applying One Hot Encoding to InternetService, Contract, PaymentMethod columns:"
   ]
  },
  {
   "cell_type": "code",
   "execution_count": 28,
   "id": "3321bf2f",
   "metadata": {},
   "outputs": [
    {
     "data": {
      "text/plain": [
       "Index(['gender', 'SeniorCitizen', 'Partner', 'Dependents', 'tenure',\n",
       "       'PhoneService', 'MultipleLines', 'OnlineSecurity', 'OnlineBackup',\n",
       "       'DeviceProtection', 'TechSupport', 'StreamingTV', 'StreamingMovies',\n",
       "       'PaperlessBilling', 'MonthlyCharges', 'TotalCharges', 'Churn',\n",
       "       'InternetService_DSL', 'InternetService_Fiber optic',\n",
       "       'InternetService_No', 'Contract_Month-to-month', 'Contract_One year',\n",
       "       'Contract_Two year', 'PaymentMethod_Bank transfer (automatic)',\n",
       "       'PaymentMethod_Credit card (automatic)',\n",
       "       'PaymentMethod_Electronic check', 'PaymentMethod_Mailed check'],\n",
       "      dtype='object')"
      ]
     },
     "execution_count": 28,
     "metadata": {},
     "output_type": "execute_result"
    }
   ],
   "source": [
    "df2 = pd.get_dummies(data = df1, columns = ['InternetService', 'Contract', 'PaymentMethod'])\n",
    "df2.columns"
   ]
  },
  {
   "cell_type": "code",
   "execution_count": 29,
   "id": "455cb30a",
   "metadata": {},
   "outputs": [
    {
     "data": {
      "text/html": [
       "<div>\n",
       "<style scoped>\n",
       "    .dataframe tbody tr th:only-of-type {\n",
       "        vertical-align: middle;\n",
       "    }\n",
       "\n",
       "    .dataframe tbody tr th {\n",
       "        vertical-align: top;\n",
       "    }\n",
       "\n",
       "    .dataframe thead th {\n",
       "        text-align: right;\n",
       "    }\n",
       "</style>\n",
       "<table border=\"1\" class=\"dataframe\">\n",
       "  <thead>\n",
       "    <tr style=\"text-align: right;\">\n",
       "      <th></th>\n",
       "      <th>gender</th>\n",
       "      <th>SeniorCitizen</th>\n",
       "      <th>Partner</th>\n",
       "      <th>Dependents</th>\n",
       "      <th>tenure</th>\n",
       "      <th>PhoneService</th>\n",
       "      <th>MultipleLines</th>\n",
       "      <th>OnlineSecurity</th>\n",
       "      <th>OnlineBackup</th>\n",
       "      <th>DeviceProtection</th>\n",
       "      <th>...</th>\n",
       "      <th>InternetService_DSL</th>\n",
       "      <th>InternetService_Fiber optic</th>\n",
       "      <th>InternetService_No</th>\n",
       "      <th>Contract_Month-to-month</th>\n",
       "      <th>Contract_One year</th>\n",
       "      <th>Contract_Two year</th>\n",
       "      <th>PaymentMethod_Bank transfer (automatic)</th>\n",
       "      <th>PaymentMethod_Credit card (automatic)</th>\n",
       "      <th>PaymentMethod_Electronic check</th>\n",
       "      <th>PaymentMethod_Mailed check</th>\n",
       "    </tr>\n",
       "  </thead>\n",
       "  <tbody>\n",
       "    <tr>\n",
       "      <th>4225</th>\n",
       "      <td>0</td>\n",
       "      <td>0</td>\n",
       "      <td>1</td>\n",
       "      <td>0</td>\n",
       "      <td>8</td>\n",
       "      <td>1</td>\n",
       "      <td>0</td>\n",
       "      <td>0</td>\n",
       "      <td>0</td>\n",
       "      <td>0</td>\n",
       "      <td>...</td>\n",
       "      <td>0</td>\n",
       "      <td>0</td>\n",
       "      <td>1</td>\n",
       "      <td>1</td>\n",
       "      <td>0</td>\n",
       "      <td>0</td>\n",
       "      <td>0</td>\n",
       "      <td>0</td>\n",
       "      <td>0</td>\n",
       "      <td>1</td>\n",
       "    </tr>\n",
       "    <tr>\n",
       "      <th>4014</th>\n",
       "      <td>1</td>\n",
       "      <td>1</td>\n",
       "      <td>0</td>\n",
       "      <td>0</td>\n",
       "      <td>52</td>\n",
       "      <td>1</td>\n",
       "      <td>1</td>\n",
       "      <td>1</td>\n",
       "      <td>1</td>\n",
       "      <td>1</td>\n",
       "      <td>...</td>\n",
       "      <td>0</td>\n",
       "      <td>1</td>\n",
       "      <td>0</td>\n",
       "      <td>1</td>\n",
       "      <td>0</td>\n",
       "      <td>0</td>\n",
       "      <td>0</td>\n",
       "      <td>1</td>\n",
       "      <td>0</td>\n",
       "      <td>0</td>\n",
       "    </tr>\n",
       "  </tbody>\n",
       "</table>\n",
       "<p>2 rows × 27 columns</p>\n",
       "</div>"
      ],
      "text/plain": [
       "      gender  SeniorCitizen  Partner  Dependents  tenure  PhoneService  \\\n",
       "4225       0              0        1           0       8             1   \n",
       "4014       1              1        0           0      52             1   \n",
       "\n",
       "      MultipleLines  OnlineSecurity  OnlineBackup  DeviceProtection  ...  \\\n",
       "4225              0               0             0                 0  ...   \n",
       "4014              1               1             1                 1  ...   \n",
       "\n",
       "      InternetService_DSL  InternetService_Fiber optic  InternetService_No  \\\n",
       "4225                    0                            0                   1   \n",
       "4014                    0                            1                   0   \n",
       "\n",
       "      Contract_Month-to-month  Contract_One year  Contract_Two year  \\\n",
       "4225                        1                  0                  0   \n",
       "4014                        1                  0                  0   \n",
       "\n",
       "      PaymentMethod_Bank transfer (automatic)  \\\n",
       "4225                                        0   \n",
       "4014                                        0   \n",
       "\n",
       "      PaymentMethod_Credit card (automatic)  PaymentMethod_Electronic check  \\\n",
       "4225                                      0                               0   \n",
       "4014                                      1                               0   \n",
       "\n",
       "      PaymentMethod_Mailed check  \n",
       "4225                           1  \n",
       "4014                           0  \n",
       "\n",
       "[2 rows x 27 columns]"
      ]
     },
     "execution_count": 29,
     "metadata": {},
     "output_type": "execute_result"
    }
   ],
   "source": [
    "df2.sample(2)"
   ]
  },
  {
   "cell_type": "code",
   "execution_count": 30,
   "id": "fac696d2",
   "metadata": {},
   "outputs": [
    {
     "data": {
      "text/plain": [
       "gender                                       int64\n",
       "SeniorCitizen                                int64\n",
       "Partner                                      int64\n",
       "Dependents                                   int64\n",
       "tenure                                       int64\n",
       "PhoneService                                 int64\n",
       "MultipleLines                                int64\n",
       "OnlineSecurity                               int64\n",
       "OnlineBackup                                 int64\n",
       "DeviceProtection                             int64\n",
       "TechSupport                                  int64\n",
       "StreamingTV                                  int64\n",
       "StreamingMovies                              int64\n",
       "PaperlessBilling                             int64\n",
       "MonthlyCharges                             float64\n",
       "TotalCharges                               float64\n",
       "Churn                                        int64\n",
       "InternetService_DSL                          uint8\n",
       "InternetService_Fiber optic                  uint8\n",
       "InternetService_No                           uint8\n",
       "Contract_Month-to-month                      uint8\n",
       "Contract_One year                            uint8\n",
       "Contract_Two year                            uint8\n",
       "PaymentMethod_Bank transfer (automatic)      uint8\n",
       "PaymentMethod_Credit card (automatic)        uint8\n",
       "PaymentMethod_Electronic check               uint8\n",
       "PaymentMethod_Mailed check                   uint8\n",
       "dtype: object"
      ]
     },
     "execution_count": 30,
     "metadata": {},
     "output_type": "execute_result"
    }
   ],
   "source": [
    "df2.dtypes"
   ]
  },
  {
   "cell_type": "markdown",
   "id": "6b2bde2c",
   "metadata": {},
   "source": [
    "#### Scaling the Monthly charges, Tenure and total charges using MInMaxScaler:"
   ]
  },
  {
   "cell_type": "code",
   "execution_count": 31,
   "id": "6fcaad60",
   "metadata": {},
   "outputs": [
    {
     "data": {
      "text/html": [
       "<div>\n",
       "<style scoped>\n",
       "    .dataframe tbody tr th:only-of-type {\n",
       "        vertical-align: middle;\n",
       "    }\n",
       "\n",
       "    .dataframe tbody tr th {\n",
       "        vertical-align: top;\n",
       "    }\n",
       "\n",
       "    .dataframe thead th {\n",
       "        text-align: right;\n",
       "    }\n",
       "</style>\n",
       "<table border=\"1\" class=\"dataframe\">\n",
       "  <thead>\n",
       "    <tr style=\"text-align: right;\">\n",
       "      <th></th>\n",
       "      <th>gender</th>\n",
       "      <th>SeniorCitizen</th>\n",
       "      <th>Partner</th>\n",
       "      <th>Dependents</th>\n",
       "      <th>tenure</th>\n",
       "      <th>PhoneService</th>\n",
       "      <th>MultipleLines</th>\n",
       "      <th>OnlineSecurity</th>\n",
       "      <th>OnlineBackup</th>\n",
       "      <th>DeviceProtection</th>\n",
       "      <th>...</th>\n",
       "      <th>InternetService_DSL</th>\n",
       "      <th>InternetService_Fiber optic</th>\n",
       "      <th>InternetService_No</th>\n",
       "      <th>Contract_Month-to-month</th>\n",
       "      <th>Contract_One year</th>\n",
       "      <th>Contract_Two year</th>\n",
       "      <th>PaymentMethod_Bank transfer (automatic)</th>\n",
       "      <th>PaymentMethod_Credit card (automatic)</th>\n",
       "      <th>PaymentMethod_Electronic check</th>\n",
       "      <th>PaymentMethod_Mailed check</th>\n",
       "    </tr>\n",
       "  </thead>\n",
       "  <tbody>\n",
       "    <tr>\n",
       "      <th>5254</th>\n",
       "      <td>0</td>\n",
       "      <td>0</td>\n",
       "      <td>1</td>\n",
       "      <td>1</td>\n",
       "      <td>0.971831</td>\n",
       "      <td>1</td>\n",
       "      <td>1</td>\n",
       "      <td>1</td>\n",
       "      <td>1</td>\n",
       "      <td>1</td>\n",
       "      <td>...</td>\n",
       "      <td>0</td>\n",
       "      <td>1</td>\n",
       "      <td>0</td>\n",
       "      <td>0</td>\n",
       "      <td>0</td>\n",
       "      <td>1</td>\n",
       "      <td>0</td>\n",
       "      <td>1</td>\n",
       "      <td>0</td>\n",
       "      <td>0</td>\n",
       "    </tr>\n",
       "    <tr>\n",
       "      <th>5617</th>\n",
       "      <td>0</td>\n",
       "      <td>0</td>\n",
       "      <td>0</td>\n",
       "      <td>0</td>\n",
       "      <td>0.014085</td>\n",
       "      <td>1</td>\n",
       "      <td>0</td>\n",
       "      <td>0</td>\n",
       "      <td>0</td>\n",
       "      <td>0</td>\n",
       "      <td>...</td>\n",
       "      <td>0</td>\n",
       "      <td>0</td>\n",
       "      <td>1</td>\n",
       "      <td>1</td>\n",
       "      <td>0</td>\n",
       "      <td>0</td>\n",
       "      <td>0</td>\n",
       "      <td>0</td>\n",
       "      <td>0</td>\n",
       "      <td>1</td>\n",
       "    </tr>\n",
       "  </tbody>\n",
       "</table>\n",
       "<p>2 rows × 27 columns</p>\n",
       "</div>"
      ],
      "text/plain": [
       "      gender  SeniorCitizen  Partner  Dependents    tenure  PhoneService  \\\n",
       "5254       0              0        1           1  0.971831             1   \n",
       "5617       0              0        0           0  0.014085             1   \n",
       "\n",
       "      MultipleLines  OnlineSecurity  OnlineBackup  DeviceProtection  ...  \\\n",
       "5254              1               1             1                 1  ...   \n",
       "5617              0               0             0                 0  ...   \n",
       "\n",
       "      InternetService_DSL  InternetService_Fiber optic  InternetService_No  \\\n",
       "5254                    0                            1                   0   \n",
       "5617                    0                            0                   1   \n",
       "\n",
       "      Contract_Month-to-month  Contract_One year  Contract_Two year  \\\n",
       "5254                        0                  0                  1   \n",
       "5617                        1                  0                  0   \n",
       "\n",
       "      PaymentMethod_Bank transfer (automatic)  \\\n",
       "5254                                        0   \n",
       "5617                                        0   \n",
       "\n",
       "      PaymentMethod_Credit card (automatic)  PaymentMethod_Electronic check  \\\n",
       "5254                                      1                               0   \n",
       "5617                                      0                               0   \n",
       "\n",
       "      PaymentMethod_Mailed check  \n",
       "5254                           0  \n",
       "5617                           1  \n",
       "\n",
       "[2 rows x 27 columns]"
      ]
     },
     "execution_count": 31,
     "metadata": {},
     "output_type": "execute_result"
    }
   ],
   "source": [
    "cols_to_scale = ['tenure', 'MonthlyCharges', 'TotalCharges']\n",
    "\n",
    "from sklearn.preprocessing import MinMaxScaler\n",
    "scaler = MinMaxScaler()\n",
    "\n",
    "df2[cols_to_scale] = scaler.fit_transform(df2[cols_to_scale])\n",
    "\n",
    "df2.sample(2)"
   ]
  },
  {
   "cell_type": "code",
   "execution_count": 32,
   "id": "1ea48306",
   "metadata": {},
   "outputs": [
    {
     "name": "stdout",
     "output_type": "stream",
     "text": [
      "gender: [1 0]\n",
      "SeniorCitizen: [0 1]\n",
      "Partner: [1 0]\n",
      "Dependents: [0 1]\n",
      "tenure: [0.         0.46478873 0.01408451 0.61971831 0.09859155 0.29577465\n",
      " 0.12676056 0.38028169 0.85915493 0.16901408 0.21126761 0.8028169\n",
      " 0.67605634 0.33802817 0.95774648 0.71830986 0.98591549 0.28169014\n",
      " 0.15492958 0.4084507  0.64788732 1.         0.22535211 0.36619718\n",
      " 0.05633803 0.63380282 0.14084507 0.97183099 0.87323944 0.5915493\n",
      " 0.1971831  0.83098592 0.23943662 0.91549296 0.11267606 0.02816901\n",
      " 0.42253521 0.69014085 0.88732394 0.77464789 0.08450704 0.57746479\n",
      " 0.47887324 0.66197183 0.3943662  0.90140845 0.52112676 0.94366197\n",
      " 0.43661972 0.76056338 0.50704225 0.49295775 0.56338028 0.07042254\n",
      " 0.04225352 0.45070423 0.92957746 0.30985915 0.78873239 0.84507042\n",
      " 0.18309859 0.26760563 0.73239437 0.54929577 0.81690141 0.32394366\n",
      " 0.6056338  0.25352113 0.74647887 0.70422535 0.35211268 0.53521127]\n",
      "PhoneService: [0 1]\n",
      "MultipleLines: [0 1]\n",
      "OnlineSecurity: [0 1]\n",
      "OnlineBackup: [1 0]\n",
      "DeviceProtection: [0 1]\n",
      "TechSupport: [0 1]\n",
      "StreamingTV: [0 1]\n",
      "StreamingMovies: [0 1]\n",
      "PaperlessBilling: [1 0]\n",
      "MonthlyCharges: [0.11542289 0.38507463 0.35422886 ... 0.44626866 0.25820896 0.60149254]\n",
      "TotalCharges: [0.0012751  0.21586661 0.01031041 ... 0.03780868 0.03321025 0.78764136]\n",
      "Churn: [0 1]\n",
      "InternetService_DSL: [1 0]\n",
      "InternetService_Fiber optic: [0 1]\n",
      "InternetService_No: [0 1]\n",
      "Contract_Month-to-month: [1 0]\n",
      "Contract_One year: [0 1]\n",
      "Contract_Two year: [0 1]\n",
      "PaymentMethod_Bank transfer (automatic): [0 1]\n",
      "PaymentMethod_Credit card (automatic): [0 1]\n",
      "PaymentMethod_Electronic check: [1 0]\n",
      "PaymentMethod_Mailed check: [0 1]\n"
     ]
    }
   ],
   "source": [
    "for col in df2:\n",
    "    print (f'{col}: {df2[col].unique()}')"
   ]
  },
  {
   "cell_type": "markdown",
   "id": "fdf2f630",
   "metadata": {},
   "source": [
    "#### Splitting the data:"
   ]
  },
  {
   "cell_type": "code",
   "execution_count": 33,
   "id": "1cf9d669",
   "metadata": {},
   "outputs": [],
   "source": [
    "x = df2.drop('Churn', axis = 'columns')\n",
    "y = df2['Churn']"
   ]
  },
  {
   "cell_type": "code",
   "execution_count": 34,
   "id": "ece41ba9",
   "metadata": {},
   "outputs": [],
   "source": [
    "from sklearn.model_selection import train_test_split\n",
    "x_train, x_test, y_train, y_test = train_test_split(x, y, test_size = 0.2, random_state = 5)"
   ]
  },
  {
   "cell_type": "code",
   "execution_count": 35,
   "id": "3af84742",
   "metadata": {},
   "outputs": [
    {
     "data": {
      "text/plain": [
       "((5625, 26), (1407, 26))"
      ]
     },
     "execution_count": 35,
     "metadata": {},
     "output_type": "execute_result"
    }
   ],
   "source": [
    "x_train.shape, x_test.shape"
   ]
  },
  {
   "cell_type": "code",
   "execution_count": 36,
   "id": "b587cbe0",
   "metadata": {},
   "outputs": [
    {
     "data": {
      "text/html": [
       "<div>\n",
       "<style scoped>\n",
       "    .dataframe tbody tr th:only-of-type {\n",
       "        vertical-align: middle;\n",
       "    }\n",
       "\n",
       "    .dataframe tbody tr th {\n",
       "        vertical-align: top;\n",
       "    }\n",
       "\n",
       "    .dataframe thead th {\n",
       "        text-align: right;\n",
       "    }\n",
       "</style>\n",
       "<table border=\"1\" class=\"dataframe\">\n",
       "  <thead>\n",
       "    <tr style=\"text-align: right;\">\n",
       "      <th></th>\n",
       "      <th>gender</th>\n",
       "      <th>SeniorCitizen</th>\n",
       "      <th>Partner</th>\n",
       "      <th>Dependents</th>\n",
       "      <th>tenure</th>\n",
       "      <th>PhoneService</th>\n",
       "      <th>MultipleLines</th>\n",
       "      <th>OnlineSecurity</th>\n",
       "      <th>OnlineBackup</th>\n",
       "      <th>DeviceProtection</th>\n",
       "      <th>...</th>\n",
       "      <th>InternetService_DSL</th>\n",
       "      <th>InternetService_Fiber optic</th>\n",
       "      <th>InternetService_No</th>\n",
       "      <th>Contract_Month-to-month</th>\n",
       "      <th>Contract_One year</th>\n",
       "      <th>Contract_Two year</th>\n",
       "      <th>PaymentMethod_Bank transfer (automatic)</th>\n",
       "      <th>PaymentMethod_Credit card (automatic)</th>\n",
       "      <th>PaymentMethod_Electronic check</th>\n",
       "      <th>PaymentMethod_Mailed check</th>\n",
       "    </tr>\n",
       "  </thead>\n",
       "  <tbody>\n",
       "    <tr>\n",
       "      <th>5664</th>\n",
       "      <td>1</td>\n",
       "      <td>1</td>\n",
       "      <td>0</td>\n",
       "      <td>0</td>\n",
       "      <td>0.126761</td>\n",
       "      <td>1</td>\n",
       "      <td>0</td>\n",
       "      <td>0</td>\n",
       "      <td>0</td>\n",
       "      <td>1</td>\n",
       "      <td>...</td>\n",
       "      <td>0</td>\n",
       "      <td>1</td>\n",
       "      <td>0</td>\n",
       "      <td>1</td>\n",
       "      <td>0</td>\n",
       "      <td>0</td>\n",
       "      <td>0</td>\n",
       "      <td>1</td>\n",
       "      <td>0</td>\n",
       "      <td>0</td>\n",
       "    </tr>\n",
       "    <tr>\n",
       "      <th>101</th>\n",
       "      <td>1</td>\n",
       "      <td>0</td>\n",
       "      <td>1</td>\n",
       "      <td>1</td>\n",
       "      <td>0.000000</td>\n",
       "      <td>1</td>\n",
       "      <td>0</td>\n",
       "      <td>0</td>\n",
       "      <td>0</td>\n",
       "      <td>0</td>\n",
       "      <td>...</td>\n",
       "      <td>0</td>\n",
       "      <td>0</td>\n",
       "      <td>1</td>\n",
       "      <td>1</td>\n",
       "      <td>0</td>\n",
       "      <td>0</td>\n",
       "      <td>0</td>\n",
       "      <td>0</td>\n",
       "      <td>1</td>\n",
       "      <td>0</td>\n",
       "    </tr>\n",
       "    <tr>\n",
       "      <th>2621</th>\n",
       "      <td>0</td>\n",
       "      <td>0</td>\n",
       "      <td>1</td>\n",
       "      <td>0</td>\n",
       "      <td>0.985915</td>\n",
       "      <td>1</td>\n",
       "      <td>0</td>\n",
       "      <td>0</td>\n",
       "      <td>1</td>\n",
       "      <td>1</td>\n",
       "      <td>...</td>\n",
       "      <td>1</td>\n",
       "      <td>0</td>\n",
       "      <td>0</td>\n",
       "      <td>0</td>\n",
       "      <td>0</td>\n",
       "      <td>1</td>\n",
       "      <td>0</td>\n",
       "      <td>1</td>\n",
       "      <td>0</td>\n",
       "      <td>0</td>\n",
       "    </tr>\n",
       "    <tr>\n",
       "      <th>392</th>\n",
       "      <td>1</td>\n",
       "      <td>1</td>\n",
       "      <td>0</td>\n",
       "      <td>0</td>\n",
       "      <td>0.014085</td>\n",
       "      <td>1</td>\n",
       "      <td>0</td>\n",
       "      <td>0</td>\n",
       "      <td>0</td>\n",
       "      <td>0</td>\n",
       "      <td>...</td>\n",
       "      <td>1</td>\n",
       "      <td>0</td>\n",
       "      <td>0</td>\n",
       "      <td>1</td>\n",
       "      <td>0</td>\n",
       "      <td>0</td>\n",
       "      <td>0</td>\n",
       "      <td>0</td>\n",
       "      <td>1</td>\n",
       "      <td>0</td>\n",
       "    </tr>\n",
       "    <tr>\n",
       "      <th>1327</th>\n",
       "      <td>0</td>\n",
       "      <td>0</td>\n",
       "      <td>1</td>\n",
       "      <td>0</td>\n",
       "      <td>0.816901</td>\n",
       "      <td>1</td>\n",
       "      <td>1</td>\n",
       "      <td>0</td>\n",
       "      <td>0</td>\n",
       "      <td>1</td>\n",
       "      <td>...</td>\n",
       "      <td>0</td>\n",
       "      <td>1</td>\n",
       "      <td>0</td>\n",
       "      <td>0</td>\n",
       "      <td>1</td>\n",
       "      <td>0</td>\n",
       "      <td>1</td>\n",
       "      <td>0</td>\n",
       "      <td>0</td>\n",
       "      <td>0</td>\n",
       "    </tr>\n",
       "  </tbody>\n",
       "</table>\n",
       "<p>5 rows × 26 columns</p>\n",
       "</div>"
      ],
      "text/plain": [
       "      gender  SeniorCitizen  Partner  Dependents    tenure  PhoneService  \\\n",
       "5664       1              1        0           0  0.126761             1   \n",
       "101        1              0        1           1  0.000000             1   \n",
       "2621       0              0        1           0  0.985915             1   \n",
       "392        1              1        0           0  0.014085             1   \n",
       "1327       0              0        1           0  0.816901             1   \n",
       "\n",
       "      MultipleLines  OnlineSecurity  OnlineBackup  DeviceProtection  ...  \\\n",
       "5664              0               0             0                 1  ...   \n",
       "101               0               0             0                 0  ...   \n",
       "2621              0               0             1                 1  ...   \n",
       "392               0               0             0                 0  ...   \n",
       "1327              1               0             0                 1  ...   \n",
       "\n",
       "      InternetService_DSL  InternetService_Fiber optic  InternetService_No  \\\n",
       "5664                    0                            1                   0   \n",
       "101                     0                            0                   1   \n",
       "2621                    1                            0                   0   \n",
       "392                     1                            0                   0   \n",
       "1327                    0                            1                   0   \n",
       "\n",
       "      Contract_Month-to-month  Contract_One year  Contract_Two year  \\\n",
       "5664                        1                  0                  0   \n",
       "101                         1                  0                  0   \n",
       "2621                        0                  0                  1   \n",
       "392                         1                  0                  0   \n",
       "1327                        0                  1                  0   \n",
       "\n",
       "      PaymentMethod_Bank transfer (automatic)  \\\n",
       "5664                                        0   \n",
       "101                                         0   \n",
       "2621                                        0   \n",
       "392                                         0   \n",
       "1327                                        1   \n",
       "\n",
       "      PaymentMethod_Credit card (automatic)  PaymentMethod_Electronic check  \\\n",
       "5664                                      1                               0   \n",
       "101                                       0                               1   \n",
       "2621                                      1                               0   \n",
       "392                                       0                               1   \n",
       "1327                                      0                               0   \n",
       "\n",
       "      PaymentMethod_Mailed check  \n",
       "5664                           0  \n",
       "101                            0  \n",
       "2621                           0  \n",
       "392                            0  \n",
       "1327                           0  \n",
       "\n",
       "[5 rows x 26 columns]"
      ]
     },
     "execution_count": 36,
     "metadata": {},
     "output_type": "execute_result"
    }
   ],
   "source": [
    "x_train[:5]"
   ]
  },
  {
   "cell_type": "markdown",
   "id": "55af93c5",
   "metadata": {},
   "source": [
    "* #### Training the model with 50 Epochs"
   ]
  },
  {
   "cell_type": "code",
   "execution_count": 37,
   "id": "2a3a84bd",
   "metadata": {
    "scrolled": true
   },
   "outputs": [
    {
     "name": "stdout",
     "output_type": "stream",
     "text": [
      "Epoch 1/50\n",
      "176/176 [==============================] - 2s 4ms/step - loss: 0.5426 - accuracy: 0.7392\n",
      "Epoch 2/50\n",
      "176/176 [==============================] - 1s 3ms/step - loss: 0.4497 - accuracy: 0.7874\n",
      "Epoch 3/50\n",
      "176/176 [==============================] - 1s 3ms/step - loss: 0.4281 - accuracy: 0.7972\n",
      "Epoch 4/50\n",
      "176/176 [==============================] - 1s 3ms/step - loss: 0.4209 - accuracy: 0.7980\n",
      "Epoch 5/50\n",
      "176/176 [==============================] - 1s 3ms/step - loss: 0.4178 - accuracy: 0.8005\n",
      "Epoch 6/50\n",
      "176/176 [==============================] - 1s 3ms/step - loss: 0.4148 - accuracy: 0.8037\n",
      "Epoch 7/50\n",
      "176/176 [==============================] - 1s 3ms/step - loss: 0.4142 - accuracy: 0.8046\n",
      "Epoch 8/50\n",
      "176/176 [==============================] - 1s 3ms/step - loss: 0.4126 - accuracy: 0.8059\n",
      "Epoch 9/50\n",
      "176/176 [==============================] - 1s 3ms/step - loss: 0.4120 - accuracy: 0.8076\n",
      "Epoch 10/50\n",
      "176/176 [==============================] - 1s 3ms/step - loss: 0.4111 - accuracy: 0.8064\n",
      "Epoch 11/50\n",
      "176/176 [==============================] - 0s 2ms/step - loss: 0.4107 - accuracy: 0.8082\n",
      "Epoch 12/50\n",
      "176/176 [==============================] - 1s 3ms/step - loss: 0.4093 - accuracy: 0.8078\n",
      "Epoch 13/50\n",
      "176/176 [==============================] - 1s 3ms/step - loss: 0.4097 - accuracy: 0.8107\n",
      "Epoch 14/50\n",
      "176/176 [==============================] - 1s 3ms/step - loss: 0.4087 - accuracy: 0.8066\n",
      "Epoch 15/50\n",
      "176/176 [==============================] - 1s 3ms/step - loss: 0.4084 - accuracy: 0.8114\n",
      "Epoch 16/50\n",
      "176/176 [==============================] - 1s 4ms/step - loss: 0.4072 - accuracy: 0.8100\n",
      "Epoch 17/50\n",
      "176/176 [==============================] - 1s 4ms/step - loss: 0.4071 - accuracy: 0.8092\n",
      "Epoch 18/50\n",
      "176/176 [==============================] - 1s 3ms/step - loss: 0.4061 - accuracy: 0.8128\n",
      "Epoch 19/50\n",
      "176/176 [==============================] - 1s 4ms/step - loss: 0.4063 - accuracy: 0.8096\n",
      "Epoch 20/50\n",
      "176/176 [==============================] - 1s 3ms/step - loss: 0.4054 - accuracy: 0.8130\n",
      "Epoch 21/50\n",
      "176/176 [==============================] - 1s 3ms/step - loss: 0.4049 - accuracy: 0.8117\n",
      "Epoch 22/50\n",
      "176/176 [==============================] - 0s 2ms/step - loss: 0.4041 - accuracy: 0.8110\n",
      "Epoch 23/50\n",
      "176/176 [==============================] - 0s 2ms/step - loss: 0.4041 - accuracy: 0.8126\n",
      "Epoch 24/50\n",
      "176/176 [==============================] - 1s 4ms/step - loss: 0.4032 - accuracy: 0.8137\n",
      "Epoch 25/50\n",
      "176/176 [==============================] - 1s 4ms/step - loss: 0.4029 - accuracy: 0.8133\n",
      "Epoch 26/50\n",
      "176/176 [==============================] - 1s 3ms/step - loss: 0.4027 - accuracy: 0.8142\n",
      "Epoch 27/50\n",
      "176/176 [==============================] - 0s 3ms/step - loss: 0.4023 - accuracy: 0.8140\n",
      "Epoch 28/50\n",
      "176/176 [==============================] - 1s 4ms/step - loss: 0.4018 - accuracy: 0.8137\n",
      "Epoch 29/50\n",
      "176/176 [==============================] - 1s 3ms/step - loss: 0.4011 - accuracy: 0.8124\n",
      "Epoch 30/50\n",
      "176/176 [==============================] - 1s 3ms/step - loss: 0.4007 - accuracy: 0.8139\n",
      "Epoch 31/50\n",
      "176/176 [==============================] - 1s 4ms/step - loss: 0.4002 - accuracy: 0.8171\n",
      "Epoch 32/50\n",
      "176/176 [==============================] - 1s 4ms/step - loss: 0.4002 - accuracy: 0.8137\n",
      "Epoch 33/50\n",
      "176/176 [==============================] - 1s 3ms/step - loss: 0.3999 - accuracy: 0.8160\n",
      "Epoch 34/50\n",
      "176/176 [==============================] - 1s 3ms/step - loss: 0.3992 - accuracy: 0.8160\n",
      "Epoch 35/50\n",
      "176/176 [==============================] - 1s 4ms/step - loss: 0.3991 - accuracy: 0.8171\n",
      "Epoch 36/50\n",
      "176/176 [==============================] - 1s 4ms/step - loss: 0.3983 - accuracy: 0.8158\n",
      "Epoch 37/50\n",
      "176/176 [==============================] - 1s 3ms/step - loss: 0.3983 - accuracy: 0.8144\n",
      "Epoch 38/50\n",
      "176/176 [==============================] - 1s 3ms/step - loss: 0.3975 - accuracy: 0.8165\n",
      "Epoch 39/50\n",
      "176/176 [==============================] - 1s 3ms/step - loss: 0.3966 - accuracy: 0.8181\n",
      "Epoch 40/50\n",
      "176/176 [==============================] - 1s 3ms/step - loss: 0.3967 - accuracy: 0.8165\n",
      "Epoch 41/50\n",
      "176/176 [==============================] - 1s 4ms/step - loss: 0.3959 - accuracy: 0.8171\n",
      "Epoch 42/50\n",
      "176/176 [==============================] - 1s 3ms/step - loss: 0.3955 - accuracy: 0.8188\n",
      "Epoch 43/50\n",
      "176/176 [==============================] - 1s 3ms/step - loss: 0.3947 - accuracy: 0.8176\n",
      "Epoch 44/50\n",
      "176/176 [==============================] - 1s 3ms/step - loss: 0.3939 - accuracy: 0.8178\n",
      "Epoch 45/50\n",
      "176/176 [==============================] - 1s 3ms/step - loss: 0.3953 - accuracy: 0.8188\n",
      "Epoch 46/50\n",
      "176/176 [==============================] - 1s 3ms/step - loss: 0.3939 - accuracy: 0.8176\n",
      "Epoch 47/50\n",
      "176/176 [==============================] - 1s 3ms/step - loss: 0.3935 - accuracy: 0.8188\n",
      "Epoch 48/50\n",
      "176/176 [==============================] - 1s 4ms/step - loss: 0.3928 - accuracy: 0.8172\n",
      "Epoch 49/50\n",
      "176/176 [==============================] - 1s 4ms/step - loss: 0.3935 - accuracy: 0.8180\n",
      "Epoch 50/50\n",
      "176/176 [==============================] - 1s 3ms/step - loss: 0.3923 - accuracy: 0.8174\n"
     ]
    },
    {
     "data": {
      "text/plain": [
       "<keras.src.callbacks.History at 0x167ae1910>"
      ]
     },
     "execution_count": 37,
     "metadata": {},
     "output_type": "execute_result"
    }
   ],
   "source": [
    "model = keras.Sequential([\n",
    "    keras.layers.Dense(20, input_shape=(26,), activation = 'relu'),\n",
    "    keras.layers.Dense(1, activation = 'sigmoid'),\n",
    "])\n",
    "\n",
    "model.compile(optimizer = 'adam',\n",
    "             loss = 'binary_crossentropy',\n",
    "             metrics = ['accuracy'])\n",
    "\n",
    "model.fit(x_train, y_train, epochs= 50)"
   ]
  },
  {
   "cell_type": "code",
   "execution_count": 38,
   "id": "df6493b4",
   "metadata": {
    "scrolled": true
   },
   "outputs": [
    {
     "name": "stdout",
     "output_type": "stream",
     "text": [
      "44/44 [==============================] - 0s 3ms/step - loss: 0.4405 - accuracy: 0.7861\n"
     ]
    },
    {
     "data": {
      "text/plain": [
       "[0.4405479431152344, 0.7860696315765381]"
      ]
     },
     "execution_count": 38,
     "metadata": {},
     "output_type": "execute_result"
    }
   ],
   "source": [
    "model.evaluate(x_test, y_test)"
   ]
  },
  {
   "cell_type": "markdown",
   "id": "eb23711b",
   "metadata": {},
   "source": [
    "* #### Training the model with 100 Epochs to find out if the model will giver a higher accuracy:"
   ]
  },
  {
   "cell_type": "code",
   "execution_count": 39,
   "id": "8568710b",
   "metadata": {
    "scrolled": true
   },
   "outputs": [
    {
     "name": "stdout",
     "output_type": "stream",
     "text": [
      "Epoch 1/100\n",
      "176/176 [==============================] - 1s 3ms/step - loss: 0.5786 - accuracy: 0.6683\n",
      "Epoch 2/100\n",
      "176/176 [==============================] - 1s 3ms/step - loss: 0.4479 - accuracy: 0.7854\n",
      "Epoch 3/100\n",
      "176/176 [==============================] - 1s 3ms/step - loss: 0.4279 - accuracy: 0.7952\n",
      "Epoch 4/100\n",
      "176/176 [==============================] - 1s 3ms/step - loss: 0.4202 - accuracy: 0.7986\n",
      "Epoch 5/100\n",
      "176/176 [==============================] - 1s 3ms/step - loss: 0.4165 - accuracy: 0.7996\n",
      "Epoch 6/100\n",
      "176/176 [==============================] - 1s 3ms/step - loss: 0.4136 - accuracy: 0.8034\n",
      "Epoch 7/100\n",
      "176/176 [==============================] - 0s 2ms/step - loss: 0.4113 - accuracy: 0.8089\n",
      "Epoch 8/100\n",
      "176/176 [==============================] - 0s 3ms/step - loss: 0.4099 - accuracy: 0.8057\n",
      "Epoch 9/100\n",
      "176/176 [==============================] - 1s 4ms/step - loss: 0.4094 - accuracy: 0.8052\n",
      "Epoch 10/100\n",
      "176/176 [==============================] - 1s 4ms/step - loss: 0.4083 - accuracy: 0.8092\n",
      "Epoch 11/100\n",
      "176/176 [==============================] - 0s 3ms/step - loss: 0.4078 - accuracy: 0.8110\n",
      "Epoch 12/100\n",
      "176/176 [==============================] - 0s 2ms/step - loss: 0.4061 - accuracy: 0.8112\n",
      "Epoch 13/100\n",
      "176/176 [==============================] - 0s 2ms/step - loss: 0.4056 - accuracy: 0.8100\n",
      "Epoch 14/100\n",
      "176/176 [==============================] - 0s 2ms/step - loss: 0.4052 - accuracy: 0.8096\n",
      "Epoch 15/100\n",
      "176/176 [==============================] - 0s 2ms/step - loss: 0.4045 - accuracy: 0.8107\n",
      "Epoch 16/100\n",
      "176/176 [==============================] - 1s 3ms/step - loss: 0.4041 - accuracy: 0.8121\n",
      "Epoch 17/100\n",
      "176/176 [==============================] - 1s 3ms/step - loss: 0.4037 - accuracy: 0.8116\n",
      "Epoch 18/100\n",
      "176/176 [==============================] - 0s 3ms/step - loss: 0.4027 - accuracy: 0.8139\n",
      "Epoch 19/100\n",
      "176/176 [==============================] - 1s 3ms/step - loss: 0.4025 - accuracy: 0.8117\n",
      "Epoch 20/100\n",
      "176/176 [==============================] - 1s 3ms/step - loss: 0.4023 - accuracy: 0.8130\n",
      "Epoch 21/100\n",
      "176/176 [==============================] - 1s 3ms/step - loss: 0.4017 - accuracy: 0.8132\n",
      "Epoch 22/100\n",
      "176/176 [==============================] - 1s 3ms/step - loss: 0.4012 - accuracy: 0.8156\n",
      "Epoch 23/100\n",
      "176/176 [==============================] - 1s 3ms/step - loss: 0.4004 - accuracy: 0.8169\n",
      "Epoch 24/100\n",
      "176/176 [==============================] - 1s 3ms/step - loss: 0.4000 - accuracy: 0.8142\n",
      "Epoch 25/100\n",
      "176/176 [==============================] - 1s 4ms/step - loss: 0.3996 - accuracy: 0.8158\n",
      "Epoch 26/100\n",
      "176/176 [==============================] - 1s 4ms/step - loss: 0.3991 - accuracy: 0.8158\n",
      "Epoch 27/100\n",
      "176/176 [==============================] - 1s 3ms/step - loss: 0.3985 - accuracy: 0.8146\n",
      "Epoch 28/100\n",
      "176/176 [==============================] - 1s 3ms/step - loss: 0.3979 - accuracy: 0.8153\n",
      "Epoch 29/100\n",
      "176/176 [==============================] - 1s 3ms/step - loss: 0.3981 - accuracy: 0.8148\n",
      "Epoch 30/100\n",
      "176/176 [==============================] - 1s 3ms/step - loss: 0.3978 - accuracy: 0.8156\n",
      "Epoch 31/100\n",
      "176/176 [==============================] - 0s 2ms/step - loss: 0.3972 - accuracy: 0.8188\n",
      "Epoch 32/100\n",
      "176/176 [==============================] - 0s 2ms/step - loss: 0.3967 - accuracy: 0.8183\n",
      "Epoch 33/100\n",
      "176/176 [==============================] - 0s 2ms/step - loss: 0.3960 - accuracy: 0.8178\n",
      "Epoch 34/100\n",
      "176/176 [==============================] - 0s 2ms/step - loss: 0.3960 - accuracy: 0.8167\n",
      "Epoch 35/100\n",
      "176/176 [==============================] - 0s 2ms/step - loss: 0.3953 - accuracy: 0.8148\n",
      "Epoch 36/100\n",
      "176/176 [==============================] - 0s 2ms/step - loss: 0.3951 - accuracy: 0.8160\n",
      "Epoch 37/100\n",
      "176/176 [==============================] - 0s 2ms/step - loss: 0.3952 - accuracy: 0.8192\n",
      "Epoch 38/100\n",
      "176/176 [==============================] - 0s 2ms/step - loss: 0.3947 - accuracy: 0.8164\n",
      "Epoch 39/100\n",
      "176/176 [==============================] - 0s 2ms/step - loss: 0.3944 - accuracy: 0.8180\n",
      "Epoch 40/100\n",
      "176/176 [==============================] - 0s 2ms/step - loss: 0.3934 - accuracy: 0.8187\n",
      "Epoch 41/100\n",
      "176/176 [==============================] - 0s 2ms/step - loss: 0.3938 - accuracy: 0.8196\n",
      "Epoch 42/100\n",
      "176/176 [==============================] - 1s 3ms/step - loss: 0.3933 - accuracy: 0.8192\n",
      "Epoch 43/100\n",
      "176/176 [==============================] - 1s 3ms/step - loss: 0.3933 - accuracy: 0.8201\n",
      "Epoch 44/100\n",
      "176/176 [==============================] - 1s 3ms/step - loss: 0.3931 - accuracy: 0.8176\n",
      "Epoch 45/100\n",
      "176/176 [==============================] - 1s 3ms/step - loss: 0.3925 - accuracy: 0.8187\n",
      "Epoch 46/100\n",
      "176/176 [==============================] - 1s 3ms/step - loss: 0.3920 - accuracy: 0.8185\n",
      "Epoch 47/100\n",
      "176/176 [==============================] - 1s 3ms/step - loss: 0.3923 - accuracy: 0.8174\n",
      "Epoch 48/100\n",
      "176/176 [==============================] - 0s 2ms/step - loss: 0.3912 - accuracy: 0.8183\n",
      "Epoch 49/100\n",
      "176/176 [==============================] - 0s 2ms/step - loss: 0.3912 - accuracy: 0.8181\n",
      "Epoch 50/100\n",
      "176/176 [==============================] - 0s 2ms/step - loss: 0.3909 - accuracy: 0.8192\n",
      "Epoch 51/100\n",
      "176/176 [==============================] - 0s 2ms/step - loss: 0.3904 - accuracy: 0.8199\n",
      "Epoch 52/100\n",
      "176/176 [==============================] - 0s 2ms/step - loss: 0.3911 - accuracy: 0.8203\n",
      "Epoch 53/100\n",
      "176/176 [==============================] - 0s 2ms/step - loss: 0.3903 - accuracy: 0.8187\n",
      "Epoch 54/100\n",
      "176/176 [==============================] - 0s 2ms/step - loss: 0.3901 - accuracy: 0.8208\n",
      "Epoch 55/100\n",
      "176/176 [==============================] - 0s 2ms/step - loss: 0.3899 - accuracy: 0.8192\n",
      "Epoch 56/100\n",
      "176/176 [==============================] - 1s 3ms/step - loss: 0.3897 - accuracy: 0.8203\n",
      "Epoch 57/100\n",
      "176/176 [==============================] - 1s 3ms/step - loss: 0.3895 - accuracy: 0.8201\n",
      "Epoch 58/100\n",
      "176/176 [==============================] - 1s 3ms/step - loss: 0.3892 - accuracy: 0.8208\n",
      "Epoch 59/100\n",
      "176/176 [==============================] - 1s 3ms/step - loss: 0.3890 - accuracy: 0.8201\n",
      "Epoch 60/100\n",
      "176/176 [==============================] - 1s 3ms/step - loss: 0.3889 - accuracy: 0.8203\n",
      "Epoch 61/100\n",
      "176/176 [==============================] - 1s 3ms/step - loss: 0.3886 - accuracy: 0.8212\n",
      "Epoch 62/100\n",
      "176/176 [==============================] - 0s 2ms/step - loss: 0.3883 - accuracy: 0.8199\n",
      "Epoch 63/100\n",
      "176/176 [==============================] - 0s 2ms/step - loss: 0.3883 - accuracy: 0.8201\n",
      "Epoch 64/100\n",
      "176/176 [==============================] - 0s 2ms/step - loss: 0.3877 - accuracy: 0.8151\n",
      "Epoch 65/100\n",
      "176/176 [==============================] - 0s 2ms/step - loss: 0.3872 - accuracy: 0.8213\n",
      "Epoch 66/100\n",
      "176/176 [==============================] - 0s 2ms/step - loss: 0.3877 - accuracy: 0.8174\n",
      "Epoch 67/100\n",
      "176/176 [==============================] - 1s 3ms/step - loss: 0.3872 - accuracy: 0.8197\n",
      "Epoch 68/100\n",
      "176/176 [==============================] - 1s 3ms/step - loss: 0.3870 - accuracy: 0.8210\n",
      "Epoch 69/100\n",
      "176/176 [==============================] - 1s 4ms/step - loss: 0.3870 - accuracy: 0.8190\n",
      "Epoch 70/100\n",
      "176/176 [==============================] - 1s 3ms/step - loss: 0.3861 - accuracy: 0.8215\n",
      "Epoch 71/100\n",
      "176/176 [==============================] - 0s 2ms/step - loss: 0.3859 - accuracy: 0.8190\n",
      "Epoch 72/100\n",
      "176/176 [==============================] - 0s 2ms/step - loss: 0.3865 - accuracy: 0.8219\n",
      "Epoch 73/100\n",
      "176/176 [==============================] - 0s 2ms/step - loss: 0.3864 - accuracy: 0.8197\n",
      "Epoch 74/100\n",
      "176/176 [==============================] - 0s 2ms/step - loss: 0.3862 - accuracy: 0.8192\n",
      "Epoch 75/100\n",
      "176/176 [==============================] - 0s 3ms/step - loss: 0.3851 - accuracy: 0.8196\n",
      "Epoch 76/100\n",
      "176/176 [==============================] - 1s 3ms/step - loss: 0.3855 - accuracy: 0.8206\n",
      "Epoch 77/100\n",
      "176/176 [==============================] - 1s 4ms/step - loss: 0.3858 - accuracy: 0.8206\n",
      "Epoch 78/100\n",
      "176/176 [==============================] - 1s 3ms/step - loss: 0.3854 - accuracy: 0.8210\n",
      "Epoch 79/100\n",
      "176/176 [==============================] - 1s 3ms/step - loss: 0.3845 - accuracy: 0.8224\n",
      "Epoch 80/100\n",
      "176/176 [==============================] - 1s 3ms/step - loss: 0.3844 - accuracy: 0.8219\n",
      "Epoch 81/100\n",
      "176/176 [==============================] - 1s 3ms/step - loss: 0.3842 - accuracy: 0.8210\n",
      "Epoch 82/100\n",
      "176/176 [==============================] - 1s 3ms/step - loss: 0.3839 - accuracy: 0.8199\n",
      "Epoch 83/100\n",
      "176/176 [==============================] - 1s 3ms/step - loss: 0.3846 - accuracy: 0.8213\n",
      "Epoch 84/100\n",
      "176/176 [==============================] - 1s 3ms/step - loss: 0.3839 - accuracy: 0.8238\n",
      "Epoch 85/100\n",
      "176/176 [==============================] - 1s 3ms/step - loss: 0.3827 - accuracy: 0.8204\n",
      "Epoch 86/100\n",
      "176/176 [==============================] - 1s 3ms/step - loss: 0.3831 - accuracy: 0.8194\n",
      "Epoch 87/100\n",
      "176/176 [==============================] - 1s 3ms/step - loss: 0.3834 - accuracy: 0.8201\n",
      "Epoch 88/100\n",
      "176/176 [==============================] - 1s 3ms/step - loss: 0.3827 - accuracy: 0.8212\n",
      "Epoch 89/100\n",
      "176/176 [==============================] - 1s 3ms/step - loss: 0.3827 - accuracy: 0.8212\n",
      "Epoch 90/100\n",
      "176/176 [==============================] - 1s 3ms/step - loss: 0.3826 - accuracy: 0.8224\n",
      "Epoch 91/100\n",
      "176/176 [==============================] - 1s 3ms/step - loss: 0.3821 - accuracy: 0.8203\n",
      "Epoch 92/100\n",
      "176/176 [==============================] - 1s 3ms/step - loss: 0.3825 - accuracy: 0.8206\n",
      "Epoch 93/100\n",
      "176/176 [==============================] - 0s 3ms/step - loss: 0.3816 - accuracy: 0.8197\n",
      "Epoch 94/100\n",
      "176/176 [==============================] - 1s 3ms/step - loss: 0.3814 - accuracy: 0.8208\n",
      "Epoch 95/100\n",
      "176/176 [==============================] - 1s 3ms/step - loss: 0.3814 - accuracy: 0.8219\n",
      "Epoch 96/100\n",
      "176/176 [==============================] - 1s 3ms/step - loss: 0.3811 - accuracy: 0.8219\n",
      "Epoch 97/100\n",
      "176/176 [==============================] - 1s 4ms/step - loss: 0.3810 - accuracy: 0.8219\n",
      "Epoch 98/100\n",
      "176/176 [==============================] - 0s 2ms/step - loss: 0.3813 - accuracy: 0.8199\n",
      "Epoch 99/100\n",
      "176/176 [==============================] - 1s 3ms/step - loss: 0.3797 - accuracy: 0.8229\n",
      "Epoch 100/100\n",
      "176/176 [==============================] - 1s 3ms/step - loss: 0.3803 - accuracy: 0.8224\n"
     ]
    },
    {
     "data": {
      "text/plain": [
       "<keras.src.callbacks.History at 0x167b46dd0>"
      ]
     },
     "execution_count": 39,
     "metadata": {},
     "output_type": "execute_result"
    }
   ],
   "source": [
    "model = keras.Sequential([\n",
    "    keras.layers.Dense(20, input_shape=(26,), activation = 'relu'),\n",
    "    keras.layers.Dense(1, activation = 'sigmoid'),\n",
    "])\n",
    "\n",
    "model.compile(optimizer = 'adam',\n",
    "             loss = 'binary_crossentropy',\n",
    "             metrics = ['accuracy'])\n",
    "\n",
    "model.fit(x_train, y_train, epochs= 100)"
   ]
  },
  {
   "cell_type": "code",
   "execution_count": 40,
   "id": "6063cc36",
   "metadata": {},
   "outputs": [
    {
     "name": "stdout",
     "output_type": "stream",
     "text": [
      "44/44 [==============================] - 0s 2ms/step - loss: 0.4529 - accuracy: 0.7832\n"
     ]
    },
    {
     "data": {
      "text/plain": [
       "[0.4528762698173523, 0.783226728439331]"
      ]
     },
     "execution_count": 40,
     "metadata": {},
     "output_type": "execute_result"
    }
   ],
   "source": [
    "model.evaluate(x_test, y_test)"
   ]
  },
  {
   "cell_type": "markdown",
   "id": "48261224",
   "metadata": {},
   "source": [
    "* #### I can observe that between 50 - 100 Epochs gives almost the same accuracy"
   ]
  },
  {
   "cell_type": "code",
   "execution_count": 41,
   "id": "6e6a23ca",
   "metadata": {},
   "outputs": [
    {
     "name": "stdout",
     "output_type": "stream",
     "text": [
      "44/44 [==============================] - 0s 4ms/step\n"
     ]
    },
    {
     "data": {
      "text/plain": [
       "array([[0.2344382 ],\n",
       "       [0.4254742 ],\n",
       "       [0.01975258],\n",
       "       [0.7469826 ],\n",
       "       [0.41950014]], dtype=float32)"
      ]
     },
     "execution_count": 41,
     "metadata": {},
     "output_type": "execute_result"
    }
   ],
   "source": [
    "y_pred = model.predict(x_test)\n",
    "y_pred[:5]"
   ]
  },
  {
   "cell_type": "code",
   "execution_count": 42,
   "id": "49d99b63",
   "metadata": {},
   "outputs": [
    {
     "data": {
      "text/plain": [
       "2660    0\n",
       "744     0\n",
       "5579    1\n",
       "64      1\n",
       "3287    1\n",
       "Name: Churn, dtype: int64"
      ]
     },
     "execution_count": 42,
     "metadata": {},
     "output_type": "execute_result"
    }
   ],
   "source": [
    "y_test[:5]"
   ]
  },
  {
   "cell_type": "code",
   "execution_count": 43,
   "id": "9d354f5e",
   "metadata": {},
   "outputs": [],
   "source": [
    "y_predict = []\n",
    "for element in y_pred:\n",
    "    if element > 0.5:\n",
    "        y_predict.append(1)\n",
    "    else:\n",
    "        y_predict.append(0)"
   ]
  },
  {
   "cell_type": "code",
   "execution_count": 44,
   "id": "31d47e9d",
   "metadata": {},
   "outputs": [
    {
     "data": {
      "text/plain": [
       "[0, 0, 0, 1, 0]"
      ]
     },
     "execution_count": 44,
     "metadata": {},
     "output_type": "execute_result"
    }
   ],
   "source": [
    "y_predict[:5]"
   ]
  },
  {
   "cell_type": "code",
   "execution_count": 45,
   "id": "047aae65",
   "metadata": {},
   "outputs": [],
   "source": [
    "# Checking model time\n",
    "\n",
    "def churn_time():\n",
    "    model = keras.Sequential([\n",
    "            keras.layers.Dense(20, input_shape=(26,), activation = 'relu'),\n",
    "            keras.layers.Dense(1, activation = 'sigmoid'),\n",
    "        ])\n",
    "\n",
    "    model.compile(optimizer = 'adam',\n",
    "                 loss = 'binary_crossentropy',\n",
    "                 metrics = ['accuracy'])\n",
    "    return model"
   ]
  },
  {
   "cell_type": "code",
   "execution_count": 46,
   "id": "e477ef51",
   "metadata": {},
   "outputs": [
    {
     "name": "stdout",
     "output_type": "stream",
     "text": [
      "176/176 [==============================] - 2s 3ms/step - loss: 0.6180 - accuracy: 0.6453\n",
      "1.77 s ± 0 ns per loop (mean ± std. dev. of 1 run, 1 loop each)\n"
     ]
    }
   ],
   "source": [
    "%%timeit -n1 -r1\n",
    "with tf.device('/CPU:0'):\n",
    "    cpu_model = churn_time()\n",
    "    cpu_model.fit(x_train, y_train, epochs=1)"
   ]
  },
  {
   "cell_type": "markdown",
   "id": "13c1366f",
   "metadata": {},
   "source": [
    "#### Confusion Matrix:"
   ]
  },
  {
   "cell_type": "code",
   "execution_count": 47,
   "id": "6a5a803b",
   "metadata": {},
   "outputs": [
    {
     "data": {
      "text/plain": [
       "Text(58.222222222222214, 0.5, 'Truth')"
      ]
     },
     "execution_count": 47,
     "metadata": {},
     "output_type": "execute_result"
    },
    {
     "data": {
      "image/png": "[encoded data removed]",
      "text/plain": [
       "<Figure size 700x500 with 2 Axes>"
      ]
     },
     "metadata": {},
     "output_type": "display_data"
    }
   ],
   "source": [
    "import seaborn as sn\n",
    "cm = tf.math.confusion_matrix(labels = y_test, predictions = y_predict)\n",
    "\n",
    "plt.figure(figsize = (7, 5))\n",
    "sn.heatmap(cm, annot = True, fmt = 'd')\n",
    "plt.xlabel('Predicted')\n",
    "plt.ylabel('Truth')"
   ]
  },
  {
   "cell_type": "markdown",
   "id": "7a0c92ba",
   "metadata": {},
   "source": [
    "#### Classification Report:"
   ]
  },
  {
   "cell_type": "code",
   "execution_count": 48,
   "id": "aaf40c30",
   "metadata": {},
   "outputs": [
    {
     "name": "stdout",
     "output_type": "stream",
     "text": [
      "              precision    recall  f1-score   support\n",
      "\n",
      "           0       0.82      0.90      0.85       999\n",
      "           1       0.67      0.51      0.58       408\n",
      "\n",
      "    accuracy                           0.78      1407\n",
      "   macro avg       0.74      0.70      0.72      1407\n",
      "weighted avg       0.77      0.78      0.77      1407\n",
      "\n"
     ]
    }
   ],
   "source": [
    "from sklearn.metrics import confusion_matrix, classification_report\n",
    "\n",
    "print(classification_report(y_test, y_predict))"
   ]
  },
  {
   "cell_type": "markdown",
   "id": "dbee1e54",
   "metadata": {},
   "source": [
    "## Handling the Imbalanced Data:"
   ]
  },
  {
   "cell_type": "markdown",
   "id": "cc26ea48",
   "metadata": {},
   "source": [
    " * From the Classification Report above, i can observe imbalance between the \"Yes\" and \"No\" values in the Churn column from the F1-score. Hence, the dataset is imbalanced\n",
    " \n",
    " * The goal of handling the Imbalanced dataset is to improve the F1-score"
   ]
  },
  {
   "cell_type": "code",
   "execution_count": 49,
   "id": "ca1e98d0",
   "metadata": {},
   "outputs": [],
   "source": [
    "def ANN(x_train, y_train, x_test, y_test, loss, weights):\n",
    "    model = keras.Sequential([\n",
    "        keras.layers.Dense(26, input_dim = 26, activation = 'relu'),\n",
    "        keras.layers.Dense(15, activation = 'relu'),\n",
    "        keras.layers.Dense(1, activation = 'sigmoid')\n",
    "    ])\n",
    "    \n",
    "    model.compile(optimizer = 'adam', loss = loss, metrics = ['accuracy'])\n",
    "    \n",
    "    if weights == -1:\n",
    "        model.fit(x_train, y_train, epochs = 100)\n",
    "    else:\n",
    "        model.fit(x_train, y_train, epochs = 100, class_weight = weights)\n",
    "        \n",
    "    print(model.evaluate(x_test, y_test))\n",
    "    \n",
    "    y_preds = model.predict(x_test)\n",
    "    y_preds = np.round(y_preds)\n",
    "\n",
    "    print(\"Classification Report: \\n\", classification_report(y_test, y_preds))\n",
    "    \n",
    "    return y_preds"
   ]
  },
  {
   "cell_type": "code",
   "execution_count": 50,
   "id": "7fe8f749",
   "metadata": {
    "scrolled": true
   },
   "outputs": [
    {
     "name": "stdout",
     "output_type": "stream",
     "text": [
      "Epoch 1/100\n",
      "176/176 [==============================] - 2s 3ms/step - loss: 0.5216 - accuracy: 0.7317\n",
      "Epoch 2/100\n",
      "176/176 [==============================] - 1s 3ms/step - loss: 0.4243 - accuracy: 0.7964\n",
      "Epoch 3/100\n",
      "176/176 [==============================] - 1s 3ms/step - loss: 0.4166 - accuracy: 0.8041\n",
      "Epoch 4/100\n",
      "176/176 [==============================] - 1s 3ms/step - loss: 0.4131 - accuracy: 0.8053\n",
      "Epoch 5/100\n",
      "176/176 [==============================] - 0s 3ms/step - loss: 0.4108 - accuracy: 0.8105\n",
      "Epoch 6/100\n",
      "176/176 [==============================] - 1s 3ms/step - loss: 0.4103 - accuracy: 0.8068\n",
      "Epoch 7/100\n",
      "176/176 [==============================] - 0s 2ms/step - loss: 0.4081 - accuracy: 0.8107\n",
      "Epoch 8/100\n",
      "176/176 [==============================] - 1s 3ms/step - loss: 0.4061 - accuracy: 0.8128\n",
      "Epoch 9/100\n",
      "176/176 [==============================] - 0s 3ms/step - loss: 0.4049 - accuracy: 0.8135\n",
      "Epoch 10/100\n",
      "176/176 [==============================] - 1s 3ms/step - loss: 0.4046 - accuracy: 0.8123\n",
      "Epoch 11/100\n",
      "176/176 [==============================] - 1s 3ms/step - loss: 0.4039 - accuracy: 0.8108\n",
      "Epoch 12/100\n",
      "176/176 [==============================] - 1s 4ms/step - loss: 0.4023 - accuracy: 0.8135\n",
      "Epoch 13/100\n",
      "176/176 [==============================] - 0s 3ms/step - loss: 0.4015 - accuracy: 0.8142\n",
      "Epoch 14/100\n",
      "176/176 [==============================] - 0s 3ms/step - loss: 0.4006 - accuracy: 0.8140\n",
      "Epoch 15/100\n",
      "176/176 [==============================] - 1s 3ms/step - loss: 0.3998 - accuracy: 0.8187\n",
      "Epoch 16/100\n",
      "176/176 [==============================] - 1s 3ms/step - loss: 0.3978 - accuracy: 0.8171\n",
      "Epoch 17/100\n",
      "176/176 [==============================] - 1s 3ms/step - loss: 0.3969 - accuracy: 0.8164\n",
      "Epoch 18/100\n",
      "176/176 [==============================] - 0s 3ms/step - loss: 0.3962 - accuracy: 0.8176\n",
      "Epoch 19/100\n",
      "176/176 [==============================] - 0s 3ms/step - loss: 0.3942 - accuracy: 0.8178\n",
      "Epoch 20/100\n",
      "176/176 [==============================] - 1s 3ms/step - loss: 0.3930 - accuracy: 0.8194\n",
      "Epoch 21/100\n",
      "176/176 [==============================] - 1s 3ms/step - loss: 0.3922 - accuracy: 0.8212\n",
      "Epoch 22/100\n",
      "176/176 [==============================] - 1s 4ms/step - loss: 0.3912 - accuracy: 0.8187\n",
      "Epoch 23/100\n",
      "176/176 [==============================] - 1s 4ms/step - loss: 0.3899 - accuracy: 0.8210\n",
      "Epoch 24/100\n",
      "176/176 [==============================] - 1s 3ms/step - loss: 0.3888 - accuracy: 0.8203\n",
      "Epoch 25/100\n",
      "176/176 [==============================] - 1s 3ms/step - loss: 0.3866 - accuracy: 0.8251\n",
      "Epoch 26/100\n",
      "176/176 [==============================] - 1s 3ms/step - loss: 0.3864 - accuracy: 0.8238\n",
      "Epoch 27/100\n",
      "176/176 [==============================] - 1s 4ms/step - loss: 0.3850 - accuracy: 0.8242\n",
      "Epoch 28/100\n",
      "176/176 [==============================] - 1s 4ms/step - loss: 0.3840 - accuracy: 0.8258\n",
      "Epoch 29/100\n",
      "176/176 [==============================] - 1s 3ms/step - loss: 0.3832 - accuracy: 0.8254\n",
      "Epoch 30/100\n",
      "176/176 [==============================] - 0s 3ms/step - loss: 0.3822 - accuracy: 0.8238\n",
      "Epoch 31/100\n",
      "176/176 [==============================] - 1s 3ms/step - loss: 0.3807 - accuracy: 0.8251\n",
      "Epoch 32/100\n",
      "176/176 [==============================] - 1s 3ms/step - loss: 0.3802 - accuracy: 0.8300\n",
      "Epoch 33/100\n",
      "176/176 [==============================] - 1s 3ms/step - loss: 0.3802 - accuracy: 0.8267\n",
      "Epoch 34/100\n",
      "176/176 [==============================] - 1s 3ms/step - loss: 0.3794 - accuracy: 0.8260\n",
      "Epoch 35/100\n",
      "176/176 [==============================] - 1s 3ms/step - loss: 0.3776 - accuracy: 0.8279\n",
      "Epoch 36/100\n",
      "176/176 [==============================] - 1s 3ms/step - loss: 0.3767 - accuracy: 0.8254\n",
      "Epoch 37/100\n",
      "176/176 [==============================] - 0s 3ms/step - loss: 0.3772 - accuracy: 0.8272\n",
      "Epoch 38/100\n",
      "176/176 [==============================] - 0s 3ms/step - loss: 0.3755 - accuracy: 0.8293\n",
      "Epoch 39/100\n",
      "176/176 [==============================] - 0s 3ms/step - loss: 0.3742 - accuracy: 0.8286\n",
      "Epoch 40/100\n",
      "176/176 [==============================] - 0s 3ms/step - loss: 0.3744 - accuracy: 0.8279\n",
      "Epoch 41/100\n",
      "176/176 [==============================] - 0s 2ms/step - loss: 0.3723 - accuracy: 0.8304\n",
      "Epoch 42/100\n",
      "176/176 [==============================] - 0s 2ms/step - loss: 0.3725 - accuracy: 0.8286\n",
      "Epoch 43/100\n",
      "176/176 [==============================] - 0s 2ms/step - loss: 0.3717 - accuracy: 0.8277\n",
      "Epoch 44/100\n",
      "176/176 [==============================] - 1s 4ms/step - loss: 0.3701 - accuracy: 0.8302\n",
      "Epoch 45/100\n",
      "176/176 [==============================] - 1s 4ms/step - loss: 0.3707 - accuracy: 0.8322\n",
      "Epoch 46/100\n",
      "176/176 [==============================] - 1s 5ms/step - loss: 0.3689 - accuracy: 0.8302\n",
      "Epoch 47/100\n",
      "176/176 [==============================] - 1s 4ms/step - loss: 0.3680 - accuracy: 0.8315\n",
      "Epoch 48/100\n",
      "176/176 [==============================] - 1s 6ms/step - loss: 0.3676 - accuracy: 0.8322\n",
      "Epoch 49/100\n",
      "176/176 [==============================] - 1s 5ms/step - loss: 0.3664 - accuracy: 0.8325\n",
      "Epoch 50/100\n",
      "176/176 [==============================] - 1s 5ms/step - loss: 0.3663 - accuracy: 0.8368\n",
      "Epoch 51/100\n",
      "176/176 [==============================] - 1s 5ms/step - loss: 0.3646 - accuracy: 0.8338\n",
      "Epoch 52/100\n",
      "176/176 [==============================] - 1s 6ms/step - loss: 0.3644 - accuracy: 0.8334\n",
      "Epoch 53/100\n",
      "176/176 [==============================] - 1s 5ms/step - loss: 0.3646 - accuracy: 0.8331\n",
      "Epoch 54/100\n",
      "176/176 [==============================] - 1s 4ms/step - loss: 0.3630 - accuracy: 0.8372\n",
      "Epoch 55/100\n",
      "176/176 [==============================] - 1s 4ms/step - loss: 0.3621 - accuracy: 0.8363\n",
      "Epoch 56/100\n",
      "176/176 [==============================] - 1s 3ms/step - loss: 0.3622 - accuracy: 0.8359\n",
      "Epoch 57/100\n",
      "176/176 [==============================] - 1s 3ms/step - loss: 0.3609 - accuracy: 0.8336\n",
      "Epoch 58/100\n",
      "176/176 [==============================] - 1s 3ms/step - loss: 0.3605 - accuracy: 0.8395\n",
      "Epoch 59/100\n",
      "176/176 [==============================] - 1s 3ms/step - loss: 0.3603 - accuracy: 0.8368\n",
      "Epoch 60/100\n",
      "176/176 [==============================] - 1s 3ms/step - loss: 0.3589 - accuracy: 0.8398\n",
      "Epoch 61/100\n",
      "176/176 [==============================] - 1s 4ms/step - loss: 0.3588 - accuracy: 0.8350\n",
      "Epoch 62/100\n",
      "176/176 [==============================] - 1s 3ms/step - loss: 0.3584 - accuracy: 0.8380\n",
      "Epoch 63/100\n",
      "176/176 [==============================] - 1s 3ms/step - loss: 0.3576 - accuracy: 0.8361\n",
      "Epoch 64/100\n",
      "176/176 [==============================] - 1s 4ms/step - loss: 0.3577 - accuracy: 0.8389\n",
      "Epoch 65/100\n",
      "176/176 [==============================] - 1s 3ms/step - loss: 0.3565 - accuracy: 0.8398\n",
      "Epoch 66/100\n",
      "176/176 [==============================] - 1s 3ms/step - loss: 0.3554 - accuracy: 0.8370\n",
      "Epoch 67/100\n",
      "176/176 [==============================] - 0s 3ms/step - loss: 0.3556 - accuracy: 0.8388\n",
      "Epoch 68/100\n",
      "176/176 [==============================] - 0s 3ms/step - loss: 0.3546 - accuracy: 0.8391\n",
      "Epoch 69/100\n",
      "176/176 [==============================] - 0s 2ms/step - loss: 0.3550 - accuracy: 0.8391\n",
      "Epoch 70/100\n",
      "176/176 [==============================] - 0s 2ms/step - loss: 0.3533 - accuracy: 0.8396\n",
      "Epoch 71/100\n",
      "176/176 [==============================] - 0s 2ms/step - loss: 0.3526 - accuracy: 0.8423\n",
      "Epoch 72/100\n",
      "176/176 [==============================] - 0s 2ms/step - loss: 0.3527 - accuracy: 0.8402\n",
      "Epoch 73/100\n",
      "176/176 [==============================] - 0s 2ms/step - loss: 0.3526 - accuracy: 0.8389\n",
      "Epoch 74/100\n",
      "176/176 [==============================] - 0s 2ms/step - loss: 0.3517 - accuracy: 0.8409\n",
      "Epoch 75/100\n",
      "176/176 [==============================] - 0s 2ms/step - loss: 0.3518 - accuracy: 0.8391\n",
      "Epoch 76/100\n",
      "176/176 [==============================] - 0s 3ms/step - loss: 0.3523 - accuracy: 0.8396\n",
      "Epoch 77/100\n",
      "176/176 [==============================] - 0s 2ms/step - loss: 0.3497 - accuracy: 0.8437\n",
      "Epoch 78/100\n",
      "176/176 [==============================] - 0s 2ms/step - loss: 0.3503 - accuracy: 0.8412\n",
      "Epoch 79/100\n",
      "176/176 [==============================] - 0s 2ms/step - loss: 0.3493 - accuracy: 0.8391\n",
      "Epoch 80/100\n",
      "176/176 [==============================] - 0s 2ms/step - loss: 0.3496 - accuracy: 0.8420\n",
      "Epoch 81/100\n",
      "176/176 [==============================] - 0s 2ms/step - loss: 0.3483 - accuracy: 0.8439\n",
      "Epoch 82/100\n",
      "176/176 [==============================] - 0s 2ms/step - loss: 0.3479 - accuracy: 0.8450\n",
      "Epoch 83/100\n",
      "176/176 [==============================] - 0s 2ms/step - loss: 0.3477 - accuracy: 0.8404\n",
      "Epoch 84/100\n",
      "176/176 [==============================] - 1s 3ms/step - loss: 0.3467 - accuracy: 0.8439\n",
      "Epoch 85/100\n",
      "176/176 [==============================] - 1s 3ms/step - loss: 0.3463 - accuracy: 0.8432\n",
      "Epoch 86/100\n",
      "176/176 [==============================] - 1s 3ms/step - loss: 0.3469 - accuracy: 0.8411\n",
      "Epoch 87/100\n",
      "176/176 [==============================] - 0s 3ms/step - loss: 0.3475 - accuracy: 0.8411\n",
      "Epoch 88/100\n",
      "176/176 [==============================] - 1s 3ms/step - loss: 0.3457 - accuracy: 0.8485\n",
      "Epoch 89/100\n",
      "176/176 [==============================] - 1s 3ms/step - loss: 0.3452 - accuracy: 0.8412\n",
      "Epoch 90/100\n",
      "176/176 [==============================] - 1s 3ms/step - loss: 0.3446 - accuracy: 0.8452\n",
      "Epoch 91/100\n",
      "176/176 [==============================] - 1s 4ms/step - loss: 0.3427 - accuracy: 0.8475\n",
      "Epoch 92/100\n",
      "176/176 [==============================] - 0s 3ms/step - loss: 0.3436 - accuracy: 0.8430\n",
      "Epoch 93/100\n",
      "176/176 [==============================] - 1s 3ms/step - loss: 0.3423 - accuracy: 0.8473\n",
      "Epoch 94/100\n",
      "176/176 [==============================] - 1s 3ms/step - loss: 0.3438 - accuracy: 0.8446\n",
      "Epoch 95/100\n",
      "176/176 [==============================] - 0s 3ms/step - loss: 0.3418 - accuracy: 0.8457\n",
      "Epoch 96/100\n",
      "176/176 [==============================] - 1s 3ms/step - loss: 0.3439 - accuracy: 0.8423\n",
      "Epoch 97/100\n",
      "176/176 [==============================] - 0s 2ms/step - loss: 0.3415 - accuracy: 0.8466\n",
      "Epoch 98/100\n",
      "176/176 [==============================] - 1s 3ms/step - loss: 0.3416 - accuracy: 0.8455\n",
      "Epoch 99/100\n",
      "176/176 [==============================] - 0s 2ms/step - loss: 0.3410 - accuracy: 0.8469\n",
      "Epoch 100/100\n",
      "176/176 [==============================] - 0s 2ms/step - loss: 0.3405 - accuracy: 0.8459\n",
      "44/44 [==============================] - 0s 2ms/step - loss: 0.4992 - accuracy: 0.7669\n",
      "[0.4992069900035858, 0.7668798565864563]\n",
      "44/44 [==============================] - 0s 2ms/step\n",
      "Classification Report: \n",
      "               precision    recall  f1-score   support\n",
      "\n",
      "           0       0.82      0.87      0.84       999\n",
      "           1       0.62      0.52      0.56       408\n",
      "\n",
      "    accuracy                           0.77      1407\n",
      "   macro avg       0.72      0.69      0.70      1407\n",
      "weighted avg       0.76      0.77      0.76      1407\n",
      "\n"
     ]
    }
   ],
   "source": [
    "y_preds = ANN(x_train, y_train, x_test, y_test, 'binary_crossentropy', -1)"
   ]
  },
  {
   "cell_type": "markdown",
   "id": "cce41589",
   "metadata": {},
   "source": [
    "### By Undersamlpling Technique:"
   ]
  },
  {
   "cell_type": "code",
   "execution_count": 51,
   "id": "be8fa31f",
   "metadata": {},
   "outputs": [
    {
     "data": {
      "text/plain": [
       "0    999\n",
       "1    408\n",
       "Name: Churn, dtype: int64"
      ]
     },
     "execution_count": 51,
     "metadata": {},
     "output_type": "execute_result"
    }
   ],
   "source": [
    "y_test.value_counts()"
   ]
  },
  {
   "cell_type": "markdown",
   "id": "8399f4b2",
   "metadata": {},
   "source": [
    "* I will take only 408 samples from the 0 class and train the model"
   ]
  },
  {
   "cell_type": "code",
   "execution_count": 52,
   "id": "264c9311",
   "metadata": {},
   "outputs": [],
   "source": [
    "# Class count\n",
    "count_class_0, count_class_1 = df.Churn.value_counts()\n",
    "\n",
    "df_class_0 = df2[df2['Churn'] == 0]\n",
    "df_class_1 = df2[df2['Churn'] == 1]"
   ]
  },
  {
   "cell_type": "code",
   "execution_count": 53,
   "id": "c6606ac3",
   "metadata": {},
   "outputs": [
    {
     "data": {
      "text/plain": [
       "((5163, 27), (1869, 27))"
      ]
     },
     "execution_count": 53,
     "metadata": {},
     "output_type": "execute_result"
    }
   ],
   "source": [
    "df_class_0.shape, df_class_1.shape"
   ]
  },
  {
   "cell_type": "code",
   "execution_count": 54,
   "id": "c33fc652",
   "metadata": {},
   "outputs": [
    {
     "data": {
      "text/plain": [
       "(3738, 27)"
      ]
     },
     "execution_count": 54,
     "metadata": {},
     "output_type": "execute_result"
    }
   ],
   "source": [
    "# Undersampling 0 class\n",
    "df_class_0_undersample = df_class_0.sample(count_class_1, random_state=15)\n",
    "\n",
    "df_test_undersample = pd.concat([df_class_0_undersample,df_class_1], axis = 0)\n",
    "df_test_undersample.shape"
   ]
  },
  {
   "cell_type": "code",
   "execution_count": 55,
   "id": "f728503c",
   "metadata": {},
   "outputs": [
    {
     "name": "stdout",
     "output_type": "stream",
     "text": [
      "Random under-sampling:\n",
      "0    1869\n",
      "1    1869\n",
      "Name: Churn, dtype: int64\n"
     ]
    }
   ],
   "source": [
    "print(\"Random under-sampling:\")\n",
    "print(df_test_undersample.Churn.value_counts())"
   ]
  },
  {
   "cell_type": "code",
   "execution_count": 56,
   "id": "102c8723",
   "metadata": {},
   "outputs": [],
   "source": [
    "# Creating x and y values\n",
    "\n",
    "x = df_test_undersample.drop(\"Churn\", axis = 'columns')\n",
    "y = df_test_undersample[\"Churn\"]\n",
    "\n",
    "from sklearn.model_selection import train_test_split\n",
    "x_train, x_test, y_train, y_test = train_test_split(x, y, test_size = 0.2, random_state = 15, stratify=y)"
   ]
  },
  {
   "cell_type": "code",
   "execution_count": 57,
   "id": "fd06e49a",
   "metadata": {},
   "outputs": [
    {
     "data": {
      "text/plain": [
       "(0    1495\n",
       " 1    1495\n",
       " Name: Churn, dtype: int64,\n",
       " 1    374\n",
       " 0    374\n",
       " Name: Churn, dtype: int64)"
      ]
     },
     "execution_count": 57,
     "metadata": {},
     "output_type": "execute_result"
    }
   ],
   "source": [
    "y_train.value_counts(), y_test.value_counts()"
   ]
  },
  {
   "cell_type": "code",
   "execution_count": 58,
   "id": "508934d7",
   "metadata": {},
   "outputs": [
    {
     "name": "stdout",
     "output_type": "stream",
     "text": [
      "Epoch 1/100\n",
      "94/94 [==============================] - 1s 2ms/step - loss: 0.6249 - accuracy: 0.6555\n",
      "Epoch 2/100\n",
      "94/94 [==============================] - 0s 2ms/step - loss: 0.5087 - accuracy: 0.7572\n",
      "Epoch 3/100\n",
      "94/94 [==============================] - 0s 2ms/step - loss: 0.4963 - accuracy: 0.7582\n",
      "Epoch 4/100\n",
      "94/94 [==============================] - 0s 2ms/step - loss: 0.4910 - accuracy: 0.7612\n",
      "Epoch 5/100\n",
      "94/94 [==============================] - 0s 2ms/step - loss: 0.4899 - accuracy: 0.7629\n",
      "Epoch 6/100\n",
      "94/94 [==============================] - 0s 2ms/step - loss: 0.4851 - accuracy: 0.7642\n",
      "Epoch 7/100\n",
      "94/94 [==============================] - 0s 2ms/step - loss: 0.4838 - accuracy: 0.7622\n",
      "Epoch 8/100\n",
      "94/94 [==============================] - 0s 2ms/step - loss: 0.4825 - accuracy: 0.7659\n",
      "Epoch 9/100\n",
      "94/94 [==============================] - 0s 3ms/step - loss: 0.4810 - accuracy: 0.7635\n",
      "Epoch 10/100\n",
      "94/94 [==============================] - 0s 2ms/step - loss: 0.4792 - accuracy: 0.7669\n",
      "Epoch 11/100\n",
      "94/94 [==============================] - 0s 2ms/step - loss: 0.4775 - accuracy: 0.7649\n",
      "Epoch 12/100\n",
      "94/94 [==============================] - 0s 2ms/step - loss: 0.4755 - accuracy: 0.7656\n",
      "Epoch 13/100\n",
      "94/94 [==============================] - 0s 2ms/step - loss: 0.4764 - accuracy: 0.7639\n",
      "Epoch 14/100\n",
      "94/94 [==============================] - 0s 2ms/step - loss: 0.4739 - accuracy: 0.7689\n",
      "Epoch 15/100\n",
      "94/94 [==============================] - 0s 2ms/step - loss: 0.4721 - accuracy: 0.7669\n",
      "Epoch 16/100\n",
      "94/94 [==============================] - 0s 2ms/step - loss: 0.4708 - accuracy: 0.7699\n",
      "Epoch 17/100\n",
      "94/94 [==============================] - 0s 2ms/step - loss: 0.4695 - accuracy: 0.7702\n",
      "Epoch 18/100\n",
      "94/94 [==============================] - 0s 3ms/step - loss: 0.4670 - accuracy: 0.7766\n",
      "Epoch 19/100\n",
      "94/94 [==============================] - 0s 2ms/step - loss: 0.4663 - accuracy: 0.7712\n",
      "Epoch 20/100\n",
      "94/94 [==============================] - 0s 3ms/step - loss: 0.4656 - accuracy: 0.7776\n",
      "Epoch 21/100\n",
      "94/94 [==============================] - 0s 2ms/step - loss: 0.4637 - accuracy: 0.7749\n",
      "Epoch 22/100\n",
      "94/94 [==============================] - 0s 2ms/step - loss: 0.4624 - accuracy: 0.7742\n",
      "Epoch 23/100\n",
      "94/94 [==============================] - 0s 2ms/step - loss: 0.4613 - accuracy: 0.7783\n",
      "Epoch 24/100\n",
      "94/94 [==============================] - 0s 2ms/step - loss: 0.4608 - accuracy: 0.7796\n",
      "Epoch 25/100\n",
      "94/94 [==============================] - 0s 2ms/step - loss: 0.4593 - accuracy: 0.7803\n",
      "Epoch 26/100\n",
      "94/94 [==============================] - 0s 2ms/step - loss: 0.4596 - accuracy: 0.7742\n",
      "Epoch 27/100\n",
      "94/94 [==============================] - 0s 2ms/step - loss: 0.4573 - accuracy: 0.7756\n",
      "Epoch 28/100\n",
      "94/94 [==============================] - 0s 2ms/step - loss: 0.4551 - accuracy: 0.7816\n",
      "Epoch 29/100\n",
      "94/94 [==============================] - 0s 2ms/step - loss: 0.4551 - accuracy: 0.7786\n",
      "Epoch 30/100\n",
      "94/94 [==============================] - 0s 2ms/step - loss: 0.4547 - accuracy: 0.7856\n",
      "Epoch 31/100\n",
      "94/94 [==============================] - 0s 2ms/step - loss: 0.4513 - accuracy: 0.7843\n",
      "Epoch 32/100\n",
      "94/94 [==============================] - 0s 2ms/step - loss: 0.4518 - accuracy: 0.7846\n",
      "Epoch 33/100\n",
      "94/94 [==============================] - 0s 2ms/step - loss: 0.4499 - accuracy: 0.7833\n",
      "Epoch 34/100\n",
      "94/94 [==============================] - 0s 3ms/step - loss: 0.4491 - accuracy: 0.7833\n",
      "Epoch 35/100\n",
      "94/94 [==============================] - 0s 2ms/step - loss: 0.4477 - accuracy: 0.7863\n",
      "Epoch 36/100\n",
      "94/94 [==============================] - 0s 2ms/step - loss: 0.4456 - accuracy: 0.7860\n",
      "Epoch 37/100\n",
      "94/94 [==============================] - 0s 2ms/step - loss: 0.4460 - accuracy: 0.7863\n",
      "Epoch 38/100\n",
      "94/94 [==============================] - 0s 2ms/step - loss: 0.4453 - accuracy: 0.7873\n",
      "Epoch 39/100\n",
      "94/94 [==============================] - 0s 3ms/step - loss: 0.4430 - accuracy: 0.7886\n",
      "Epoch 40/100\n",
      "94/94 [==============================] - 0s 2ms/step - loss: 0.4439 - accuracy: 0.7890\n",
      "Epoch 41/100\n",
      "94/94 [==============================] - 0s 3ms/step - loss: 0.4411 - accuracy: 0.7896\n",
      "Epoch 42/100\n",
      "94/94 [==============================] - 0s 3ms/step - loss: 0.4398 - accuracy: 0.7920\n",
      "Epoch 43/100\n",
      "94/94 [==============================] - 0s 3ms/step - loss: 0.4391 - accuracy: 0.7893\n",
      "Epoch 44/100\n",
      "94/94 [==============================] - 0s 3ms/step - loss: 0.4378 - accuracy: 0.7910\n",
      "Epoch 45/100\n",
      "94/94 [==============================] - 0s 3ms/step - loss: 0.4383 - accuracy: 0.7920\n",
      "Epoch 46/100\n",
      "94/94 [==============================] - 0s 2ms/step - loss: 0.4369 - accuracy: 0.7886\n",
      "Epoch 47/100\n",
      "94/94 [==============================] - 0s 2ms/step - loss: 0.4349 - accuracy: 0.7933\n",
      "Epoch 48/100\n",
      "94/94 [==============================] - 0s 4ms/step - loss: 0.4356 - accuracy: 0.7913\n",
      "Epoch 49/100\n",
      "94/94 [==============================] - 0s 5ms/step - loss: 0.4344 - accuracy: 0.7960\n",
      "Epoch 50/100\n",
      "94/94 [==============================] - 0s 4ms/step - loss: 0.4346 - accuracy: 0.7916\n",
      "Epoch 51/100\n",
      "94/94 [==============================] - 0s 4ms/step - loss: 0.4332 - accuracy: 0.8010\n",
      "Epoch 52/100\n",
      "94/94 [==============================] - 0s 3ms/step - loss: 0.4317 - accuracy: 0.7957\n",
      "Epoch 53/100\n",
      "94/94 [==============================] - 0s 3ms/step - loss: 0.4316 - accuracy: 0.7980\n",
      "Epoch 54/100\n",
      "94/94 [==============================] - 0s 4ms/step - loss: 0.4297 - accuracy: 0.7983\n",
      "Epoch 55/100\n",
      "94/94 [==============================] - 0s 3ms/step - loss: 0.4286 - accuracy: 0.7987\n",
      "Epoch 56/100\n",
      "94/94 [==============================] - 0s 4ms/step - loss: 0.4271 - accuracy: 0.8000\n",
      "Epoch 57/100\n",
      "94/94 [==============================] - 0s 3ms/step - loss: 0.4292 - accuracy: 0.7977\n",
      "Epoch 58/100\n",
      "94/94 [==============================] - 0s 4ms/step - loss: 0.4266 - accuracy: 0.7973\n",
      "Epoch 59/100\n",
      "94/94 [==============================] - 0s 5ms/step - loss: 0.4256 - accuracy: 0.8003\n",
      "Epoch 60/100\n",
      "94/94 [==============================] - 0s 4ms/step - loss: 0.4251 - accuracy: 0.8003\n",
      "Epoch 61/100\n",
      "94/94 [==============================] - 0s 4ms/step - loss: 0.4246 - accuracy: 0.8000\n",
      "Epoch 62/100\n",
      "94/94 [==============================] - 0s 4ms/step - loss: 0.4234 - accuracy: 0.7987\n",
      "Epoch 63/100\n",
      "94/94 [==============================] - 0s 4ms/step - loss: 0.4217 - accuracy: 0.8043\n",
      "Epoch 64/100\n",
      "94/94 [==============================] - 0s 3ms/step - loss: 0.4213 - accuracy: 0.8020\n",
      "Epoch 65/100\n",
      "94/94 [==============================] - 0s 3ms/step - loss: 0.4205 - accuracy: 0.8037\n",
      "Epoch 66/100\n",
      "94/94 [==============================] - 0s 3ms/step - loss: 0.4215 - accuracy: 0.7997\n",
      "Epoch 67/100\n",
      "94/94 [==============================] - 0s 3ms/step - loss: 0.4205 - accuracy: 0.8027\n",
      "Epoch 68/100\n",
      "94/94 [==============================] - 0s 4ms/step - loss: 0.4192 - accuracy: 0.8047\n",
      "Epoch 69/100\n",
      "94/94 [==============================] - 0s 3ms/step - loss: 0.4171 - accuracy: 0.8064\n",
      "Epoch 70/100\n",
      "94/94 [==============================] - 0s 2ms/step - loss: 0.4165 - accuracy: 0.8087\n",
      "Epoch 71/100\n",
      "94/94 [==============================] - 0s 3ms/step - loss: 0.4155 - accuracy: 0.8027\n",
      "Epoch 72/100\n",
      "94/94 [==============================] - 0s 2ms/step - loss: 0.4149 - accuracy: 0.8074\n",
      "Epoch 73/100\n",
      "94/94 [==============================] - 0s 2ms/step - loss: 0.4154 - accuracy: 0.8110\n",
      "Epoch 74/100\n",
      "94/94 [==============================] - 0s 2ms/step - loss: 0.4146 - accuracy: 0.8050\n",
      "Epoch 75/100\n",
      "94/94 [==============================] - 0s 3ms/step - loss: 0.4132 - accuracy: 0.8087\n",
      "Epoch 76/100\n",
      "94/94 [==============================] - 0s 4ms/step - loss: 0.4120 - accuracy: 0.8074\n",
      "Epoch 77/100\n",
      "94/94 [==============================] - 0s 3ms/step - loss: 0.4117 - accuracy: 0.8110\n",
      "Epoch 78/100\n",
      "94/94 [==============================] - 0s 4ms/step - loss: 0.4107 - accuracy: 0.8067\n",
      "Epoch 79/100\n",
      "94/94 [==============================] - 0s 3ms/step - loss: 0.4128 - accuracy: 0.8094\n",
      "Epoch 80/100\n",
      "94/94 [==============================] - 0s 3ms/step - loss: 0.4098 - accuracy: 0.8033\n",
      "Epoch 81/100\n",
      "94/94 [==============================] - 0s 4ms/step - loss: 0.4080 - accuracy: 0.8117\n",
      "Epoch 82/100\n",
      "94/94 [==============================] - 0s 3ms/step - loss: 0.4073 - accuracy: 0.8117\n",
      "Epoch 83/100\n"
     ]
    },
    {
     "name": "stdout",
     "output_type": "stream",
     "text": [
      "94/94 [==============================] - 0s 3ms/step - loss: 0.4081 - accuracy: 0.8050\n",
      "Epoch 84/100\n",
      "94/94 [==============================] - 0s 4ms/step - loss: 0.4070 - accuracy: 0.8124\n",
      "Epoch 85/100\n",
      "94/94 [==============================] - 0s 4ms/step - loss: 0.4051 - accuracy: 0.8124\n",
      "Epoch 86/100\n",
      "94/94 [==============================] - 0s 4ms/step - loss: 0.4047 - accuracy: 0.8140\n",
      "Epoch 87/100\n",
      "94/94 [==============================] - 0s 2ms/step - loss: 0.4036 - accuracy: 0.8117\n",
      "Epoch 88/100\n",
      "94/94 [==============================] - 0s 4ms/step - loss: 0.4072 - accuracy: 0.8110\n",
      "Epoch 89/100\n",
      "94/94 [==============================] - 0s 5ms/step - loss: 0.4019 - accuracy: 0.8120\n",
      "Epoch 90/100\n",
      "94/94 [==============================] - 0s 3ms/step - loss: 0.4019 - accuracy: 0.8110\n",
      "Epoch 91/100\n",
      "94/94 [==============================] - 0s 2ms/step - loss: 0.4020 - accuracy: 0.8090\n",
      "Epoch 92/100\n",
      "94/94 [==============================] - 0s 3ms/step - loss: 0.4050 - accuracy: 0.8124\n",
      "Epoch 93/100\n",
      "94/94 [==============================] - 0s 3ms/step - loss: 0.4007 - accuracy: 0.8104\n",
      "Epoch 94/100\n",
      "94/94 [==============================] - 0s 2ms/step - loss: 0.4002 - accuracy: 0.8151\n",
      "Epoch 95/100\n",
      "94/94 [==============================] - 0s 3ms/step - loss: 0.3994 - accuracy: 0.8137\n",
      "Epoch 96/100\n",
      "94/94 [==============================] - 0s 4ms/step - loss: 0.3982 - accuracy: 0.8181\n",
      "Epoch 97/100\n",
      "94/94 [==============================] - 0s 3ms/step - loss: 0.3986 - accuracy: 0.8137\n",
      "Epoch 98/100\n",
      "94/94 [==============================] - 0s 2ms/step - loss: 0.3965 - accuracy: 0.8164\n",
      "Epoch 99/100\n",
      "94/94 [==============================] - 0s 3ms/step - loss: 0.3967 - accuracy: 0.8117\n",
      "Epoch 100/100\n",
      "94/94 [==============================] - 0s 2ms/step - loss: 0.3979 - accuracy: 0.8161\n",
      "24/24 [==============================] - 0s 3ms/step - loss: 0.5299 - accuracy: 0.7594\n",
      "[0.529863178730011, 0.759358286857605]\n",
      "24/24 [==============================] - 0s 2ms/step\n",
      "Classification Report: \n",
      "               precision    recall  f1-score   support\n",
      "\n",
      "           0       0.77      0.74      0.75       374\n",
      "           1       0.75      0.78      0.76       374\n",
      "\n",
      "    accuracy                           0.76       748\n",
      "   macro avg       0.76      0.76      0.76       748\n",
      "weighted avg       0.76      0.76      0.76       748\n",
      "\n"
     ]
    }
   ],
   "source": [
    "y_preds = ANN(x_train, y_train, x_test, y_test, 'binary_crossentropy', -1)"
   ]
  },
  {
   "cell_type": "markdown",
   "id": "6c6de2c3",
   "metadata": {},
   "source": [
    "#### *  Using the Under-sampling technique, I can observe the F1 scores for both class 0 and class 1 are the same with a 76% score and 76% accurcay, hence there is a balance between the F1-scores"
   ]
  },
  {
   "cell_type": "markdown",
   "id": "d4baa18e",
   "metadata": {},
   "source": [
    "### By Oversampling Technique:"
   ]
  },
  {
   "cell_type": "code",
   "execution_count": 59,
   "id": "5feade23",
   "metadata": {},
   "outputs": [
    {
     "data": {
      "text/plain": [
       "(5174, 1869)"
      ]
     },
     "execution_count": 59,
     "metadata": {},
     "output_type": "execute_result"
    }
   ],
   "source": [
    "count_class_0, count_class_1"
   ]
  },
  {
   "cell_type": "code",
   "execution_count": 60,
   "id": "85203890",
   "metadata": {},
   "outputs": [
    {
     "data": {
      "text/plain": [
       "(10337, 27)"
      ]
     },
     "execution_count": 60,
     "metadata": {},
     "output_type": "execute_result"
    }
   ],
   "source": [
    "df_class_1_oversample = df_class_1.sample(count_class_0, replace = True)\n",
    "\n",
    "df_test_oversample = pd.concat([df_class_0, df_class_1_oversample], axis = 0)\n",
    "df_test_oversample.shape"
   ]
  },
  {
   "cell_type": "code",
   "execution_count": 61,
   "id": "26af4871",
   "metadata": {},
   "outputs": [
    {
     "name": "stdout",
     "output_type": "stream",
     "text": [
      "Random Over-sampling:\n",
      "1    5174\n",
      "0    5163\n",
      "Name: Churn, dtype: int64\n"
     ]
    }
   ],
   "source": [
    "print(\"Random Over-sampling:\")\n",
    "print(df_test_oversample.Churn.value_counts())"
   ]
  },
  {
   "cell_type": "code",
   "execution_count": 62,
   "id": "b72815e6",
   "metadata": {},
   "outputs": [],
   "source": [
    "x = df_test_undersample.drop(\"Churn\", axis = 'columns')\n",
    "y = df_test_undersample[\"Churn\"]\n",
    "\n",
    "from sklearn.model_selection import train_test_split\n",
    "x_train, x_test, y_train, y_test = train_test_split(x, y, test_size = 0.2, random_state = 15, stratify=y)"
   ]
  },
  {
   "cell_type": "code",
   "execution_count": 63,
   "id": "dc038698",
   "metadata": {},
   "outputs": [
    {
     "data": {
      "text/plain": [
       "0    1495\n",
       "1    1495\n",
       "Name: Churn, dtype: int64"
      ]
     },
     "execution_count": 63,
     "metadata": {},
     "output_type": "execute_result"
    }
   ],
   "source": [
    "y_train.value_counts()"
   ]
  },
  {
   "cell_type": "code",
   "execution_count": 64,
   "id": "780f1431",
   "metadata": {},
   "outputs": [
    {
     "name": "stdout",
     "output_type": "stream",
     "text": [
      "Epoch 1/100\n",
      "94/94 [==============================] - 2s 4ms/step - loss: 0.6190 - accuracy: 0.6572\n",
      "Epoch 2/100\n",
      "94/94 [==============================] - 0s 3ms/step - loss: 0.5170 - accuracy: 0.7595\n",
      "Epoch 3/100\n",
      "94/94 [==============================] - 0s 3ms/step - loss: 0.5012 - accuracy: 0.7565\n",
      "Epoch 4/100\n",
      "94/94 [==============================] - 0s 4ms/step - loss: 0.4945 - accuracy: 0.7629\n",
      "Epoch 5/100\n",
      "94/94 [==============================] - 0s 3ms/step - loss: 0.4896 - accuracy: 0.7635\n",
      "Epoch 6/100\n",
      "94/94 [==============================] - 0s 3ms/step - loss: 0.4866 - accuracy: 0.7659\n",
      "Epoch 7/100\n",
      "94/94 [==============================] - 0s 3ms/step - loss: 0.4865 - accuracy: 0.7635\n",
      "Epoch 8/100\n",
      "94/94 [==============================] - 0s 3ms/step - loss: 0.4836 - accuracy: 0.7679\n",
      "Epoch 9/100\n",
      "94/94 [==============================] - 0s 3ms/step - loss: 0.4803 - accuracy: 0.7662\n",
      "Epoch 10/100\n",
      "94/94 [==============================] - 0s 3ms/step - loss: 0.4797 - accuracy: 0.7639\n",
      "Epoch 11/100\n",
      "94/94 [==============================] - 0s 3ms/step - loss: 0.4778 - accuracy: 0.7676\n",
      "Epoch 12/100\n",
      "94/94 [==============================] - 0s 3ms/step - loss: 0.4758 - accuracy: 0.7686\n",
      "Epoch 13/100\n",
      "94/94 [==============================] - 0s 4ms/step - loss: 0.4748 - accuracy: 0.7689\n",
      "Epoch 14/100\n",
      "94/94 [==============================] - 0s 3ms/step - loss: 0.4741 - accuracy: 0.7719\n",
      "Epoch 15/100\n",
      "94/94 [==============================] - 0s 4ms/step - loss: 0.4709 - accuracy: 0.7679\n",
      "Epoch 16/100\n",
      "94/94 [==============================] - 0s 3ms/step - loss: 0.4694 - accuracy: 0.7689\n",
      "Epoch 17/100\n",
      "94/94 [==============================] - 0s 2ms/step - loss: 0.4671 - accuracy: 0.7739\n",
      "Epoch 18/100\n",
      "94/94 [==============================] - 0s 2ms/step - loss: 0.4668 - accuracy: 0.7753\n",
      "Epoch 19/100\n",
      "94/94 [==============================] - 0s 3ms/step - loss: 0.4671 - accuracy: 0.7736\n",
      "Epoch 20/100\n",
      "94/94 [==============================] - 0s 4ms/step - loss: 0.4630 - accuracy: 0.7722\n",
      "Epoch 21/100\n",
      "94/94 [==============================] - 0s 3ms/step - loss: 0.4610 - accuracy: 0.7756\n",
      "Epoch 22/100\n",
      "94/94 [==============================] - 0s 3ms/step - loss: 0.4599 - accuracy: 0.7749\n",
      "Epoch 23/100\n",
      "94/94 [==============================] - 0s 4ms/step - loss: 0.4577 - accuracy: 0.7769\n",
      "Epoch 24/100\n",
      "94/94 [==============================] - 0s 4ms/step - loss: 0.4553 - accuracy: 0.7819\n",
      "Epoch 25/100\n",
      "94/94 [==============================] - 0s 3ms/step - loss: 0.4551 - accuracy: 0.7799\n",
      "Epoch 26/100\n",
      "94/94 [==============================] - 0s 3ms/step - loss: 0.4532 - accuracy: 0.7776\n",
      "Epoch 27/100\n",
      "94/94 [==============================] - 0s 3ms/step - loss: 0.4506 - accuracy: 0.7843\n",
      "Epoch 28/100\n",
      "94/94 [==============================] - 0s 3ms/step - loss: 0.4496 - accuracy: 0.7839\n",
      "Epoch 29/100\n",
      "94/94 [==============================] - 0s 4ms/step - loss: 0.4485 - accuracy: 0.7856\n",
      "Epoch 30/100\n",
      "94/94 [==============================] - 0s 3ms/step - loss: 0.4480 - accuracy: 0.7870\n",
      "Epoch 31/100\n",
      "94/94 [==============================] - 0s 3ms/step - loss: 0.4461 - accuracy: 0.7846\n",
      "Epoch 32/100\n",
      "94/94 [==============================] - 0s 3ms/step - loss: 0.4452 - accuracy: 0.7829\n",
      "Epoch 33/100\n",
      "94/94 [==============================] - 0s 4ms/step - loss: 0.4439 - accuracy: 0.7839\n",
      "Epoch 34/100\n",
      "94/94 [==============================] - 0s 3ms/step - loss: 0.4412 - accuracy: 0.7886\n",
      "Epoch 35/100\n",
      "94/94 [==============================] - 0s 4ms/step - loss: 0.4399 - accuracy: 0.7866\n",
      "Epoch 36/100\n",
      "94/94 [==============================] - 0s 3ms/step - loss: 0.4393 - accuracy: 0.7903\n",
      "Epoch 37/100\n",
      "94/94 [==============================] - 0s 3ms/step - loss: 0.4375 - accuracy: 0.7906\n",
      "Epoch 38/100\n",
      "94/94 [==============================] - 0s 3ms/step - loss: 0.4394 - accuracy: 0.7880\n",
      "Epoch 39/100\n",
      "94/94 [==============================] - 0s 3ms/step - loss: 0.4356 - accuracy: 0.7930\n",
      "Epoch 40/100\n",
      "94/94 [==============================] - 0s 2ms/step - loss: 0.4343 - accuracy: 0.7900\n",
      "Epoch 41/100\n",
      "94/94 [==============================] - 0s 3ms/step - loss: 0.4341 - accuracy: 0.7930\n",
      "Epoch 42/100\n",
      "94/94 [==============================] - 0s 2ms/step - loss: 0.4327 - accuracy: 0.7906\n",
      "Epoch 43/100\n",
      "94/94 [==============================] - 0s 2ms/step - loss: 0.4308 - accuracy: 0.7923\n",
      "Epoch 44/100\n",
      "94/94 [==============================] - 0s 2ms/step - loss: 0.4298 - accuracy: 0.7997\n",
      "Epoch 45/100\n",
      "94/94 [==============================] - 0s 3ms/step - loss: 0.4301 - accuracy: 0.7890\n",
      "Epoch 46/100\n",
      "94/94 [==============================] - 0s 3ms/step - loss: 0.4271 - accuracy: 0.7923\n",
      "Epoch 47/100\n",
      "94/94 [==============================] - 0s 3ms/step - loss: 0.4255 - accuracy: 0.7967\n",
      "Epoch 48/100\n",
      "94/94 [==============================] - 0s 3ms/step - loss: 0.4242 - accuracy: 0.8010\n",
      "Epoch 49/100\n",
      "94/94 [==============================] - 0s 3ms/step - loss: 0.4252 - accuracy: 0.7963\n",
      "Epoch 50/100\n",
      "94/94 [==============================] - 0s 3ms/step - loss: 0.4229 - accuracy: 0.8030\n",
      "Epoch 51/100\n",
      "94/94 [==============================] - 0s 3ms/step - loss: 0.4240 - accuracy: 0.7990\n",
      "Epoch 52/100\n",
      "94/94 [==============================] - 0s 3ms/step - loss: 0.4213 - accuracy: 0.7983\n",
      "Epoch 53/100\n",
      "94/94 [==============================] - 0s 3ms/step - loss: 0.4201 - accuracy: 0.7990\n",
      "Epoch 54/100\n",
      "94/94 [==============================] - 0s 2ms/step - loss: 0.4212 - accuracy: 0.7997\n",
      "Epoch 55/100\n",
      "94/94 [==============================] - 0s 3ms/step - loss: 0.4183 - accuracy: 0.7987\n",
      "Epoch 56/100\n",
      "94/94 [==============================] - 0s 4ms/step - loss: 0.4190 - accuracy: 0.8007\n",
      "Epoch 57/100\n",
      "94/94 [==============================] - 0s 4ms/step - loss: 0.4152 - accuracy: 0.8070\n",
      "Epoch 58/100\n",
      "94/94 [==============================] - 0s 4ms/step - loss: 0.4176 - accuracy: 0.8027\n",
      "Epoch 59/100\n",
      "94/94 [==============================] - 0s 3ms/step - loss: 0.4135 - accuracy: 0.8050\n",
      "Epoch 60/100\n",
      "94/94 [==============================] - 0s 2ms/step - loss: 0.4118 - accuracy: 0.8050\n",
      "Epoch 61/100\n",
      "94/94 [==============================] - 0s 2ms/step - loss: 0.4120 - accuracy: 0.7993\n",
      "Epoch 62/100\n",
      "94/94 [==============================] - 0s 3ms/step - loss: 0.4111 - accuracy: 0.8057\n",
      "Epoch 63/100\n",
      "94/94 [==============================] - 0s 3ms/step - loss: 0.4094 - accuracy: 0.8087\n",
      "Epoch 64/100\n",
      "94/94 [==============================] - 0s 3ms/step - loss: 0.4093 - accuracy: 0.8064\n",
      "Epoch 65/100\n",
      "94/94 [==============================] - 0s 3ms/step - loss: 0.4071 - accuracy: 0.8104\n",
      "Epoch 66/100\n",
      "94/94 [==============================] - 0s 3ms/step - loss: 0.4063 - accuracy: 0.8033\n",
      "Epoch 67/100\n",
      "94/94 [==============================] - 0s 3ms/step - loss: 0.4042 - accuracy: 0.8097\n",
      "Epoch 68/100\n",
      "94/94 [==============================] - 0s 4ms/step - loss: 0.4053 - accuracy: 0.8110\n",
      "Epoch 69/100\n",
      "94/94 [==============================] - 0s 3ms/step - loss: 0.4039 - accuracy: 0.8107\n",
      "Epoch 70/100\n",
      "94/94 [==============================] - 0s 3ms/step - loss: 0.4025 - accuracy: 0.8084\n",
      "Epoch 71/100\n",
      "94/94 [==============================] - 0s 3ms/step - loss: 0.4007 - accuracy: 0.8107\n",
      "Epoch 72/100\n",
      "94/94 [==============================] - 0s 3ms/step - loss: 0.4009 - accuracy: 0.8134\n",
      "Epoch 73/100\n",
      "94/94 [==============================] - 0s 3ms/step - loss: 0.3982 - accuracy: 0.8140\n",
      "Epoch 74/100\n",
      "94/94 [==============================] - 0s 3ms/step - loss: 0.3981 - accuracy: 0.8137\n",
      "Epoch 75/100\n",
      "94/94 [==============================] - 0s 3ms/step - loss: 0.3985 - accuracy: 0.8117\n",
      "Epoch 76/100\n",
      "94/94 [==============================] - 0s 4ms/step - loss: 0.3951 - accuracy: 0.8171\n",
      "Epoch 77/100\n",
      "94/94 [==============================] - 0s 4ms/step - loss: 0.3978 - accuracy: 0.8110\n",
      "Epoch 78/100\n",
      "94/94 [==============================] - 0s 4ms/step - loss: 0.3955 - accuracy: 0.8114\n",
      "Epoch 79/100\n",
      "94/94 [==============================] - 0s 4ms/step - loss: 0.3958 - accuracy: 0.8191\n",
      "Epoch 80/100\n",
      "94/94 [==============================] - 0s 3ms/step - loss: 0.3941 - accuracy: 0.8134\n",
      "Epoch 81/100\n",
      "94/94 [==============================] - 0s 4ms/step - loss: 0.3931 - accuracy: 0.8207\n",
      "Epoch 82/100\n",
      "94/94 [==============================] - 0s 3ms/step - loss: 0.3923 - accuracy: 0.8134\n",
      "Epoch 83/100\n"
     ]
    },
    {
     "name": "stdout",
     "output_type": "stream",
     "text": [
      "94/94 [==============================] - 0s 3ms/step - loss: 0.3914 - accuracy: 0.8167\n",
      "Epoch 84/100\n",
      "94/94 [==============================] - 0s 4ms/step - loss: 0.3900 - accuracy: 0.8161\n",
      "Epoch 85/100\n",
      "94/94 [==============================] - 0s 2ms/step - loss: 0.3902 - accuracy: 0.8201\n",
      "Epoch 86/100\n",
      "94/94 [==============================] - 0s 3ms/step - loss: 0.3935 - accuracy: 0.8221\n",
      "Epoch 87/100\n",
      "94/94 [==============================] - 0s 4ms/step - loss: 0.3879 - accuracy: 0.8214\n",
      "Epoch 88/100\n",
      "94/94 [==============================] - 0s 3ms/step - loss: 0.3875 - accuracy: 0.8191\n",
      "Epoch 89/100\n",
      "94/94 [==============================] - 0s 3ms/step - loss: 0.3858 - accuracy: 0.8204\n",
      "Epoch 90/100\n",
      "94/94 [==============================] - 0s 4ms/step - loss: 0.3866 - accuracy: 0.8224\n",
      "Epoch 91/100\n",
      "94/94 [==============================] - 0s 3ms/step - loss: 0.3850 - accuracy: 0.8194\n",
      "Epoch 92/100\n",
      "94/94 [==============================] - 0s 3ms/step - loss: 0.3835 - accuracy: 0.8214\n",
      "Epoch 93/100\n",
      "94/94 [==============================] - 0s 3ms/step - loss: 0.3846 - accuracy: 0.8217\n",
      "Epoch 94/100\n",
      "94/94 [==============================] - 0s 4ms/step - loss: 0.3828 - accuracy: 0.8268\n",
      "Epoch 95/100\n",
      "94/94 [==============================] - 0s 3ms/step - loss: 0.3829 - accuracy: 0.8184\n",
      "Epoch 96/100\n",
      "94/94 [==============================] - 0s 3ms/step - loss: 0.3858 - accuracy: 0.8237\n",
      "Epoch 97/100\n",
      "94/94 [==============================] - 0s 4ms/step - loss: 0.3795 - accuracy: 0.8271\n",
      "Epoch 98/100\n",
      "94/94 [==============================] - 0s 3ms/step - loss: 0.3807 - accuracy: 0.8264\n",
      "Epoch 99/100\n",
      "94/94 [==============================] - 0s 4ms/step - loss: 0.3782 - accuracy: 0.8237\n",
      "Epoch 100/100\n",
      "94/94 [==============================] - 0s 3ms/step - loss: 0.3802 - accuracy: 0.8241\n",
      "24/24 [==============================] - 0s 2ms/step - loss: 0.5654 - accuracy: 0.7420\n",
      "[0.56538987159729, 0.7419785857200623]\n",
      "24/24 [==============================] - 0s 3ms/step\n",
      "Classification Report: \n",
      "               precision    recall  f1-score   support\n",
      "\n",
      "           0       0.76      0.70      0.73       374\n",
      "           1       0.72      0.78      0.75       374\n",
      "\n",
      "    accuracy                           0.74       748\n",
      "   macro avg       0.74      0.74      0.74       748\n",
      "weighted avg       0.74      0.74      0.74       748\n",
      "\n"
     ]
    }
   ],
   "source": [
    "y_preds = ANN(x_train, y_train, x_test, y_test, 'binary_crossentropy', -1)"
   ]
  },
  {
   "cell_type": "markdown",
   "id": "d6a9cd4d",
   "metadata": {},
   "source": [
    "#### * Using the Over-sampling technique, I can observe the F1 scores for both class 0 and class 1 are the same with a 75% score and 75% accurcay, hence there is a balance between the F1-scores"
   ]
  },
  {
   "cell_type": "markdown",
   "id": "9213f22e",
   "metadata": {},
   "source": [
    "## SMOTE  Technique:"
   ]
  },
  {
   "cell_type": "code",
   "execution_count": 65,
   "id": "14ec301c",
   "metadata": {},
   "outputs": [],
   "source": [
    "x = df2.drop('Churn', axis = 'columns')\n",
    "y = df2['Churn']"
   ]
  },
  {
   "cell_type": "code",
   "execution_count": 66,
   "id": "ba1a3cab",
   "metadata": {},
   "outputs": [
    {
     "data": {
      "text/plain": [
       "0    5163\n",
       "1    1869\n",
       "Name: Churn, dtype: int64"
      ]
     },
     "execution_count": 66,
     "metadata": {},
     "output_type": "execute_result"
    }
   ],
   "source": [
    "y.value_counts()"
   ]
  },
  {
   "cell_type": "code",
   "execution_count": 67,
   "id": "3979d7eb",
   "metadata": {},
   "outputs": [],
   "source": [
    "from imblearn.over_sampling import SMOTE\n",
    "\n",
    "smote = SMOTE(sampling_strategy='minority')\n",
    "x_sm, y_sm = smote.fit_resample(x,y)"
   ]
  },
  {
   "cell_type": "code",
   "execution_count": 68,
   "id": "a0e9818c",
   "metadata": {},
   "outputs": [
    {
     "data": {
      "text/plain": [
       "0    5163\n",
       "1    5163\n",
       "Name: Churn, dtype: int64"
      ]
     },
     "execution_count": 68,
     "metadata": {},
     "output_type": "execute_result"
    }
   ],
   "source": [
    "y_sm.value_counts()"
   ]
  },
  {
   "cell_type": "code",
   "execution_count": 69,
   "id": "63f169ff",
   "metadata": {},
   "outputs": [],
   "source": [
    "from sklearn.model_selection import train_test_split\n",
    "x_train, x_test, y_train, y_test = train_test_split(x_sm, y_sm, test_size = 0.2, random_state = 15, stratify=y_sm)"
   ]
  },
  {
   "cell_type": "code",
   "execution_count": 70,
   "id": "f2a0c636",
   "metadata": {},
   "outputs": [
    {
     "data": {
      "text/plain": [
       "(1    4130\n",
       " 0    4130\n",
       " Name: Churn, dtype: int64,\n",
       " 1    1033\n",
       " 0    1033\n",
       " Name: Churn, dtype: int64)"
      ]
     },
     "execution_count": 70,
     "metadata": {},
     "output_type": "execute_result"
    }
   ],
   "source": [
    "y_train.value_counts(), y_test.value_counts()"
   ]
  },
  {
   "cell_type": "code",
   "execution_count": 71,
   "id": "35b7f424",
   "metadata": {
    "scrolled": true
   },
   "outputs": [
    {
     "name": "stdout",
     "output_type": "stream",
     "text": [
      "Epoch 1/100\n",
      "259/259 [==============================] - 2s 3ms/step - loss: 0.5445 - accuracy: 0.7416\n",
      "Epoch 2/100\n",
      "259/259 [==============================] - 1s 3ms/step - loss: 0.4681 - accuracy: 0.7759\n",
      "Epoch 3/100\n",
      "259/259 [==============================] - 1s 3ms/step - loss: 0.4595 - accuracy: 0.7814\n",
      "Epoch 4/100\n",
      "259/259 [==============================] - 1s 3ms/step - loss: 0.4547 - accuracy: 0.7846\n",
      "Epoch 5/100\n",
      "259/259 [==============================] - 1s 3ms/step - loss: 0.4503 - accuracy: 0.7874\n",
      "Epoch 6/100\n",
      "259/259 [==============================] - 1s 3ms/step - loss: 0.4470 - accuracy: 0.7886\n",
      "Epoch 7/100\n",
      "259/259 [==============================] - 1s 3ms/step - loss: 0.4421 - accuracy: 0.7898\n",
      "Epoch 8/100\n",
      "259/259 [==============================] - 1s 3ms/step - loss: 0.4383 - accuracy: 0.7962\n",
      "Epoch 9/100\n",
      "259/259 [==============================] - 1s 2ms/step - loss: 0.4346 - accuracy: 0.7981\n",
      "Epoch 10/100\n",
      "259/259 [==============================] - 1s 2ms/step - loss: 0.4319 - accuracy: 0.8016\n",
      "Epoch 11/100\n",
      "259/259 [==============================] - 1s 2ms/step - loss: 0.4295 - accuracy: 0.8035\n",
      "Epoch 12/100\n",
      "259/259 [==============================] - 1s 2ms/step - loss: 0.4259 - accuracy: 0.8052\n",
      "Epoch 13/100\n",
      "259/259 [==============================] - 1s 2ms/step - loss: 0.4230 - accuracy: 0.8054\n",
      "Epoch 14/100\n",
      "259/259 [==============================] - 1s 2ms/step - loss: 0.4205 - accuracy: 0.8104\n",
      "Epoch 15/100\n",
      "259/259 [==============================] - 1s 2ms/step - loss: 0.4186 - accuracy: 0.8087\n",
      "Epoch 16/100\n",
      "259/259 [==============================] - 1s 2ms/step - loss: 0.4149 - accuracy: 0.8116\n",
      "Epoch 17/100\n",
      "259/259 [==============================] - 1s 2ms/step - loss: 0.4132 - accuracy: 0.8094\n",
      "Epoch 18/100\n",
      "259/259 [==============================] - 1s 2ms/step - loss: 0.4111 - accuracy: 0.8133\n",
      "Epoch 19/100\n",
      "259/259 [==============================] - 1s 2ms/step - loss: 0.4077 - accuracy: 0.8148\n",
      "Epoch 20/100\n",
      "259/259 [==============================] - 1s 2ms/step - loss: 0.4052 - accuracy: 0.8194\n",
      "Epoch 21/100\n",
      "259/259 [==============================] - 1s 2ms/step - loss: 0.4038 - accuracy: 0.8199\n",
      "Epoch 22/100\n",
      "259/259 [==============================] - 1s 2ms/step - loss: 0.4027 - accuracy: 0.8171\n",
      "Epoch 23/100\n",
      "259/259 [==============================] - 1s 2ms/step - loss: 0.4009 - accuracy: 0.8199\n",
      "Epoch 24/100\n",
      "259/259 [==============================] - 1s 2ms/step - loss: 0.3980 - accuracy: 0.8219\n",
      "Epoch 25/100\n",
      "259/259 [==============================] - 1s 2ms/step - loss: 0.3970 - accuracy: 0.8212\n",
      "Epoch 26/100\n",
      "259/259 [==============================] - 1s 2ms/step - loss: 0.3951 - accuracy: 0.8203\n",
      "Epoch 27/100\n",
      "259/259 [==============================] - 1s 2ms/step - loss: 0.3944 - accuracy: 0.8222\n",
      "Epoch 28/100\n",
      "259/259 [==============================] - 1s 2ms/step - loss: 0.3932 - accuracy: 0.8243\n",
      "Epoch 29/100\n",
      "259/259 [==============================] - 1s 2ms/step - loss: 0.3914 - accuracy: 0.8232\n",
      "Epoch 30/100\n",
      "259/259 [==============================] - 1s 2ms/step - loss: 0.3910 - accuracy: 0.8235\n",
      "Epoch 31/100\n",
      "259/259 [==============================] - 1s 2ms/step - loss: 0.3892 - accuracy: 0.8254\n",
      "Epoch 32/100\n",
      "259/259 [==============================] - 1s 2ms/step - loss: 0.3861 - accuracy: 0.8270\n",
      "Epoch 33/100\n",
      "259/259 [==============================] - 1s 2ms/step - loss: 0.3864 - accuracy: 0.8282\n",
      "Epoch 34/100\n",
      "259/259 [==============================] - 1s 2ms/step - loss: 0.3827 - accuracy: 0.8291\n",
      "Epoch 35/100\n",
      "259/259 [==============================] - 1s 2ms/step - loss: 0.3824 - accuracy: 0.8303\n",
      "Epoch 36/100\n",
      "259/259 [==============================] - 1s 2ms/step - loss: 0.3811 - accuracy: 0.8278\n",
      "Epoch 37/100\n",
      "259/259 [==============================] - 1s 2ms/step - loss: 0.3796 - accuracy: 0.8315\n",
      "Epoch 38/100\n",
      "259/259 [==============================] - 1s 2ms/step - loss: 0.3788 - accuracy: 0.8310\n",
      "Epoch 39/100\n",
      "259/259 [==============================] - 1s 2ms/step - loss: 0.3787 - accuracy: 0.8308\n",
      "Epoch 40/100\n",
      "259/259 [==============================] - 1s 2ms/step - loss: 0.3786 - accuracy: 0.8329\n",
      "Epoch 41/100\n",
      "259/259 [==============================] - 1s 2ms/step - loss: 0.3765 - accuracy: 0.8345\n",
      "Epoch 42/100\n",
      "259/259 [==============================] - 1s 2ms/step - loss: 0.3753 - accuracy: 0.8299\n",
      "Epoch 43/100\n",
      "259/259 [==============================] - 1s 2ms/step - loss: 0.3735 - accuracy: 0.8361\n",
      "Epoch 44/100\n",
      "259/259 [==============================] - 1s 2ms/step - loss: 0.3727 - accuracy: 0.8347\n",
      "Epoch 45/100\n",
      "259/259 [==============================] - 1s 2ms/step - loss: 0.3725 - accuracy: 0.8338\n",
      "Epoch 46/100\n",
      "259/259 [==============================] - 1s 2ms/step - loss: 0.3725 - accuracy: 0.8340\n",
      "Epoch 47/100\n",
      "259/259 [==============================] - 1s 2ms/step - loss: 0.3721 - accuracy: 0.8346\n",
      "Epoch 48/100\n",
      "259/259 [==============================] - 1s 3ms/step - loss: 0.3695 - accuracy: 0.8329\n",
      "Epoch 49/100\n",
      "259/259 [==============================] - 1s 3ms/step - loss: 0.3703 - accuracy: 0.8346\n",
      "Epoch 50/100\n",
      "259/259 [==============================] - 1s 3ms/step - loss: 0.3674 - accuracy: 0.8377\n",
      "Epoch 51/100\n",
      "259/259 [==============================] - 1s 3ms/step - loss: 0.3683 - accuracy: 0.8337\n",
      "Epoch 52/100\n",
      "259/259 [==============================] - 1s 2ms/step - loss: 0.3665 - accuracy: 0.8361\n",
      "Epoch 53/100\n",
      "259/259 [==============================] - 1s 2ms/step - loss: 0.3666 - accuracy: 0.8369\n",
      "Epoch 54/100\n",
      "259/259 [==============================] - 1s 2ms/step - loss: 0.3635 - accuracy: 0.8346\n",
      "Epoch 55/100\n",
      "259/259 [==============================] - 1s 2ms/step - loss: 0.3637 - accuracy: 0.8387\n",
      "Epoch 56/100\n",
      "259/259 [==============================] - 1s 2ms/step - loss: 0.3621 - accuracy: 0.8372\n",
      "Epoch 57/100\n",
      "259/259 [==============================] - 1s 4ms/step - loss: 0.3612 - accuracy: 0.8395\n",
      "Epoch 58/100\n",
      "259/259 [==============================] - 1s 4ms/step - loss: 0.3605 - accuracy: 0.8410\n",
      "Epoch 59/100\n",
      "259/259 [==============================] - 1s 3ms/step - loss: 0.3603 - accuracy: 0.8406\n",
      "Epoch 60/100\n",
      "259/259 [==============================] - 1s 4ms/step - loss: 0.3589 - accuracy: 0.8414\n",
      "Epoch 61/100\n",
      "259/259 [==============================] - 1s 3ms/step - loss: 0.3589 - accuracy: 0.8409\n",
      "Epoch 62/100\n",
      "259/259 [==============================] - 1s 3ms/step - loss: 0.3570 - accuracy: 0.8418\n",
      "Epoch 63/100\n",
      "259/259 [==============================] - 1s 3ms/step - loss: 0.3569 - accuracy: 0.8414\n",
      "Epoch 64/100\n",
      "259/259 [==============================] - 1s 3ms/step - loss: 0.3573 - accuracy: 0.8404\n",
      "Epoch 65/100\n",
      "259/259 [==============================] - 1s 3ms/step - loss: 0.3569 - accuracy: 0.8406\n",
      "Epoch 66/100\n",
      "259/259 [==============================] - 1s 3ms/step - loss: 0.3539 - accuracy: 0.8424\n",
      "Epoch 67/100\n",
      "259/259 [==============================] - 1s 3ms/step - loss: 0.3544 - accuracy: 0.8421\n",
      "Epoch 68/100\n",
      "259/259 [==============================] - 1s 2ms/step - loss: 0.3541 - accuracy: 0.8415\n",
      "Epoch 69/100\n",
      "259/259 [==============================] - 1s 3ms/step - loss: 0.3533 - accuracy: 0.8406\n",
      "Epoch 70/100\n",
      "259/259 [==============================] - 1s 3ms/step - loss: 0.3527 - accuracy: 0.8415\n",
      "Epoch 71/100\n",
      "259/259 [==============================] - 1s 3ms/step - loss: 0.3522 - accuracy: 0.8458\n",
      "Epoch 72/100\n",
      "259/259 [==============================] - 1s 3ms/step - loss: 0.3517 - accuracy: 0.8443\n",
      "Epoch 73/100\n",
      "259/259 [==============================] - 1s 3ms/step - loss: 0.3527 - accuracy: 0.8431\n",
      "Epoch 74/100\n",
      "259/259 [==============================] - 1s 2ms/step - loss: 0.3512 - accuracy: 0.8462\n",
      "Epoch 75/100\n",
      "259/259 [==============================] - 1s 3ms/step - loss: 0.3497 - accuracy: 0.8471\n",
      "Epoch 76/100\n",
      "259/259 [==============================] - 1s 2ms/step - loss: 0.3506 - accuracy: 0.8453\n",
      "Epoch 77/100\n",
      "259/259 [==============================] - 1s 2ms/step - loss: 0.3478 - accuracy: 0.8466\n",
      "Epoch 78/100\n",
      "259/259 [==============================] - 1s 3ms/step - loss: 0.3504 - accuracy: 0.8438\n",
      "Epoch 79/100\n",
      "259/259 [==============================] - 1s 3ms/step - loss: 0.3489 - accuracy: 0.8456\n",
      "Epoch 80/100\n",
      "259/259 [==============================] - 1s 3ms/step - loss: 0.3478 - accuracy: 0.8461\n",
      "Epoch 81/100\n",
      "259/259 [==============================] - 1s 3ms/step - loss: 0.3467 - accuracy: 0.8501\n",
      "Epoch 82/100\n",
      "259/259 [==============================] - 1s 3ms/step - loss: 0.3468 - accuracy: 0.8433\n",
      "Epoch 83/100\n",
      "259/259 [==============================] - 1s 3ms/step - loss: 0.3440 - accuracy: 0.8489\n",
      "Epoch 84/100\n",
      "259/259 [==============================] - 1s 2ms/step - loss: 0.3460 - accuracy: 0.8490\n",
      "Epoch 85/100\n",
      "259/259 [==============================] - 1s 3ms/step - loss: 0.3433 - accuracy: 0.8490\n",
      "Epoch 86/100\n",
      "259/259 [==============================] - 1s 3ms/step - loss: 0.3443 - accuracy: 0.8479\n",
      "Epoch 87/100\n",
      "259/259 [==============================] - 1s 3ms/step - loss: 0.3441 - accuracy: 0.8455\n",
      "Epoch 88/100\n",
      "259/259 [==============================] - 1s 3ms/step - loss: 0.3435 - accuracy: 0.8495\n",
      "Epoch 89/100\n",
      "259/259 [==============================] - 1s 4ms/step - loss: 0.3435 - accuracy: 0.8479\n",
      "Epoch 90/100\n",
      "259/259 [==============================] - 1s 2ms/step - loss: 0.3425 - accuracy: 0.8490\n",
      "Epoch 91/100\n",
      "259/259 [==============================] - 1s 2ms/step - loss: 0.3428 - accuracy: 0.8478\n",
      "Epoch 92/100\n",
      "259/259 [==============================] - 1s 2ms/step - loss: 0.3405 - accuracy: 0.8518\n",
      "Epoch 93/100\n",
      "259/259 [==============================] - 1s 2ms/step - loss: 0.3397 - accuracy: 0.8510\n",
      "Epoch 94/100\n",
      "259/259 [==============================] - 1s 2ms/step - loss: 0.3400 - accuracy: 0.8504\n",
      "Epoch 95/100\n",
      "259/259 [==============================] - 1s 3ms/step - loss: 0.3403 - accuracy: 0.8467\n",
      "Epoch 96/100\n",
      "259/259 [==============================] - 1s 3ms/step - loss: 0.3386 - accuracy: 0.8508\n",
      "Epoch 97/100\n",
      "259/259 [==============================] - 1s 3ms/step - loss: 0.3369 - accuracy: 0.8550\n",
      "Epoch 98/100\n",
      "259/259 [==============================] - 1s 4ms/step - loss: 0.3406 - accuracy: 0.8502\n",
      "Epoch 99/100\n",
      "259/259 [==============================] - 1s 3ms/step - loss: 0.3376 - accuracy: 0.8496\n",
      "Epoch 100/100\n",
      "259/259 [==============================] - 1s 3ms/step - loss: 0.3368 - accuracy: 0.8535\n",
      "65/65 [==============================] - 0s 3ms/step - loss: 0.4292 - accuracy: 0.8103\n",
      "[0.42923128604888916, 0.8102613687515259]\n",
      "65/65 [==============================] - 0s 2ms/step\n",
      "Classification Report: \n",
      "               precision    recall  f1-score   support\n",
      "\n",
      "           0       0.82      0.80      0.81      1033\n",
      "           1       0.80      0.82      0.81      1033\n",
      "\n",
      "    accuracy                           0.81      2066\n",
      "   macro avg       0.81      0.81      0.81      2066\n",
      "weighted avg       0.81      0.81      0.81      2066\n",
      "\n"
     ]
    }
   ],
   "source": [
    "y_preds = ANN(x_train, y_train, x_test, y_test, 'binary_crossentropy', -1)"
   ]
  },
  {
   "cell_type": "markdown",
   "id": "0fbb1e85",
   "metadata": {},
   "source": [
    "#### * Using the SMOTE technique, I can observe the F1 scores for both class 0 and class 1 are 81% and 79% respectively with accuracy of 80%. This indicate close F1-scores, hence there is a balance between the F1-scores"
   ]
  },
  {
   "cell_type": "markdown",
   "id": "7220e533",
   "metadata": {},
   "source": [
    "## Ensembling with Undersampling Technique:"
   ]
  },
  {
   "cell_type": "code",
   "execution_count": 72,
   "id": "01842344",
   "metadata": {},
   "outputs": [],
   "source": [
    "x = df2.drop('Churn', axis = 'columns')\n",
    "y = df2['Churn']"
   ]
  },
  {
   "cell_type": "code",
   "execution_count": 73,
   "id": "fb71af3e",
   "metadata": {},
   "outputs": [],
   "source": [
    "from sklearn.model_selection import train_test_split\n",
    "x_train, x_test, y_train, y_test = train_test_split(x, y, test_size = 0.2, random_state = 15, stratify=y)"
   ]
  },
  {
   "cell_type": "code",
   "execution_count": 74,
   "id": "8490b1e1",
   "metadata": {},
   "outputs": [
    {
     "data": {
      "text/plain": [
       "0    4130\n",
       "1    1495\n",
       "Name: Churn, dtype: int64"
      ]
     },
     "execution_count": 74,
     "metadata": {},
     "output_type": "execute_result"
    }
   ],
   "source": [
    "y_train.value_counts()"
   ]
  },
  {
   "cell_type": "markdown",
   "id": "1bc18307",
   "metadata": {},
   "source": [
    "* To carry out this imbalance technique, I divide the 0 class with the 1 class, 4130/1495\n",
    "* Divide the 0 class with the solution above to get the number of batches, 4130/3\n",
    "* Create a function that can run in 3 batches "
   ]
  },
  {
   "cell_type": "code",
   "execution_count": 75,
   "id": "7d3689a9",
   "metadata": {},
   "outputs": [
    {
     "data": {
      "text/plain": [
       "(2.762541806020067, 1376.6666666666667)"
      ]
     },
     "execution_count": 75,
     "metadata": {},
     "output_type": "execute_result"
    }
   ],
   "source": [
    "4130/1495, 4130/3"
   ]
  },
  {
   "cell_type": "code",
   "execution_count": 76,
   "id": "f39e397e",
   "metadata": {},
   "outputs": [],
   "source": [
    "df3 = x_train.copy()\n",
    "df3['Churn'] = y_train"
   ]
  },
  {
   "cell_type": "code",
   "execution_count": 77,
   "id": "cc2ccbc6",
   "metadata": {},
   "outputs": [],
   "source": [
    "df3_class0 = df3[df3.Churn==0]\n",
    "df3_class1 = df3[df3.Churn==1]"
   ]
  },
  {
   "cell_type": "code",
   "execution_count": 78,
   "id": "bfee1da1",
   "metadata": {},
   "outputs": [
    {
     "data": {
      "text/plain": [
       "((4130, 27), (1495, 27))"
      ]
     },
     "execution_count": 78,
     "metadata": {},
     "output_type": "execute_result"
    }
   ],
   "source": [
    "df3_class0.shape, df3_class1.shape"
   ]
  },
  {
   "cell_type": "code",
   "execution_count": 79,
   "id": "01d47b99",
   "metadata": {},
   "outputs": [
    {
     "data": {
      "text/plain": [
       "(2990, 27)"
      ]
     },
     "execution_count": 79,
     "metadata": {},
     "output_type": "execute_result"
    }
   ],
   "source": [
    "df_train = pd.concat([df3_class0[:1495], df3_class1], axis = 0)\n",
    "df_train.shape"
   ]
  },
  {
   "cell_type": "code",
   "execution_count": 80,
   "id": "ec57f28f",
   "metadata": {},
   "outputs": [],
   "source": [
    "def get_train_batch(df_majority, df_minority, start, end):\n",
    "    df_train = pd.concat([df_majority[start:end], df_minority], axis = 0)\n",
    "    \n",
    "    x_train = df_train.drop('Churn', axis = 'columns')\n",
    "    y_train = df_train.Churn\n",
    "    \n",
    "    return x_train, y_train"
   ]
  },
  {
   "cell_type": "code",
   "execution_count": 81,
   "id": "a8e6408e",
   "metadata": {},
   "outputs": [],
   "source": [
    "x_train, y_train = get_train_batch(df3_class0, df3_class1, 0, 1495)"
   ]
  },
  {
   "cell_type": "code",
   "execution_count": 82,
   "id": "710c9497",
   "metadata": {
    "scrolled": true
   },
   "outputs": [
    {
     "name": "stdout",
     "output_type": "stream",
     "text": [
      "Epoch 1/100\n",
      "94/94 [==============================] - 2s 3ms/step - loss: 0.6040 - accuracy: 0.6890\n",
      "Epoch 2/100\n",
      "94/94 [==============================] - 0s 3ms/step - loss: 0.5217 - accuracy: 0.7572\n",
      "Epoch 3/100\n",
      "94/94 [==============================] - 0s 3ms/step - loss: 0.5024 - accuracy: 0.7649\n",
      "Epoch 4/100\n",
      "94/94 [==============================] - 0s 4ms/step - loss: 0.4938 - accuracy: 0.7672\n",
      "Epoch 5/100\n",
      "94/94 [==============================] - 0s 4ms/step - loss: 0.4900 - accuracy: 0.7662\n",
      "Epoch 6/100\n",
      "94/94 [==============================] - 0s 3ms/step - loss: 0.4850 - accuracy: 0.7669\n",
      "Epoch 7/100\n",
      "94/94 [==============================] - 0s 3ms/step - loss: 0.4832 - accuracy: 0.7709\n",
      "Epoch 8/100\n",
      "94/94 [==============================] - 0s 3ms/step - loss: 0.4797 - accuracy: 0.7706\n",
      "Epoch 9/100\n",
      "94/94 [==============================] - 0s 3ms/step - loss: 0.4796 - accuracy: 0.7709\n",
      "Epoch 10/100\n",
      "94/94 [==============================] - 0s 3ms/step - loss: 0.4754 - accuracy: 0.7786\n",
      "Epoch 11/100\n",
      "94/94 [==============================] - 0s 4ms/step - loss: 0.4749 - accuracy: 0.7753\n",
      "Epoch 12/100\n",
      "94/94 [==============================] - 0s 3ms/step - loss: 0.4718 - accuracy: 0.7756\n",
      "Epoch 13/100\n",
      "94/94 [==============================] - 0s 3ms/step - loss: 0.4714 - accuracy: 0.7746\n",
      "Epoch 14/100\n",
      "94/94 [==============================] - 0s 4ms/step - loss: 0.4694 - accuracy: 0.7756\n",
      "Epoch 15/100\n",
      "94/94 [==============================] - 0s 4ms/step - loss: 0.4677 - accuracy: 0.7736\n",
      "Epoch 16/100\n",
      "94/94 [==============================] - 0s 4ms/step - loss: 0.4680 - accuracy: 0.7783\n",
      "Epoch 17/100\n",
      "94/94 [==============================] - 0s 4ms/step - loss: 0.4654 - accuracy: 0.7766\n",
      "Epoch 18/100\n",
      "94/94 [==============================] - 0s 3ms/step - loss: 0.4649 - accuracy: 0.7793\n",
      "Epoch 19/100\n",
      "94/94 [==============================] - 0s 3ms/step - loss: 0.4634 - accuracy: 0.7779\n",
      "Epoch 20/100\n",
      "94/94 [==============================] - 0s 3ms/step - loss: 0.4626 - accuracy: 0.7826\n",
      "Epoch 21/100\n",
      "94/94 [==============================] - 0s 4ms/step - loss: 0.4599 - accuracy: 0.7846\n",
      "Epoch 22/100\n",
      "94/94 [==============================] - 0s 4ms/step - loss: 0.4603 - accuracy: 0.7833\n",
      "Epoch 23/100\n",
      "94/94 [==============================] - 0s 2ms/step - loss: 0.4581 - accuracy: 0.7866\n",
      "Epoch 24/100\n",
      "94/94 [==============================] - 0s 3ms/step - loss: 0.4582 - accuracy: 0.7853\n",
      "Epoch 25/100\n",
      "94/94 [==============================] - 0s 3ms/step - loss: 0.4552 - accuracy: 0.7856\n",
      "Epoch 26/100\n",
      "94/94 [==============================] - 0s 4ms/step - loss: 0.4554 - accuracy: 0.7916\n",
      "Epoch 27/100\n",
      "94/94 [==============================] - 0s 3ms/step - loss: 0.4539 - accuracy: 0.7916\n",
      "Epoch 28/100\n",
      "94/94 [==============================] - 0s 3ms/step - loss: 0.4545 - accuracy: 0.7873\n",
      "Epoch 29/100\n",
      "94/94 [==============================] - 0s 3ms/step - loss: 0.4515 - accuracy: 0.7926\n",
      "Epoch 30/100\n",
      "94/94 [==============================] - 0s 3ms/step - loss: 0.4514 - accuracy: 0.7893\n",
      "Epoch 31/100\n",
      "94/94 [==============================] - 0s 3ms/step - loss: 0.4496 - accuracy: 0.7926\n",
      "Epoch 32/100\n",
      "94/94 [==============================] - 0s 3ms/step - loss: 0.4498 - accuracy: 0.7926\n",
      "Epoch 33/100\n",
      "94/94 [==============================] - 0s 3ms/step - loss: 0.4473 - accuracy: 0.7967\n",
      "Epoch 34/100\n",
      "94/94 [==============================] - 0s 3ms/step - loss: 0.4481 - accuracy: 0.7933\n",
      "Epoch 35/100\n",
      "94/94 [==============================] - 0s 3ms/step - loss: 0.4467 - accuracy: 0.7940\n",
      "Epoch 36/100\n",
      "94/94 [==============================] - 0s 4ms/step - loss: 0.4448 - accuracy: 0.7890\n",
      "Epoch 37/100\n",
      "94/94 [==============================] - 0s 3ms/step - loss: 0.4426 - accuracy: 0.7977\n",
      "Epoch 38/100\n",
      "94/94 [==============================] - 0s 2ms/step - loss: 0.4414 - accuracy: 0.7987\n",
      "Epoch 39/100\n",
      "94/94 [==============================] - 0s 3ms/step - loss: 0.4423 - accuracy: 0.7957\n",
      "Epoch 40/100\n",
      "94/94 [==============================] - 0s 3ms/step - loss: 0.4412 - accuracy: 0.8020\n",
      "Epoch 41/100\n",
      "94/94 [==============================] - 0s 3ms/step - loss: 0.4406 - accuracy: 0.7960\n",
      "Epoch 42/100\n",
      "94/94 [==============================] - 0s 4ms/step - loss: 0.4389 - accuracy: 0.8003\n",
      "Epoch 43/100\n",
      "94/94 [==============================] - 0s 3ms/step - loss: 0.4369 - accuracy: 0.8010\n",
      "Epoch 44/100\n",
      "94/94 [==============================] - 0s 3ms/step - loss: 0.4379 - accuracy: 0.7997\n",
      "Epoch 45/100\n",
      "94/94 [==============================] - 0s 3ms/step - loss: 0.4371 - accuracy: 0.7997\n",
      "Epoch 46/100\n",
      "94/94 [==============================] - 0s 2ms/step - loss: 0.4341 - accuracy: 0.8030\n",
      "Epoch 47/100\n",
      "94/94 [==============================] - 0s 2ms/step - loss: 0.4349 - accuracy: 0.8047\n",
      "Epoch 48/100\n",
      "94/94 [==============================] - 0s 3ms/step - loss: 0.4335 - accuracy: 0.7987\n",
      "Epoch 49/100\n",
      "94/94 [==============================] - 0s 2ms/step - loss: 0.4332 - accuracy: 0.8033\n",
      "Epoch 50/100\n",
      "94/94 [==============================] - 0s 3ms/step - loss: 0.4309 - accuracy: 0.8043\n",
      "Epoch 51/100\n",
      "94/94 [==============================] - 0s 3ms/step - loss: 0.4319 - accuracy: 0.8027\n",
      "Epoch 52/100\n",
      "94/94 [==============================] - 0s 3ms/step - loss: 0.4304 - accuracy: 0.8057\n",
      "Epoch 53/100\n",
      "94/94 [==============================] - 0s 3ms/step - loss: 0.4282 - accuracy: 0.8054\n",
      "Epoch 54/100\n",
      "94/94 [==============================] - 0s 3ms/step - loss: 0.4279 - accuracy: 0.8050\n",
      "Epoch 55/100\n",
      "94/94 [==============================] - 0s 3ms/step - loss: 0.4253 - accuracy: 0.8080\n",
      "Epoch 56/100\n",
      "94/94 [==============================] - 0s 2ms/step - loss: 0.4267 - accuracy: 0.8094\n",
      "Epoch 57/100\n",
      "94/94 [==============================] - 0s 2ms/step - loss: 0.4260 - accuracy: 0.8147\n",
      "Epoch 58/100\n",
      "94/94 [==============================] - 0s 2ms/step - loss: 0.4246 - accuracy: 0.8084\n",
      "Epoch 59/100\n",
      "94/94 [==============================] - 0s 2ms/step - loss: 0.4257 - accuracy: 0.8074\n",
      "Epoch 60/100\n",
      "94/94 [==============================] - 0s 2ms/step - loss: 0.4251 - accuracy: 0.8097\n",
      "Epoch 61/100\n",
      "94/94 [==============================] - 0s 3ms/step - loss: 0.4249 - accuracy: 0.8074\n",
      "Epoch 62/100\n",
      "94/94 [==============================] - 0s 3ms/step - loss: 0.4226 - accuracy: 0.8074\n",
      "Epoch 63/100\n",
      "94/94 [==============================] - 0s 2ms/step - loss: 0.4219 - accuracy: 0.8090\n",
      "Epoch 64/100\n",
      "94/94 [==============================] - 0s 2ms/step - loss: 0.4211 - accuracy: 0.8094\n",
      "Epoch 65/100\n",
      "94/94 [==============================] - 0s 2ms/step - loss: 0.4210 - accuracy: 0.8110\n",
      "Epoch 66/100\n",
      "94/94 [==============================] - 0s 2ms/step - loss: 0.4190 - accuracy: 0.8124\n",
      "Epoch 67/100\n",
      "94/94 [==============================] - 0s 2ms/step - loss: 0.4208 - accuracy: 0.8077\n",
      "Epoch 68/100\n",
      "94/94 [==============================] - 0s 2ms/step - loss: 0.4194 - accuracy: 0.8084\n",
      "Epoch 69/100\n",
      "94/94 [==============================] - 0s 2ms/step - loss: 0.4175 - accuracy: 0.8090\n",
      "Epoch 70/100\n",
      "94/94 [==============================] - 0s 2ms/step - loss: 0.4165 - accuracy: 0.8140\n",
      "Epoch 71/100\n",
      "94/94 [==============================] - 0s 2ms/step - loss: 0.4167 - accuracy: 0.8097\n",
      "Epoch 72/100\n",
      "94/94 [==============================] - 0s 2ms/step - loss: 0.4140 - accuracy: 0.8151\n",
      "Epoch 73/100\n",
      "94/94 [==============================] - 0s 2ms/step - loss: 0.4150 - accuracy: 0.8107\n",
      "Epoch 74/100\n",
      "94/94 [==============================] - 0s 2ms/step - loss: 0.4132 - accuracy: 0.8137\n",
      "Epoch 75/100\n",
      "94/94 [==============================] - 0s 2ms/step - loss: 0.4151 - accuracy: 0.8151\n",
      "Epoch 76/100\n",
      "94/94 [==============================] - 0s 2ms/step - loss: 0.4134 - accuracy: 0.8137\n",
      "Epoch 77/100\n",
      "94/94 [==============================] - 0s 2ms/step - loss: 0.4110 - accuracy: 0.8097\n",
      "Epoch 78/100\n",
      "94/94 [==============================] - 0s 2ms/step - loss: 0.4112 - accuracy: 0.8164\n",
      "Epoch 79/100\n",
      "94/94 [==============================] - 0s 3ms/step - loss: 0.4116 - accuracy: 0.8144\n",
      "Epoch 80/100\n",
      "94/94 [==============================] - 0s 2ms/step - loss: 0.4110 - accuracy: 0.8130\n",
      "Epoch 81/100\n",
      "94/94 [==============================] - 0s 2ms/step - loss: 0.4098 - accuracy: 0.8151\n",
      "Epoch 82/100\n",
      "94/94 [==============================] - 0s 2ms/step - loss: 0.4094 - accuracy: 0.8134\n",
      "Epoch 83/100\n"
     ]
    },
    {
     "name": "stdout",
     "output_type": "stream",
     "text": [
      "94/94 [==============================] - 0s 2ms/step - loss: 0.4068 - accuracy: 0.8144\n",
      "Epoch 84/100\n",
      "94/94 [==============================] - 0s 2ms/step - loss: 0.4071 - accuracy: 0.8197\n",
      "Epoch 85/100\n",
      "94/94 [==============================] - 0s 2ms/step - loss: 0.4078 - accuracy: 0.8191\n",
      "Epoch 86/100\n",
      "94/94 [==============================] - 0s 2ms/step - loss: 0.4068 - accuracy: 0.8151\n",
      "Epoch 87/100\n",
      "94/94 [==============================] - 0s 2ms/step - loss: 0.4044 - accuracy: 0.8191\n",
      "Epoch 88/100\n",
      "94/94 [==============================] - 0s 2ms/step - loss: 0.4038 - accuracy: 0.8130\n",
      "Epoch 89/100\n",
      "94/94 [==============================] - 0s 2ms/step - loss: 0.4038 - accuracy: 0.8197\n",
      "Epoch 90/100\n",
      "94/94 [==============================] - 0s 2ms/step - loss: 0.4041 - accuracy: 0.8140\n",
      "Epoch 91/100\n",
      "94/94 [==============================] - 0s 2ms/step - loss: 0.4016 - accuracy: 0.8161\n",
      "Epoch 92/100\n",
      "94/94 [==============================] - 0s 2ms/step - loss: 0.4010 - accuracy: 0.8187\n",
      "Epoch 93/100\n",
      "94/94 [==============================] - 0s 2ms/step - loss: 0.4004 - accuracy: 0.8211\n",
      "Epoch 94/100\n",
      "94/94 [==============================] - 0s 2ms/step - loss: 0.4014 - accuracy: 0.8187\n",
      "Epoch 95/100\n",
      "94/94 [==============================] - 0s 2ms/step - loss: 0.3999 - accuracy: 0.8194\n",
      "Epoch 96/100\n",
      "94/94 [==============================] - 0s 2ms/step - loss: 0.3978 - accuracy: 0.8214\n",
      "Epoch 97/100\n",
      "94/94 [==============================] - 0s 2ms/step - loss: 0.3977 - accuracy: 0.8197\n",
      "Epoch 98/100\n",
      "94/94 [==============================] - 0s 2ms/step - loss: 0.3967 - accuracy: 0.8201\n",
      "Epoch 99/100\n",
      "94/94 [==============================] - 0s 2ms/step - loss: 0.3954 - accuracy: 0.8217\n",
      "Epoch 100/100\n",
      "94/94 [==============================] - 0s 2ms/step - loss: 0.3949 - accuracy: 0.8244\n",
      "44/44 [==============================] - 0s 2ms/step - loss: 0.5400 - accuracy: 0.7406\n",
      "[0.5399656891822815, 0.7405828237533569]\n",
      "44/44 [==============================] - 0s 2ms/step\n",
      "Classification Report: \n",
      "               precision    recall  f1-score   support\n",
      "\n",
      "           0       0.89      0.74      0.81      1033\n",
      "           1       0.51      0.74      0.60       374\n",
      "\n",
      "    accuracy                           0.74      1407\n",
      "   macro avg       0.70      0.74      0.70      1407\n",
      "weighted avg       0.79      0.74      0.75      1407\n",
      "\n"
     ]
    }
   ],
   "source": [
    "x_train, y_train = get_train_batch(df3_class0, df3_class1, 0, 1495)\n",
    "y_pred1 = ANN(x_train, y_train, x_test, y_test, 'binary_crossentropy', -1)"
   ]
  },
  {
   "cell_type": "markdown",
   "id": "0c8ae4ee",
   "metadata": {},
   "source": [
    "* The F1-scores in the first batch is not impressive with F1-scores of 78% and 61% for the 0 and 1 class respectively and an accuracy of 72%, hence, I try the second batch"
   ]
  },
  {
   "cell_type": "code",
   "execution_count": 83,
   "id": "f7534065",
   "metadata": {},
   "outputs": [
    {
     "name": "stdout",
     "output_type": "stream",
     "text": [
      "Epoch 1/100\n",
      "94/94 [==============================] - 1s 5ms/step - loss: 0.6386 - accuracy: 0.6525\n",
      "Epoch 2/100\n",
      "94/94 [==============================] - 0s 2ms/step - loss: 0.5225 - accuracy: 0.7502\n",
      "Epoch 3/100\n",
      "94/94 [==============================] - 0s 3ms/step - loss: 0.4953 - accuracy: 0.7592\n",
      "Epoch 4/100\n",
      "94/94 [==============================] - 0s 3ms/step - loss: 0.4881 - accuracy: 0.7592\n",
      "Epoch 5/100\n",
      "94/94 [==============================] - 0s 3ms/step - loss: 0.4811 - accuracy: 0.7622\n",
      "Epoch 6/100\n",
      "94/94 [==============================] - 0s 3ms/step - loss: 0.4790 - accuracy: 0.7679\n",
      "Epoch 7/100\n",
      "94/94 [==============================] - 0s 3ms/step - loss: 0.4755 - accuracy: 0.7669\n",
      "Epoch 8/100\n",
      "94/94 [==============================] - 0s 3ms/step - loss: 0.4725 - accuracy: 0.7662\n",
      "Epoch 9/100\n",
      "94/94 [==============================] - 0s 3ms/step - loss: 0.4701 - accuracy: 0.7645\n",
      "Epoch 10/100\n",
      "94/94 [==============================] - 0s 3ms/step - loss: 0.4684 - accuracy: 0.7699\n",
      "Epoch 11/100\n",
      "94/94 [==============================] - 0s 3ms/step - loss: 0.4669 - accuracy: 0.7659\n",
      "Epoch 12/100\n",
      "94/94 [==============================] - 0s 3ms/step - loss: 0.4647 - accuracy: 0.7702\n",
      "Epoch 13/100\n",
      "94/94 [==============================] - 0s 3ms/step - loss: 0.4629 - accuracy: 0.7696\n",
      "Epoch 14/100\n",
      "94/94 [==============================] - 0s 3ms/step - loss: 0.4625 - accuracy: 0.7732\n",
      "Epoch 15/100\n",
      "94/94 [==============================] - 0s 3ms/step - loss: 0.4603 - accuracy: 0.7746\n",
      "Epoch 16/100\n",
      "94/94 [==============================] - 0s 3ms/step - loss: 0.4574 - accuracy: 0.7739\n",
      "Epoch 17/100\n",
      "94/94 [==============================] - 0s 3ms/step - loss: 0.4579 - accuracy: 0.7783\n",
      "Epoch 18/100\n",
      "94/94 [==============================] - 0s 3ms/step - loss: 0.4568 - accuracy: 0.7813\n",
      "Epoch 19/100\n",
      "94/94 [==============================] - 0s 3ms/step - loss: 0.4543 - accuracy: 0.7809\n",
      "Epoch 20/100\n",
      "94/94 [==============================] - 0s 3ms/step - loss: 0.4539 - accuracy: 0.7786\n",
      "Epoch 21/100\n",
      "94/94 [==============================] - 0s 3ms/step - loss: 0.4525 - accuracy: 0.7823\n",
      "Epoch 22/100\n",
      "94/94 [==============================] - 0s 3ms/step - loss: 0.4500 - accuracy: 0.7846\n",
      "Epoch 23/100\n",
      "94/94 [==============================] - 0s 3ms/step - loss: 0.4511 - accuracy: 0.7799\n",
      "Epoch 24/100\n",
      "94/94 [==============================] - 0s 3ms/step - loss: 0.4491 - accuracy: 0.7849\n",
      "Epoch 25/100\n",
      "94/94 [==============================] - 0s 3ms/step - loss: 0.4472 - accuracy: 0.7896\n",
      "Epoch 26/100\n",
      "94/94 [==============================] - 0s 3ms/step - loss: 0.4464 - accuracy: 0.7896\n",
      "Epoch 27/100\n",
      "94/94 [==============================] - 0s 3ms/step - loss: 0.4476 - accuracy: 0.7886\n",
      "Epoch 28/100\n",
      "94/94 [==============================] - 0s 3ms/step - loss: 0.4436 - accuracy: 0.7946\n",
      "Epoch 29/100\n",
      "94/94 [==============================] - 0s 3ms/step - loss: 0.4432 - accuracy: 0.7913\n",
      "Epoch 30/100\n",
      "94/94 [==============================] - 0s 3ms/step - loss: 0.4409 - accuracy: 0.7930\n",
      "Epoch 31/100\n",
      "94/94 [==============================] - 0s 3ms/step - loss: 0.4404 - accuracy: 0.7920\n",
      "Epoch 32/100\n",
      "94/94 [==============================] - 0s 3ms/step - loss: 0.4395 - accuracy: 0.7987\n",
      "Epoch 33/100\n",
      "94/94 [==============================] - 0s 3ms/step - loss: 0.4382 - accuracy: 0.7973\n",
      "Epoch 34/100\n",
      "94/94 [==============================] - 0s 3ms/step - loss: 0.4369 - accuracy: 0.7970\n",
      "Epoch 35/100\n",
      "94/94 [==============================] - 0s 3ms/step - loss: 0.4351 - accuracy: 0.8023\n",
      "Epoch 36/100\n",
      "94/94 [==============================] - 0s 3ms/step - loss: 0.4358 - accuracy: 0.8017\n",
      "Epoch 37/100\n",
      "94/94 [==============================] - 0s 3ms/step - loss: 0.4334 - accuracy: 0.8020\n",
      "Epoch 38/100\n",
      "94/94 [==============================] - 0s 3ms/step - loss: 0.4328 - accuracy: 0.7973\n",
      "Epoch 39/100\n",
      "94/94 [==============================] - 0s 3ms/step - loss: 0.4314 - accuracy: 0.8003\n",
      "Epoch 40/100\n",
      "94/94 [==============================] - 0s 3ms/step - loss: 0.4316 - accuracy: 0.8027\n",
      "Epoch 41/100\n",
      "94/94 [==============================] - 0s 3ms/step - loss: 0.4294 - accuracy: 0.8047\n",
      "Epoch 42/100\n",
      "94/94 [==============================] - 0s 3ms/step - loss: 0.4303 - accuracy: 0.8013\n",
      "Epoch 43/100\n",
      "94/94 [==============================] - 0s 3ms/step - loss: 0.4281 - accuracy: 0.8017\n",
      "Epoch 44/100\n",
      "94/94 [==============================] - 0s 3ms/step - loss: 0.4279 - accuracy: 0.7987\n",
      "Epoch 45/100\n",
      "94/94 [==============================] - 0s 3ms/step - loss: 0.4269 - accuracy: 0.8010\n",
      "Epoch 46/100\n",
      "94/94 [==============================] - 0s 3ms/step - loss: 0.4283 - accuracy: 0.8040\n",
      "Epoch 47/100\n",
      "94/94 [==============================] - 0s 3ms/step - loss: 0.4231 - accuracy: 0.8084\n",
      "Epoch 48/100\n",
      "94/94 [==============================] - 0s 3ms/step - loss: 0.4235 - accuracy: 0.8043\n",
      "Epoch 49/100\n",
      "94/94 [==============================] - 0s 3ms/step - loss: 0.4231 - accuracy: 0.8104\n",
      "Epoch 50/100\n",
      "94/94 [==============================] - 0s 3ms/step - loss: 0.4224 - accuracy: 0.8067\n",
      "Epoch 51/100\n",
      "94/94 [==============================] - 0s 3ms/step - loss: 0.4198 - accuracy: 0.8087\n",
      "Epoch 52/100\n",
      "94/94 [==============================] - 0s 3ms/step - loss: 0.4187 - accuracy: 0.8087\n",
      "Epoch 53/100\n",
      "94/94 [==============================] - 0s 3ms/step - loss: 0.4180 - accuracy: 0.8117\n",
      "Epoch 54/100\n",
      "94/94 [==============================] - 0s 3ms/step - loss: 0.4163 - accuracy: 0.8080\n",
      "Epoch 55/100\n",
      "94/94 [==============================] - 0s 3ms/step - loss: 0.4170 - accuracy: 0.8043\n",
      "Epoch 56/100\n",
      "94/94 [==============================] - 0s 3ms/step - loss: 0.4144 - accuracy: 0.8084\n",
      "Epoch 57/100\n",
      "94/94 [==============================] - 0s 3ms/step - loss: 0.4160 - accuracy: 0.8077\n",
      "Epoch 58/100\n",
      "94/94 [==============================] - 0s 3ms/step - loss: 0.4154 - accuracy: 0.8104\n",
      "Epoch 59/100\n",
      "94/94 [==============================] - 0s 3ms/step - loss: 0.4131 - accuracy: 0.8137\n",
      "Epoch 60/100\n",
      "94/94 [==============================] - 0s 3ms/step - loss: 0.4126 - accuracy: 0.8107\n",
      "Epoch 61/100\n",
      "94/94 [==============================] - 0s 3ms/step - loss: 0.4112 - accuracy: 0.8167\n",
      "Epoch 62/100\n",
      "94/94 [==============================] - 0s 3ms/step - loss: 0.4104 - accuracy: 0.8120\n",
      "Epoch 63/100\n",
      "94/94 [==============================] - 0s 3ms/step - loss: 0.4091 - accuracy: 0.8144\n",
      "Epoch 64/100\n",
      "94/94 [==============================] - 0s 3ms/step - loss: 0.4101 - accuracy: 0.8090\n",
      "Epoch 65/100\n",
      "94/94 [==============================] - 0s 3ms/step - loss: 0.4076 - accuracy: 0.8157\n",
      "Epoch 66/100\n",
      "94/94 [==============================] - 0s 3ms/step - loss: 0.4059 - accuracy: 0.8154\n",
      "Epoch 67/100\n",
      "94/94 [==============================] - 0s 3ms/step - loss: 0.4057 - accuracy: 0.8130\n",
      "Epoch 68/100\n",
      "94/94 [==============================] - 0s 3ms/step - loss: 0.4051 - accuracy: 0.8187\n",
      "Epoch 69/100\n",
      "94/94 [==============================] - 0s 3ms/step - loss: 0.4035 - accuracy: 0.8167\n",
      "Epoch 70/100\n",
      "94/94 [==============================] - 0s 3ms/step - loss: 0.4024 - accuracy: 0.8191\n",
      "Epoch 71/100\n",
      "94/94 [==============================] - 0s 3ms/step - loss: 0.4045 - accuracy: 0.8120\n",
      "Epoch 72/100\n",
      "94/94 [==============================] - 0s 3ms/step - loss: 0.4014 - accuracy: 0.8154\n",
      "Epoch 73/100\n",
      "94/94 [==============================] - 0s 3ms/step - loss: 0.4007 - accuracy: 0.8177\n",
      "Epoch 74/100\n",
      "94/94 [==============================] - 0s 3ms/step - loss: 0.4002 - accuracy: 0.8147\n",
      "Epoch 75/100\n",
      "94/94 [==============================] - 0s 3ms/step - loss: 0.3985 - accuracy: 0.8227\n",
      "Epoch 76/100\n",
      "94/94 [==============================] - 0s 3ms/step - loss: 0.3955 - accuracy: 0.8227\n",
      "Epoch 77/100\n",
      "94/94 [==============================] - 0s 3ms/step - loss: 0.3962 - accuracy: 0.8211\n",
      "Epoch 78/100\n",
      "94/94 [==============================] - 0s 3ms/step - loss: 0.3948 - accuracy: 0.8221\n",
      "Epoch 79/100\n",
      "94/94 [==============================] - 0s 3ms/step - loss: 0.3973 - accuracy: 0.8151\n",
      "Epoch 80/100\n",
      "94/94 [==============================] - 0s 3ms/step - loss: 0.3930 - accuracy: 0.8217\n",
      "Epoch 81/100\n",
      "94/94 [==============================] - 0s 3ms/step - loss: 0.3931 - accuracy: 0.8237\n",
      "Epoch 82/100\n",
      "94/94 [==============================] - 0s 3ms/step - loss: 0.3932 - accuracy: 0.8201\n",
      "Epoch 83/100\n"
     ]
    },
    {
     "name": "stdout",
     "output_type": "stream",
     "text": [
      "94/94 [==============================] - 0s 2ms/step - loss: 0.3914 - accuracy: 0.8207\n",
      "Epoch 84/100\n",
      "94/94 [==============================] - 0s 2ms/step - loss: 0.3924 - accuracy: 0.8224\n",
      "Epoch 85/100\n",
      "94/94 [==============================] - 0s 2ms/step - loss: 0.3890 - accuracy: 0.8251\n",
      "Epoch 86/100\n",
      "94/94 [==============================] - 0s 2ms/step - loss: 0.3905 - accuracy: 0.8231\n",
      "Epoch 87/100\n",
      "94/94 [==============================] - 0s 2ms/step - loss: 0.3884 - accuracy: 0.8274\n",
      "Epoch 88/100\n",
      "94/94 [==============================] - 0s 3ms/step - loss: 0.3869 - accuracy: 0.8217\n",
      "Epoch 89/100\n",
      "94/94 [==============================] - 0s 2ms/step - loss: 0.3886 - accuracy: 0.8258\n",
      "Epoch 90/100\n",
      "94/94 [==============================] - 0s 2ms/step - loss: 0.3866 - accuracy: 0.8251\n",
      "Epoch 91/100\n",
      "94/94 [==============================] - 0s 2ms/step - loss: 0.3853 - accuracy: 0.8244\n",
      "Epoch 92/100\n",
      "94/94 [==============================] - 0s 2ms/step - loss: 0.3852 - accuracy: 0.8258\n",
      "Epoch 93/100\n",
      "94/94 [==============================] - 0s 2ms/step - loss: 0.3840 - accuracy: 0.8268\n",
      "Epoch 94/100\n",
      "94/94 [==============================] - 0s 3ms/step - loss: 0.3844 - accuracy: 0.8237\n",
      "Epoch 95/100\n",
      "94/94 [==============================] - 0s 3ms/step - loss: 0.3824 - accuracy: 0.8321\n",
      "Epoch 96/100\n",
      "94/94 [==============================] - 0s 2ms/step - loss: 0.3820 - accuracy: 0.8247\n",
      "Epoch 97/100\n",
      "94/94 [==============================] - 0s 2ms/step - loss: 0.3819 - accuracy: 0.8288\n",
      "Epoch 98/100\n",
      "94/94 [==============================] - 0s 2ms/step - loss: 0.3805 - accuracy: 0.8294\n",
      "Epoch 99/100\n",
      "94/94 [==============================] - 0s 2ms/step - loss: 0.3784 - accuracy: 0.8304\n",
      "Epoch 100/100\n",
      "94/94 [==============================] - 0s 2ms/step - loss: 0.3786 - accuracy: 0.8291\n",
      "44/44 [==============================] - 0s 2ms/step - loss: 0.5608 - accuracy: 0.7299\n",
      "[0.5608136653900146, 0.729921817779541]\n",
      "44/44 [==============================] - 0s 2ms/step\n",
      "Classification Report: \n",
      "               precision    recall  f1-score   support\n",
      "\n",
      "           0       0.87      0.74      0.80      1033\n",
      "           1       0.49      0.71      0.58       374\n",
      "\n",
      "    accuracy                           0.73      1407\n",
      "   macro avg       0.68      0.72      0.69      1407\n",
      "weighted avg       0.77      0.73      0.74      1407\n",
      "\n"
     ]
    }
   ],
   "source": [
    "x_train, y_train = get_train_batch(df3_class0, df3_class1, 1495, 2990)\n",
    "y_pred2 = ANN(x_train, y_train, x_test, y_test, 'binary_crossentropy', -1)"
   ]
  },
  {
   "cell_type": "markdown",
   "id": "603e521d",
   "metadata": {},
   "source": [
    "* The F1-scores in the second batch is not impressive with F1-scores of 80% and 58% for the 0 and 1 class respectively and an accuracy of 73%, hence, I try the third batch"
   ]
  },
  {
   "cell_type": "code",
   "execution_count": 84,
   "id": "fa88df5e",
   "metadata": {
    "scrolled": true
   },
   "outputs": [
    {
     "name": "stdout",
     "output_type": "stream",
     "text": [
      "Epoch 1/100\n",
      "83/83 [==============================] - 1s 2ms/step - loss: 0.6016 - accuracy: 0.6892\n",
      "Epoch 2/100\n",
      "83/83 [==============================] - 0s 3ms/step - loss: 0.5114 - accuracy: 0.7598\n",
      "Epoch 3/100\n",
      "83/83 [==============================] - 0s 3ms/step - loss: 0.4897 - accuracy: 0.7681\n",
      "Epoch 4/100\n",
      "83/83 [==============================] - 0s 3ms/step - loss: 0.4796 - accuracy: 0.7712\n",
      "Epoch 5/100\n",
      "83/83 [==============================] - 0s 2ms/step - loss: 0.4741 - accuracy: 0.7734\n",
      "Epoch 6/100\n",
      "83/83 [==============================] - 0s 2ms/step - loss: 0.4701 - accuracy: 0.7791\n",
      "Epoch 7/100\n",
      "83/83 [==============================] - 0s 2ms/step - loss: 0.4664 - accuracy: 0.7810\n",
      "Epoch 8/100\n",
      "83/83 [==============================] - 0s 2ms/step - loss: 0.4635 - accuracy: 0.7806\n",
      "Epoch 9/100\n",
      "83/83 [==============================] - 0s 2ms/step - loss: 0.4617 - accuracy: 0.7860\n",
      "Epoch 10/100\n",
      "83/83 [==============================] - 0s 2ms/step - loss: 0.4584 - accuracy: 0.7909\n",
      "Epoch 11/100\n",
      "83/83 [==============================] - 0s 2ms/step - loss: 0.4562 - accuracy: 0.7909\n",
      "Epoch 12/100\n",
      "83/83 [==============================] - 0s 2ms/step - loss: 0.4532 - accuracy: 0.7913\n",
      "Epoch 13/100\n",
      "83/83 [==============================] - 0s 2ms/step - loss: 0.4508 - accuracy: 0.7954\n",
      "Epoch 14/100\n",
      "83/83 [==============================] - 0s 2ms/step - loss: 0.4498 - accuracy: 0.7882\n",
      "Epoch 15/100\n",
      "83/83 [==============================] - 0s 2ms/step - loss: 0.4490 - accuracy: 0.7913\n",
      "Epoch 16/100\n",
      "83/83 [==============================] - 0s 2ms/step - loss: 0.4444 - accuracy: 0.7985\n",
      "Epoch 17/100\n",
      "83/83 [==============================] - 0s 2ms/step - loss: 0.4431 - accuracy: 0.7966\n",
      "Epoch 18/100\n",
      "83/83 [==============================] - 0s 2ms/step - loss: 0.4411 - accuracy: 0.7996\n",
      "Epoch 19/100\n",
      "83/83 [==============================] - 0s 2ms/step - loss: 0.4387 - accuracy: 0.8008\n",
      "Epoch 20/100\n",
      "83/83 [==============================] - 0s 2ms/step - loss: 0.4379 - accuracy: 0.7920\n",
      "Epoch 21/100\n",
      "83/83 [==============================] - 0s 2ms/step - loss: 0.4347 - accuracy: 0.8030\n",
      "Epoch 22/100\n",
      "83/83 [==============================] - 0s 2ms/step - loss: 0.4358 - accuracy: 0.7996\n",
      "Epoch 23/100\n",
      "83/83 [==============================] - 0s 2ms/step - loss: 0.4328 - accuracy: 0.8004\n",
      "Epoch 24/100\n",
      "83/83 [==============================] - 0s 2ms/step - loss: 0.4299 - accuracy: 0.7996\n",
      "Epoch 25/100\n",
      "83/83 [==============================] - 0s 2ms/step - loss: 0.4278 - accuracy: 0.8049\n",
      "Epoch 26/100\n",
      "83/83 [==============================] - 0s 3ms/step - loss: 0.4266 - accuracy: 0.8118\n",
      "Epoch 27/100\n",
      "83/83 [==============================] - 0s 2ms/step - loss: 0.4247 - accuracy: 0.8076\n",
      "Epoch 28/100\n",
      "83/83 [==============================] - 0s 2ms/step - loss: 0.4236 - accuracy: 0.8008\n",
      "Epoch 29/100\n",
      "83/83 [==============================] - 0s 3ms/step - loss: 0.4206 - accuracy: 0.8114\n",
      "Epoch 30/100\n",
      "83/83 [==============================] - 0s 3ms/step - loss: 0.4210 - accuracy: 0.8091\n",
      "Epoch 31/100\n",
      "83/83 [==============================] - 0s 3ms/step - loss: 0.4168 - accuracy: 0.8140\n",
      "Epoch 32/100\n",
      "83/83 [==============================] - 0s 3ms/step - loss: 0.4159 - accuracy: 0.8129\n",
      "Epoch 33/100\n",
      "83/83 [==============================] - 0s 3ms/step - loss: 0.4154 - accuracy: 0.8129\n",
      "Epoch 34/100\n",
      "83/83 [==============================] - 0s 2ms/step - loss: 0.4140 - accuracy: 0.8140\n",
      "Epoch 35/100\n",
      "83/83 [==============================] - 0s 2ms/step - loss: 0.4127 - accuracy: 0.8144\n",
      "Epoch 36/100\n",
      "83/83 [==============================] - 0s 2ms/step - loss: 0.4115 - accuracy: 0.8178\n",
      "Epoch 37/100\n",
      "83/83 [==============================] - 0s 2ms/step - loss: 0.4090 - accuracy: 0.8148\n",
      "Epoch 38/100\n",
      "83/83 [==============================] - 0s 2ms/step - loss: 0.4086 - accuracy: 0.8129\n",
      "Epoch 39/100\n",
      "83/83 [==============================] - 0s 2ms/step - loss: 0.4057 - accuracy: 0.8178\n",
      "Epoch 40/100\n",
      "83/83 [==============================] - 0s 2ms/step - loss: 0.4066 - accuracy: 0.8209\n",
      "Epoch 41/100\n",
      "83/83 [==============================] - 0s 2ms/step - loss: 0.4065 - accuracy: 0.8156\n",
      "Epoch 42/100\n",
      "83/83 [==============================] - 0s 2ms/step - loss: 0.4042 - accuracy: 0.8171\n",
      "Epoch 43/100\n",
      "83/83 [==============================] - 0s 2ms/step - loss: 0.4007 - accuracy: 0.8209\n",
      "Epoch 44/100\n",
      "83/83 [==============================] - 0s 2ms/step - loss: 0.4002 - accuracy: 0.8194\n",
      "Epoch 45/100\n",
      "83/83 [==============================] - 0s 2ms/step - loss: 0.3983 - accuracy: 0.8228\n",
      "Epoch 46/100\n",
      "83/83 [==============================] - 0s 2ms/step - loss: 0.3963 - accuracy: 0.8216\n",
      "Epoch 47/100\n",
      "83/83 [==============================] - 0s 2ms/step - loss: 0.3957 - accuracy: 0.8239\n",
      "Epoch 48/100\n",
      "83/83 [==============================] - 0s 2ms/step - loss: 0.3968 - accuracy: 0.8205\n",
      "Epoch 49/100\n",
      "83/83 [==============================] - 0s 2ms/step - loss: 0.3956 - accuracy: 0.8228\n",
      "Epoch 50/100\n",
      "83/83 [==============================] - 0s 3ms/step - loss: 0.3926 - accuracy: 0.8243\n",
      "Epoch 51/100\n",
      "83/83 [==============================] - 0s 2ms/step - loss: 0.3942 - accuracy: 0.8235\n",
      "Epoch 52/100\n",
      "83/83 [==============================] - 0s 2ms/step - loss: 0.3910 - accuracy: 0.8247\n",
      "Epoch 53/100\n",
      "83/83 [==============================] - 0s 2ms/step - loss: 0.3896 - accuracy: 0.8239\n",
      "Epoch 54/100\n",
      "83/83 [==============================] - 0s 2ms/step - loss: 0.3888 - accuracy: 0.8224\n",
      "Epoch 55/100\n",
      "83/83 [==============================] - 0s 2ms/step - loss: 0.3869 - accuracy: 0.8243\n",
      "Epoch 56/100\n",
      "83/83 [==============================] - 0s 2ms/step - loss: 0.3862 - accuracy: 0.8266\n",
      "Epoch 57/100\n",
      "83/83 [==============================] - 0s 3ms/step - loss: 0.3848 - accuracy: 0.8235\n",
      "Epoch 58/100\n",
      "83/83 [==============================] - 0s 2ms/step - loss: 0.3866 - accuracy: 0.8277\n",
      "Epoch 59/100\n",
      "83/83 [==============================] - 0s 2ms/step - loss: 0.3823 - accuracy: 0.8296\n",
      "Epoch 60/100\n",
      "83/83 [==============================] - 0s 2ms/step - loss: 0.3803 - accuracy: 0.8338\n",
      "Epoch 61/100\n",
      "83/83 [==============================] - 0s 2ms/step - loss: 0.3836 - accuracy: 0.8315\n",
      "Epoch 62/100\n",
      "83/83 [==============================] - 0s 2ms/step - loss: 0.3804 - accuracy: 0.8330\n",
      "Epoch 63/100\n",
      "83/83 [==============================] - 0s 2ms/step - loss: 0.3797 - accuracy: 0.8243\n",
      "Epoch 64/100\n",
      "83/83 [==============================] - 0s 2ms/step - loss: 0.3764 - accuracy: 0.8326\n",
      "Epoch 65/100\n",
      "83/83 [==============================] - 0s 2ms/step - loss: 0.3787 - accuracy: 0.8300\n",
      "Epoch 66/100\n",
      "83/83 [==============================] - 0s 2ms/step - loss: 0.3762 - accuracy: 0.8300\n",
      "Epoch 67/100\n",
      "83/83 [==============================] - 0s 2ms/step - loss: 0.3769 - accuracy: 0.8319\n",
      "Epoch 68/100\n",
      "83/83 [==============================] - 0s 2ms/step - loss: 0.3758 - accuracy: 0.8345\n",
      "Epoch 69/100\n",
      "83/83 [==============================] - 0s 2ms/step - loss: 0.3726 - accuracy: 0.8368\n",
      "Epoch 70/100\n",
      "83/83 [==============================] - 0s 2ms/step - loss: 0.3714 - accuracy: 0.8342\n",
      "Epoch 71/100\n",
      "83/83 [==============================] - 0s 2ms/step - loss: 0.3706 - accuracy: 0.8361\n",
      "Epoch 72/100\n",
      "83/83 [==============================] - 0s 2ms/step - loss: 0.3704 - accuracy: 0.8349\n",
      "Epoch 73/100\n",
      "83/83 [==============================] - 0s 2ms/step - loss: 0.3721 - accuracy: 0.8300\n",
      "Epoch 74/100\n",
      "83/83 [==============================] - 0s 2ms/step - loss: 0.3686 - accuracy: 0.8383\n",
      "Epoch 75/100\n",
      "83/83 [==============================] - 0s 2ms/step - loss: 0.3664 - accuracy: 0.8326\n",
      "Epoch 76/100\n",
      "83/83 [==============================] - 0s 2ms/step - loss: 0.3654 - accuracy: 0.8395\n",
      "Epoch 77/100\n",
      "83/83 [==============================] - 0s 2ms/step - loss: 0.3659 - accuracy: 0.8383\n",
      "Epoch 78/100\n",
      "83/83 [==============================] - 0s 3ms/step - loss: 0.3660 - accuracy: 0.8387\n",
      "Epoch 79/100\n",
      "83/83 [==============================] - 0s 2ms/step - loss: 0.3645 - accuracy: 0.8380\n",
      "Epoch 80/100\n",
      "83/83 [==============================] - 0s 3ms/step - loss: 0.3643 - accuracy: 0.8357\n",
      "Epoch 81/100\n",
      "83/83 [==============================] - 0s 2ms/step - loss: 0.3630 - accuracy: 0.8391\n",
      "Epoch 82/100\n",
      "83/83 [==============================] - 0s 2ms/step - loss: 0.3612 - accuracy: 0.8398\n",
      "Epoch 83/100\n"
     ]
    },
    {
     "name": "stdout",
     "output_type": "stream",
     "text": [
      "83/83 [==============================] - 0s 2ms/step - loss: 0.3608 - accuracy: 0.8414\n",
      "Epoch 84/100\n",
      "83/83 [==============================] - 0s 3ms/step - loss: 0.3586 - accuracy: 0.8448\n",
      "Epoch 85/100\n",
      "83/83 [==============================] - 0s 4ms/step - loss: 0.3609 - accuracy: 0.8417\n",
      "Epoch 86/100\n",
      "83/83 [==============================] - 0s 3ms/step - loss: 0.3587 - accuracy: 0.8444\n",
      "Epoch 87/100\n",
      "83/83 [==============================] - 0s 2ms/step - loss: 0.3588 - accuracy: 0.8417\n",
      "Epoch 88/100\n",
      "83/83 [==============================] - 0s 3ms/step - loss: 0.3543 - accuracy: 0.8417\n",
      "Epoch 89/100\n",
      "83/83 [==============================] - 0s 4ms/step - loss: 0.3553 - accuracy: 0.8425\n",
      "Epoch 90/100\n",
      "83/83 [==============================] - 0s 3ms/step - loss: 0.3540 - accuracy: 0.8474\n",
      "Epoch 91/100\n",
      "83/83 [==============================] - 0s 4ms/step - loss: 0.3538 - accuracy: 0.8429\n",
      "Epoch 92/100\n",
      "83/83 [==============================] - 0s 3ms/step - loss: 0.3529 - accuracy: 0.8459\n",
      "Epoch 93/100\n",
      "83/83 [==============================] - 0s 4ms/step - loss: 0.3543 - accuracy: 0.8452\n",
      "Epoch 94/100\n",
      "83/83 [==============================] - 0s 4ms/step - loss: 0.3535 - accuracy: 0.8433\n",
      "Epoch 95/100\n",
      "83/83 [==============================] - 0s 3ms/step - loss: 0.3531 - accuracy: 0.8444\n",
      "Epoch 96/100\n",
      "83/83 [==============================] - 0s 3ms/step - loss: 0.3499 - accuracy: 0.8455\n",
      "Epoch 97/100\n",
      "83/83 [==============================] - 0s 3ms/step - loss: 0.3526 - accuracy: 0.8433\n",
      "Epoch 98/100\n",
      "83/83 [==============================] - 0s 3ms/step - loss: 0.3511 - accuracy: 0.8440\n",
      "Epoch 99/100\n",
      "83/83 [==============================] - 0s 3ms/step - loss: 0.3478 - accuracy: 0.8482\n",
      "Epoch 100/100\n",
      "83/83 [==============================] - 0s 3ms/step - loss: 0.3473 - accuracy: 0.8459\n",
      "44/44 [==============================] - 0s 2ms/step - loss: 0.6276 - accuracy: 0.7015\n",
      "[0.6276040077209473, 0.7014925479888916]\n",
      "44/44 [==============================] - 0s 2ms/step\n",
      "Classification Report: \n",
      "               precision    recall  f1-score   support\n",
      "\n",
      "           0       0.89      0.67      0.77      1033\n",
      "           1       0.46      0.78      0.58       374\n",
      "\n",
      "    accuracy                           0.70      1407\n",
      "   macro avg       0.68      0.73      0.67      1407\n",
      "weighted avg       0.78      0.70      0.72      1407\n",
      "\n"
     ]
    }
   ],
   "source": [
    "x_train, y_train = get_train_batch(df3_class0, df3_class1, 2990, 4130)\n",
    "y_pred3 = ANN(x_train, y_train, x_test, y_test, 'binary_crossentropy', -1)"
   ]
  },
  {
   "cell_type": "markdown",
   "id": "dbaafe35",
   "metadata": {},
   "source": [
    "* The F1-scores in the third batch is not impressive with F1-scores of 75% and 57% for the 0 and 1 class respectively and an accuracy of 69%."
   ]
  },
  {
   "cell_type": "markdown",
   "id": "928a5891",
   "metadata": {},
   "source": [
    "### Majority Vote:\n",
    "\n",
    "*  The idea behind Majority vote is that anything greater than 1 is the 1 class"
   ]
  },
  {
   "cell_type": "code",
   "execution_count": 85,
   "id": "4c9e413f",
   "metadata": {},
   "outputs": [],
   "source": [
    "y_pred_final = y_pred1.copy()\n",
    "\n",
    "for i in range(len(y_pred1)):\n",
    "    n_ones = y_pred1[i] + y_pred2[i] + y_pred3[i]\n",
    "    if n_ones > 1:\n",
    "        y_pred_final[i] = 1\n",
    "    else:\n",
    "        y_pred_final[i] = 0"
   ]
  },
  {
   "cell_type": "code",
   "execution_count": 86,
   "id": "537dd2f9",
   "metadata": {},
   "outputs": [
    {
     "name": "stdout",
     "output_type": "stream",
     "text": [
      "              precision    recall  f1-score   support\n",
      "\n",
      "           0       0.89      0.73      0.80      1033\n",
      "           1       0.50      0.75      0.60       374\n",
      "\n",
      "    accuracy                           0.73      1407\n",
      "   macro avg       0.69      0.74      0.70      1407\n",
      "weighted avg       0.79      0.73      0.75      1407\n",
      "\n"
     ]
    }
   ],
   "source": [
    "print(classification_report(y_test, y_pred_final))"
   ]
  },
  {
   "cell_type": "markdown",
   "id": "5a06e339",
   "metadata": {},
   "source": [
    "## Note:\n",
    "\n",
    "* In summary, the SMOTE Technique had better F1-scores and higher accuracy, hence it is chosen a the best technique to handle the imbalanced data"
   ]
  }
 ],
 "metadata": {
  "kernelspec": {
   "display_name": "Python 3 (ipykernel)",
   "language": "python",
   "name": "python3"
  },
  "language_info": {
   "codemirror_mode": {
    "name": "ipython",
    "version": 3
   },
   "file_extension": ".py",
   "mimetype": "text/x-python",
   "name": "python",
   "nbconvert_exporter": "python",
   "pygments_lexer": "ipython3",
   "version": "3.11.4"
  }
 },
 "nbformat": 4,
 "nbformat_minor": 5
}
